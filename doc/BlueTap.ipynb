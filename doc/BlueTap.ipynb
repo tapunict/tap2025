{
 "cells": [
  {
   "cell_type": "raw",
   "metadata": {},
   "source": [
    "---\n",
    "title: \"BlueTap\"\n",
    "author: \"Salvo Nicotra\"\n",
    "format: \n",
    "    revealjs:\n",
    "        width: 1280\n",
    "        heigth: 800\n",
    "incremental: true  \n",
    "execute:\n",
    "  echo: true\n",
    "  warning: false\n",
    "theme: white\n",
    "chalkboard: true\n",
    "css: style.css\n",
    "smaller: true\n",
    "scrollable: true\n",
    "include-before: |\n",
    "    <img src=\"images/unict-logo.png\" class=\"custom-logo\" alt=\"Logo\">\n",
    "include-after: |\n",
    "      <div class=\"custom-footer\">\n",
    "        *** Technologies for advanced programming (TAP) - 2024/2025 ***\n",
    "      </div>\n",
    "---"
   ]
  },
  {
   "cell_type": "markdown",
   "metadata": {
    "slideshow": {
     "slide_type": "slide"
    }
   },
   "source": [
    "<div class=\"jumbotron\">\n",
    "    <center>\n",
    "        <h1>The last mile</h1>\n",
    "        <h2>Real Time Sentiment Analysis in 5 steps</h2>\n",
    "    </center>\n",
    "</div>"
   ]
  },
  {
   "cell_type": "markdown",
   "metadata": {
    "slideshow": {
     "slide_type": "subslide"
    }
   },
   "source": [
    "![](https://i.pinimg.com/564x/85/88/9a/85889a585974c7331b10343c98a53ee8.jpg)\n",
    "[Pinterest](https://www.pinterest.ca/pin/255649716331177273/)"
   ]
  },
  {
   "cell_type": "markdown",
   "metadata": {
    "slideshow": {
     "slide_type": "slide"
    }
   },
   "source": [
    "# 1. Get data from BlueSky \n",
    "\n",
    ":::: {.columns}\n",
    "\n",
    "::: {.fragment .column width=\"50%\"}\n",
    "- Create App Password https://bsky.app/settings/app-passwords\n",
    "- Write Scraper\n",
    "- Setup .env (PYTHONUNBUFFERED=1 helps in stdout)\n",
    "- Test ```docker compose run -e BLUESKY_LOGGER=stdout blueskyscraper```\n",
    "::: \n",
    "\n",
    "::: {.fragment .column width=\"50%\"}\n",
    "\n",
    ":::\n",
    "::::"
   ]
  },
  {
   "cell_type": "markdown",
   "metadata": {
    "slideshow": {
     "slide_type": "slide"
    }
   },
   "source": [
    "# 2. Ingest data \n",
    "\n",
    ":::: {.columns}\n",
    "\n",
    "::: {.fragment .column width=\"50%\"}\n",
    "- Create config for Fluentd (comment Kafka output)\n",
    "- Test with stdout OK (limit docker compose up services)\n",
    "- ```bash docker compose up blueskyscraper fluentd ```\n",
    "- Test with Kafka\n",
    "- Uncomment Kafka Output\n",
    "- Start compose\n",
    "- ```bash docker compose up blueskyscraper fluentd broker topics```\n",
    "- Create consumer to test (profile debug?)\n",
    "- ```docker exec broker /opt/kafka/bin/kafka-console-consumer.sh --bootstrap-server broker:9092 --topic bluetap --formatter kafka.tools.DefaultMessageFormatter --property print.key=true --property print.value=true --property key.deserializer=org.apache.kafka.common.serialization.StringDeserializer --property value.deserializer=org.apache.kafka.common.serialization.StringDeserializer  --from-beginning```\n",
    "::: \n",
    "\n",
    "::: {.fragment .column width=\"50%\"}\n",
    "\n",
    ":::\n",
    "::::\n"
   ]
  },
  {
   "cell_type": "markdown",
   "metadata": {
    "slideshow": {
     "slide_type": "slide"
    }
   },
   "source": [
    "# 3. Process and Enrich Data\n",
    ":::: {.columns}\n",
    "\n",
    "::: {.fragment .column width=\"50%\"}\n",
    "\n",
    "- build tap:spark\n",
    "- ```docker build spark --tag tap:spark```\n",
    "- Please note that Spark is version 3.4.3 due to [ES issue](https://github.com/elastic/elasticsearch-hadoop/issues/2210)\n",
    "- Delete\n",
    "- ```rm -rf ./spark/code/models/sentitap/```\n",
    "- train model\n",
    "- ```docker run --hostname spark -p 4040:4040 -it --rm -v ./spark/code/:/opt/tap/ -v ./spark/dataset:/tmp/dataset tap:spark /opt/spark/bin/spark-submit /opt/tap/sentiment_analysis_model.py```\n",
    "- Check model \n",
    "- ```ls -rtl ./spark/code/models/sentitap/```\n",
    "\n",
    "\n",
    "\n",
    "::: \n",
    "\n",
    "::: {.fragment .column width=\"50%\"}\n",
    "- \n",
    "- Test Spark\n",
    "- ```docker compose up blueskyscraper fluentd broker topics spark```\n",
    "Notes\n",
    "- added volume for ivy cache Done\n",
    "- fix positive from 4 to 1\n",
    "- \n",
    ":::\n",
    "::::"
   ]
  },
  {
   "cell_type": "markdown",
   "metadata": {
    "slideshow": {
     "slide_type": "slide"
    }
   },
   "source": [
    "# 4. Index Data\n",
    "## from spark to elastic search"
   ]
  },
  {
   "cell_type": "markdown",
   "metadata": {
    "slideshow": {
     "slide_type": "subslide"
    }
   },
   "source": [
    "![](https://static-www.elastic.co/v3/assets/bltefdd0b53724fa2ce/blt7f9ca77d747fb53d/5c240aa34cca137b3874384e/es-hadoop-diagram.svg)"
   ]
  },
  {
   "cell_type": "markdown",
   "metadata": {
    "slideshow": {
     "slide_type": "subslide"
    }
   },
   "source": [
    "# Doc please\n",
    "* https://www.elastic.co/what-is/elasticsearch-hadoop\n",
    "* https://www.elastic.co/guide/en/elasticsearch/hadoop/current/spark.html"
   ]
  },
  {
   "cell_type": "markdown",
   "metadata": {
    "slideshow": {
     "slide_type": "subslide"
    }
   },
   "source": [
    "![](https://codinginfinite.com/wp-content/uploads/2019/05/documentation-where-were-going-we-dont-need-documentation.jpg)\n",
    "[Source](https://codinginfinite.com/2019-programming-funny-jokes-memes/)"
   ]
  },
  {
   "cell_type": "markdown",
   "metadata": {
    "slideshow": {
     "slide_type": "slide"
    }
   },
   "source": [
    "## 4.1 Define the index"
   ]
  },
  {
   "cell_type": "markdown",
   "metadata": {
    "slideshow": {
     "slide_type": "subslide"
    }
   },
   "source": [
    "Altough Elastic Search do automatically index creation and guess on field, \n",
    "sometimes is better to predefine the index and define mapping"
   ]
  },
  {
   "cell_type": "markdown",
   "metadata": {
    "slideshow": {
     "slide_type": "subslide"
    }
   },
   "source": [
    "This requires add elasticsearch python module to Spark docker image"
   ]
  },
  {
   "cell_type": "markdown",
   "metadata": {
    "slideshow": {
     "slide_type": "fragment"
    }
   },
   "source": [
    "```Dockerfile \n",
    "RUN pip install pyspark numpy elasticsearch\n",
    "``` "
   ]
  },
  {
   "cell_type": "markdown",
   "metadata": {
    "slideshow": {
     "slide_type": "subslide"
    }
   },
   "source": [
    "Then we need to create the mapping"
   ]
  },
  {
   "cell_type": "markdown",
   "metadata": {
    "slideshow": {
     "slide_type": "fragment"
    }
   },
   "source": [
    "#### Credit for mapping https://medium.com/@CMpoi/elasticsearch-defining-the-mapping-of-twitter-data-dafad0f50695 Timestamp\n",
    "```python\n",
    "es_mapping = {\n",
    "    \"mappings\": {\n",
    "        \"properties\": \n",
    "            {\n",
    "                \"created_at\": {\"type\": \"date\",\"format\": \"EEE MMM dd HH:mm:ss Z yyyy\"},\n",
    "                \"text\": {\"type\": \"text\",\"fielddata\": True}\n",
    "            }\n",
    "    }\n",
    "}\n",
    "```"
   ]
  },
  {
   "cell_type": "markdown",
   "metadata": {
    "slideshow": {
     "slide_type": "subslide"
    }
   },
   "source": [
    "Then connect to Elasticsearch and create the index"
   ]
  },
  {
   "cell_type": "markdown",
   "metadata": {
    "slideshow": {
     "slide_type": "fragment"
    }
   },
   "source": [
    "```python\n",
    "es = Elasticsearch(hosts=elastic_host) \n",
    "# make an API call to the Elasticsearch cluster\n",
    "# and have it return a response:\n",
    "response = es.indices.create(\n",
    "    index=elastic_index,\n",
    "    body=es_mapping,\n",
    "    ignore=400 # ignore 400 already exists code\n",
    ")\n",
    "\n",
    "if 'acknowledged' in response:\n",
    "    if response['acknowledged'] == True:\n",
    "        print (\"INDEX MAPPING SUCCESS FOR INDEX:\", response['index'])\n",
    "```"
   ]
  },
  {
   "cell_type": "markdown",
   "metadata": {
    "slideshow": {
     "slide_type": "subslide"
    }
   },
   "source": [
    "![](https://encrypted-tbn0.gstatic.com/images?q=tbn%3AANd9GcTMTXhs9fd7M_qo4XA_6OiKLX9GaTldJWPICDtIGCB7SuE6q9NM&usqp=CAU)"
   ]
  },
  {
   "cell_type": "markdown",
   "metadata": {
    "slideshow": {
     "slide_type": "slide"
    }
   },
   "source": [
    "## 4.2 Define Schema"
   ]
  },
  {
   "cell_type": "markdown",
   "metadata": {
    "slideshow": {
     "slide_type": "subslide"
    }
   },
   "source": [
    "```python\n",
    "tweetKafka = tp.StructType([\n",
    "    tp.StructField(name= 'id_str', dataType= tp.StringType(),  nullable= True),\n",
    "    tp.StructField(name= 'created_at', dataType= tp.StringType(),  nullable= True),\n",
    "    tp.StructField(name= 'text',       dataType= tp.StringType(),  nullable= True)\n",
    "])\n",
    "```"
   ]
  },
  {
   "cell_type": "markdown",
   "metadata": {
    "slideshow": {
     "slide_type": "subslide"
    }
   },
   "source": [
    "![](https://www.memecreator.org/static/images/memes/4772258.jpg)"
   ]
  },
  {
   "cell_type": "markdown",
   "metadata": {
    "slideshow": {
     "slide_type": "slide"
    }
   },
   "source": [
    "## 4.3 Configure Elastic Search Parameters"
   ]
  },
  {
   "cell_type": "markdown",
   "metadata": {},
   "source": [
    "```python\n",
    "elastic_host=\"10.0.100.51\"\n",
    "elastic_index=\"tapwteet\"\n",
    "elastic_document=\"_doc\"\n",
    "}\n",
    "```"
   ]
  },
  {
   "cell_type": "markdown",
   "metadata": {
    "slideshow": {
     "slide_type": "subslide"
    }
   },
   "source": [
    "![](http://www.quickmeme.com/img/6d/6d9b3966c39d711a732a842f41bc39f7023eb4fafdc9ecb22d0f8ca1c2fee05e.jpg)\n",
    "[Source](http://www.quickmeme.com/meme/3tvnt7)"
   ]
  },
  {
   "cell_type": "markdown",
   "metadata": {
    "slideshow": {
     "slide_type": "slide"
    }
   },
   "source": [
    "## 4.4 Take data"
   ]
  },
  {
   "cell_type": "markdown",
   "metadata": {
    "slideshow": {
     "slide_type": "subslide"
    }
   },
   "source": [
    "```python\n",
    "   data2.select(\"id_str\", \"created_at\", \"text\", \"prediction\") \\\n",
    "```"
   ]
  },
  {
   "cell_type": "markdown",
   "metadata": {
    "slideshow": {
     "slide_type": "subslide"
    }
   },
   "source": [
    "![](https://i.imgflip.com/3ddyn4.jpg)\n",
    "[Source](https://imgflip.com/i/3ddyn4)"
   ]
  },
  {
   "cell_type": "markdown",
   "metadata": {
    "slideshow": {
     "slide_type": "slide"
    }
   },
   "source": [
    "## 4.5 Send to ES"
   ]
  },
  {
   "cell_type": "markdown",
   "metadata": {
    "slideshow": {
     "slide_type": "subslide"
    }
   },
   "source": [
    "```python\n",
    " # Write the stream to elasticsearch\n",
    " df.writeStream \\\n",
    "    .option(\"checkpointLocation\", \"/save/location\") \\\n",
    "    .format(\"es\") \\\n",
    "    .start(elastic_index) \\\n",
    " ```"
   ]
  },
  {
   "cell_type": "markdown",
   "metadata": {
    "slideshow": {
     "slide_type": "fragment"
    }
   },
   "source": [
    "```bash\n",
    "# Start Elastic Search\n",
    "bash elasticSearch.sh\n",
    "\n",
    "\n",
    "bash sparkSubmitPythonV.sh mastodon_stream_elastic_nml.py \"org.apache.spark:spark-sql-kafka-0-10_2.12:3.4.0,org.elasticsearch:elasticsearch-spark-30_2.12:8.7.1\"\n",
    "```"
   ]
  },
  {
   "cell_type": "markdown",
   "metadata": {
    "slideshow": {
     "slide_type": "subslide"
    }
   },
   "source": [
    "![](https://i.chzbgr.com/full/2922317568/h5AC86B91/but-wait-theres-more)"
   ]
  },
  {
   "cell_type": "markdown",
   "metadata": {
    "slideshow": {
     "slide_type": "subslide"
    }
   },
   "source": [
    "# 5. Data Visualization\n",
    "## Define Data View in  Kibana"
   ]
  },
  {
   "cell_type": "markdown",
   "metadata": {
    "slideshow": {
     "slide_type": "subslide"
    }
   },
   "source": [
    "# Biblio"
   ]
  },
  {
   "cell_type": "markdown",
   "metadata": {
    "slideshow": {
     "slide_type": "subslide"
    }
   },
   "source": [
    "* https://www.elastic.co/what-is/elasticsearch-hadoop\n",
    "* https://www.elastic.co/guide/en/elasticsearch/hadoop/current/spark.html\n",
    "* https://medium.com/@akkidx/indexing-into-elasticsearch-using-spark-code-snippets-55eabc753272\n",
    "* https://github.com/vinayak0792/SparkStreaming/blob/master/consumer.py"
   ]
  },
  {
   "cell_type": "code",
   "execution_count": null,
   "metadata": {},
   "outputs": [],
   "source": []
  }
 ],
 "metadata": {
  "celltoolbar": "Slideshow",
  "kernelspec": {
   "display_name": "Python 3 (ipykernel)",
   "language": "python",
   "name": "python3"
  },
  "language_info": {
   "codemirror_mode": {
    "name": "ipython",
    "version": 3
   },
   "file_extension": ".py",
   "mimetype": "text/x-python",
   "name": "python",
   "nbconvert_exporter": "python",
   "pygments_lexer": "ipython3",
   "version": "3.10.12"
  },
  "rise": {
   "autolaunch": true,
   "enable_chalkboard": "true",
   "footer": "<div class=\"tap-footer\"> *** Technologies for advanced programming (TAP) - 2024 ***</div>",
   "header": "<div class=\"tap-header\"></div>",
   "scroll": true,
   "theme": "white"
  }
 },
 "nbformat": 4,
 "nbformat_minor": 4
}
