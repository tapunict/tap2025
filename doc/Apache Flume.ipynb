{
 "cells": [
  {
   "cell_type": "raw",
   "metadata": {
    "editable": true,
    "raw_mimetype": "",
    "slideshow": {
     "slide_type": ""
    },
    "tags": []
   },
   "source": [
    "---\n",
    "title: \"Apache Flume\"\n",
    "author: \"Salvo Nicotra\"\n",
    "format: revealjs\n",
    "incremental: true  \n",
    "execute:\n",
    "  echo: true\n",
    "  warning: false\n",
    "theme: white\n",
    "chalkboard: true\n",
    "css: style.css\n",
    "smaller: true\n",
    "scrollable: true\n",
    "include-before: |\n",
    "    <img src=\"images/unict-logo.png\" class=\"custom-logo\" alt=\"Logo\">\n",
    "include-after: |\n",
    "      <div class=\"custom-footer\">\n",
    "        *** Technologies for advanced programming (TAP) - 2024/2025 ***\n",
    "      </div>\n",
    "---"
   ]
  },
  {
   "cell_type": "markdown",
   "metadata": {
    "editable": true,
    "slideshow": {
     "slide_type": "slide"
    },
    "tags": []
   },
   "source": [
    "# Apache Flume\n",
    "\n",
    "![](https://flume.apache.org/_static/flume-logo.png)\n"
   ]
  },
  {
   "cell_type": "markdown",
   "metadata": {
    "editable": true,
    "slideshow": {
     "slide_type": "slide"
    },
    "tags": []
   },
   "source": [
    "## What is Apache Flume ?\n",
    ":::: {.columns}\n",
    "\n",
    "::: {.fragment .column width=\"50%\"}\n",
    "Apache Flume is a \n",
    "\n",
    "- *distributed*: multiple agents manage multiple sources and sinks\n",
    "- reliable: events are staged in the channel and delivered using a transactional approach\n",
    "- available: open source, mature\n",
    "system\n",
    "::: \n",
    "\n",
    "::: {.fragment .column width=\"50%\"}\n",
    "for efficiently:\n",
    "\n",
    "- collecting: make them avalaible\n",
    "- aggregating: merge together from different sources\n",
    "- moving: transfer from one place to another\n",
    "\n",
    ":::\n",
    "::::\n",
    "\n",
    ":::{.fragment}\n",
    "from many different sources: refered both type of data and different place to a centralized data store\n",
    ":::\n",
    "\n"
   ]
  },
  {
   "cell_type": "markdown",
   "metadata": {
    "editable": true,
    "slideshow": {
     "slide_type": "slide"
    },
    "tags": []
   },
   "source": [
    "## Flume Usage\n",
    "The use of Apache Flume is not only restricted to log data aggregation. \n",
    "\n",
    "Since data sources are customizable, Flume can be used to transport massive quantities of event data including but not limited to:\n",
    "- network traffic data\n",
    "- social-media-generated data\n",
    "- email messages \n",
    "\n",
    "and pretty much any data source possible"
   ]
  },
  {
   "cell_type": "markdown",
   "metadata": {
    "editable": true,
    "slideshow": {
     "slide_type": "slide"
    },
    "tags": [],
    "toc-hr-collapsed": true
   },
   "source": [
    "## Event Data\n",
    "\n",
    ":::: {.columns}\n",
    "\n",
    "::: {.fragment .column width=\"50%\"}\n",
    "\n",
    "**High Level Architecture**\n",
    "\n",
    "![](images/flume-dataflow.png){.fragment}\n",
    "::: \n",
    "\n",
    "::: {.fragment .column width=\"50%\"}\n",
    "\n",
    "**Event**\n",
    "A Flume event is defined as a unit of data flow having a byte payload and an optional set of string attributes\n",
    "\n",
    "![](images/flume-event.png){.fragment}\n",
    ":::\n",
    "::::\n",
    "\n",
    "\n"
   ]
  },
  {
   "cell_type": "markdown",
   "metadata": {
    "editable": true,
    "slideshow": {
     "slide_type": "slide"
    },
    "tags": []
   },
   "source": [
    "## Components"
   ]
  },
  {
   "cell_type": "markdown",
   "metadata": {
    "editable": true,
    "slideshow": {
     "slide_type": "subslide"
    },
    "tags": [],
    "toc-hr-collapsed": true,
    "toc-nb-collapsed": true
   },
   "source": [
    "### Source\n",
    "\n",
    ":::: {.columns}\n",
    "\n",
    "::: {.fragment .column width=\"50%\"}\n",
    "- A Flume source consumes events delivered to it by an external source like a web server. \n",
    "- The external source sends events to Flume in a format that is recognized by the target Flume source. \n",
    "- Sources can be pollable or event driven\n",
    "::: \n",
    "\n",
    "::: {.fragment .column width=\"50%\"}\n",
    "![](images/flume-source.png)\n",
    ":::\n",
    "::::\n"
   ]
  },
  {
   "cell_type": "markdown",
   "metadata": {
    "editable": true,
    "slideshow": {
     "slide_type": "subslide"
    },
    "tags": []
   },
   "source": [
    "### Channel\n",
    "\n",
    ":::: {.columns}\n",
    "\n",
    "::: {.fragment .column width=\"50%\"}\n",
    "- When a Flume source receives an event, it stores it into one or more channels.\n",
    "\n",
    "- The channel is a passive store that keeps the event until it’s consumed by a Flume sink\n",
    "\n",
    "- A channel is a conduit for events between a source and a sink. Channels also dictate the durability of event delivery between a source and a sink. \n",
    "::: \n",
    "\n",
    "::: {.fragment .column width=\"50%\"}\n",
    "Coundit image here\n",
    ":::\n",
    "::::\n"
   ]
  },
  {
   "cell_type": "markdown",
   "metadata": {
    "editable": true,
    "slideshow": {
     "slide_type": "subslide"
    },
    "tags": []
   },
   "source": [
    "### Sink\n",
    "\n",
    ":::: {.columns}\n",
    "\n",
    "::: {.fragment .column width=\"50%\"}\n",
    "A sink is the counterpart to the source in that it is a destination for data in Flume. \n",
    "\n",
    "Some of the builtin sinks that are included with Flume are \n",
    "\n",
    "- the Hadoop Distributed File System sink which writes events to HDFS in various ways\n",
    "\n",
    "- the logger sink which simply logs all events received\n",
    "\n",
    "- the null sink which is Flume's version of /dev/null\n",
    "\n",
    "::: \n",
    "\n",
    "::: {.fragment .column width=\"50%\"}\n",
    "![](images/nemo.gif)\n",
    ":::\n",
    "::::\n",
    "\n",
    "\n"
   ]
  },
  {
   "cell_type": "markdown",
   "metadata": {
    "slideshow": {
     "slide_type": "subslide"
    }
   },
   "source": [
    "## Agent\n",
    "\n",
    "::::{.columns}\n",
    "\n",
    "::: {.fragment .column width=\"50%\"}\n",
    "\n",
    "- A Flume agent puts together the components to be connected:\n",
    "1. source\n",
    "2. channel \n",
    "3. sink\n",
    "\n",
    "- Components are named and configured for each channel\n",
    "- Multiple agent can be run at the same time in the same process\n",
    "\n",
    ":::\n",
    "\n",
    "::: {.fragment .column width=\"50%\"}\n",
    "![](images/flume-agent.png)\n",
    ":::\n",
    "\n",
    "::::\n",
    "\n",
    "\n",
    "\n",
    "\n"
   ]
  },
  {
   "cell_type": "markdown",
   "metadata": {
    "slideshow": {
     "slide_type": "slide"
    }
   },
   "source": [
    "### Agent Configuration \n",
    "\n",
    "```properties\n",
    "# example.conf: A single-node Flume configuration\n",
    "\n",
    "# Name the components on this agent\n",
    "a1.sources = r1\n",
    "a1.sinks = k1\n",
    "a1.channels = c1\n",
    "\n",
    "# Describe/configure the source\n",
    "a1.sources.r1.type = netcat\n",
    "a1.sources.r1.bind = localhost\n",
    "a1.sources.r1.port = 44444\n",
    "\n",
    "# Describe the sink\n",
    "a1.sinks.k1.type = logger\n",
    "\n",
    "# Use a channel which buffers events in memory\n",
    "a1.channels.c1.type = memory\n",
    "a1.channels.c1.capacity = 1000\n",
    "a1.channels.c1.transactionCapacity = 100\n",
    "\n",
    "# Bind the source and sink to the channel\n",
    "a1.sources.r1.channels = c1\n",
    "a1.sinks.k1.channel = c1\n",
    "```"
   ]
  },
  {
   "cell_type": "markdown",
   "metadata": {
    "slideshow": {
     "slide_type": "slide"
    }
   },
   "source": [
    "# Running Flume using Docker "
   ]
  },
  {
   "cell_type": "markdown",
   "metadata": {
    "slideshow": {
     "slide_type": "subslide"
    }
   },
   "source": [
    "## Dockerfile\n",
    "\n",
    "```DockerFile\n",
    "FROM openjdk:8-alpine\n",
    "LABEL mantainer=\"Salvo Nicotra\"\n",
    "ENV FLUME_VERSION=\"1.11.0\"\n",
    "ENV PATH=/opt/flume/bin:$PATH\n",
    "ENV HADOOP_VERSION=2.10.1\n",
    "ENV HADOOP_HOME=/opt/flume/lib/hadoop-$HADOOP_VERSION\n",
    "\n",
    "RUN apk update && apk add bash\n",
    "\n",
    "ADD pkg/apache-flume-${FLUME_VERSION}-bin.tar.gz /opt/\n",
    "\n",
    "# Create sym link\n",
    "RUN ln -s /opt/apache-flume-${FLUME_VERSION}-bin /opt/flume\n",
    "\n",
    "ADD pkg/hadoop-$HADOOP_VERSION.tar.gz /opt/flume/lib/\n",
    "\n",
    "RUN mkdir /var/log/netcat\n",
    "ADD start-flume.sh /opt/flume/bin/start-flume\n",
    "# Copy All conf here\n",
    "ADD conf/* /opt/flume/conf/\n",
    "\n",
    "EXPOSE 44444\n",
    "\n",
    "ENTRYPOINT [ \"start-flume\" ]\n",
    "```"
   ]
  },
  {
   "cell_type": "markdown",
   "metadata": {
    "slideshow": {
     "slide_type": "subslide"
    }
   },
   "source": [
    "## Wrapper Entry Point\n",
    "\n",
    "```bash\n",
    "#!/bin/bash\n",
    "set -v\n",
    "FLUME_CONF_DIR=/opt/flume/conf\n",
    "FLUME_AGENT_NAME=a1 \n",
    "\n",
    "[[ -d \"${FLUME_CONF_DIR}\"  ]]  || { echo \"Flume config dir not mounted in /opt/flume-config\";  exit 1; }\n",
    "[[ -z \"${FLUME_AGENT_NAME}\" ]] && { echo \"FLUME_AGENT_NAME required\"; exit 1; }\n",
    "\n",
    "echo \"Starting flume agent : ${FLUME_AGENT_NAME}\"\n",
    "\n",
    "COMMAND=\"flume-ng agent \\\n",
    "  -c ${FLUME_CONF_DIR} \\\n",
    "  -f ${FLUME_CONF_DIR}/${FLUME_CONF_FILE}\\\n",
    "  -n ${FLUME_AGENT_NAME} \\\n",
    "  -Dflume.root.logger=INFO,console\n",
    "  -Dorg.apache.flume.log.printconfig=true \n",
    "  -Dorg.apache.flume.log.rawdata=true\n",
    "  \"\n",
    "\n",
    "${COMMAND}\n",
    "```"
   ]
  },
  {
   "cell_type": "markdown",
   "metadata": {
    "slideshow": {
     "slide_type": "slide"
    }
   },
   "source": [
    "# Flume Hello World\n",
    "\n",
    "```bash\n",
    "# Only once\n",
    "docker network create --subnet=10.0.100.0/24 tap\n",
    "# Build\n",
    "docker build flume/ --tag tap:flume\n",
    "# Run\n",
    "docker run --rm --name flumehw --network tap --ip 10.0.100.10 -p 44444:44444  -e FLUME_CONF_FILE=netcatExample.conf tap:flume\n",
    "# Get flume logs\n",
    "docker exec -it flumehw tail -f flume.log\n",
    "```"
   ]
  },
  {
   "cell_type": "markdown",
   "metadata": {
    "editable": true,
    "slideshow": {
     "slide_type": "slide"
    },
    "tags": []
   },
   "source": [
    "# Hadoop Demo"
   ]
  },
  {
   "cell_type": "markdown",
   "metadata": {
    "editable": true,
    "slideshow": {
     "slide_type": "slide"
    },
    "tags": []
   },
   "source": [
    "## HDFS\n",
    ":::: {.columns}\n",
    "\n",
    "::: {.fragment .column width=\"50%\"}\n",
    "\n",
    "- HDFS is the primary distributed storage used by Hadoop applications. A HDFS cluster primarily consists of a NameNode that manages the file system metadata and DataNodes that store the actual data. \n",
    "\n",
    "- The HDFS architecture diagram depicts basic interactions among NameNode, the DataNodes, and the clients. Clients contact NameNode for file metadata or file modifications and perform actual file I/O directly with the DataNodes.\n",
    "::: \n",
    "\n",
    "::: {.fragment .column width=\"50%\"}\n",
    "![](images/hdfs.gif)\n",
    ":::\n",
    "::::"
   ]
  },
  {
   "cell_type": "markdown",
   "metadata": {
    "slideshow": {
     "slide_type": "subslide"
    }
   },
   "source": [
    "## Hadoop in Docker\n",
    "<https://github.com/big-data-europe/docker-hadoop>\n",
    "\n",
    "Last update 4 years ago...\n",
    "\n",
    "![](https://i.imgflip.com/8l9zv8.jpg)"
   ]
  },
  {
   "cell_type": "markdown",
   "metadata": {
    "editable": true,
    "slideshow": {
     "slide_type": "subslide"
    },
    "tags": []
   },
   "source": [
    "### Let's build a TAP one\n",
    "```bash\n",
    "docker build hadoop --tag tap:hadoop \n",
    "\n",
    "docker run --name namenode --hostname namenode -it --rm --network tap -p 9870:9870  tap:hadoop /bin/bash -c \"hdfs namenode -format && hdfs namenode -fs hdfs://namenode:9000\"\n",
    "\n",
    "docker run --name datanode --hostname datanode -it --rm --network tap  tap:hadoop /bin/bash -c \"hdfs datanode -fs hdfs://namenode:9000\"\n",
    "\n",
    "```\n",
    "\n",
    "| Service         | Address                                            |\n",
    "| ---------       |-----------------                                   |\n",
    "| Namenode        |<http://nifi:9870/dfshealth.html#tab-overview>        |       "
   ]
  },
  {
   "cell_type": "markdown",
   "metadata": {
    "editable": true,
    "slideshow": {
     "slide_type": "subslide"
    },
    "tags": []
   },
   "source": [
    "### Configure Flume\n",
    "\n",
    "```properties\n",
    "a1.channels = c1\n",
    "a1.sinks = k1\n",
    "a1.sinks.k1.type = hdfs\n",
    "a1.sinks.k1.channel = c1\n",
    "a1.sinks.k1.hdfs.path = hdfs://namenode:9000/flume/events/%y-%m-%d/%H%M/%S\n",
    "a1.sinks.k1.hdfs.filePrefix = events-\n",
    "a1.sinks.k1.hdfs.round = true\n",
    "a1.sinks.k1.hdfs.roundValue = 10\n",
    "a1.sinks.k1.hdfs.roundUnit = minute\n",
    "```"
   ]
  },
  {
   "cell_type": "markdown",
   "metadata": {
    "editable": true,
    "slideshow": {
     "slide_type": "slide"
    },
    "tags": []
   },
   "source": [
    "### Demo Netcat - Hdfs\n",
    "\n",
    "```bash\n",
    "\n",
    "# Create /flume in hdfs\n",
    "docker run --rm --network tap -p 44444:44444 -it -e FLUME_CONF_FILE=netcatHdfs.conf tap:flume\n",
    "\n",
    "\n",
    "```"
   ]
  }
 ],
 "metadata": {
  "celltoolbar": "Slideshow",
  "kernelspec": {
   "display_name": "Python 3 (ipykernel)",
   "language": "python",
   "name": "python3"
  },
  "language_info": {
   "codemirror_mode": {
    "name": "ipython",
    "version": 3
   },
   "file_extension": ".py",
   "mimetype": "text/x-python",
   "name": "python",
   "nbconvert_exporter": "python",
   "pygments_lexer": "ipython3",
   "version": "3.10.12"
  },
  "rise": {
   "autolaunch": true,
   "enable_chalkboard": "true",
   "footer": "<div class=\"tap-footer\"> *** Technologies for advanced programming (TAP) - 2024 ***</div>",
   "header": "<div class=\"tap-header\"></div>",
   "scroll": true,
   "theme": "white"
  }
 },
 "nbformat": 4,
 "nbformat_minor": 4
}
