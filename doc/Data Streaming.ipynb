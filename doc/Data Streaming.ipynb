{
 "cells": [
  {
   "cell_type": "raw",
   "metadata": {
    "editable": true,
    "raw_mimetype": "",
    "slideshow": {
     "slide_type": ""
    },
    "tags": []
   },
   "source": [
    "---\n",
    "title: \"Data Streaming\"\n",
    "author: \"Salvo Nicotra\"\n",
    "format: \n",
    "    revealjs:\n",
    "        width: 1280\n",
    "        heigth: 800\n",
    "incremental: true  \n",
    "execute:\n",
    "  echo: true\n",
    "  warning: false\n",
    "theme: white\n",
    "chalkboard: true\n",
    "css: style.css\n",
    "smaller: true\n",
    "scrollable: true\n",
    "include-before: |\n",
    "    <img src=\"images/unict-logo.png\" class=\"custom-logo\" alt=\"Logo\">\n",
    "include-after: |\n",
    "      <div class=\"custom-footer\">\n",
    "        *** Technologies for advanced programming (TAP) - 2024/2025 ***\n",
    "      </div>\n",
    "---"
   ]
  },
  {
   "cell_type": "markdown",
   "metadata": {
    "slideshow": {
     "slide_type": "slide"
    }
   },
   "source": [
    "# Data Streaming{background-color=\"white\" background-image=\"images/stream-data.png\" background-size=\"50%\" background-opacity=\"1\"}"
   ]
  },
  {
   "cell_type": "markdown",
   "metadata": {
    "slideshow": {
     "slide_type": "slide"
    }
   },
   "source": [
    "## A bit of history\n",
    ":::: {.columns}\n",
    "\n",
    "::: {.fragment .column width=\"50%\"}\n",
    "![](https://i.imgflip.com/54ff5r.jpg)\n",
    "[NicsMeme](https://imgflip.com/i/54ff5r)\n",
    "::: \n",
    "\n",
    "::: {.fragment .column width=\"50%\"}\n",
    "![](https://i.imgflip.com/54ffdn.jpg)\n",
    "[NicsMeme](https://imgflip.com/i/54ffdn)\n",
    ":::\n",
    "::::"
   ]
  },
  {
   "cell_type": "markdown",
   "metadata": {
    "slideshow": {
     "slide_type": "slide"
    }
   },
   "source": [
    "# Message-oriented middleware (MOM)\n",
    "<https://www.researchgate.net/publication/271436605_Extending_message-oriented_middleware_using_interception>"
   ]
  },
  {
   "cell_type": "markdown",
   "metadata": {
    "slideshow": {
     "slide_type": "slide"
    }
   },
   "source": [
    "## What is a MOM ?\n",
    "\n",
    ":::: {.columns}\n",
    "\n",
    "::: {.fragment .column width=\"50%\"}\n",
    "\n",
    "- Software or hardware infrastructure supporting **sending** and **receiving** messages between _distributed systems_.\n",
    "- MOM allows _application modules_ to be distributed over **heterogeneous** platforms and reduces the complexity of developing applications that span multiple operating systems and network protocols.\n",
    "- The **middleware** creates a distributed communications **layer** that insulates the application developer from the details of the various operating systems and network interfaces. \n",
    "- APIs that extend across diverse platforms and networks are typically provided by MOM\n",
    "::: \n",
    "\n",
    "::: {.fragment .column width=\"50%\"}\n",
    "![MOM async](images/mom-async.PNG)\n",
    ":::\n",
    "::::"
   ]
  },
  {
   "cell_type": "markdown",
   "metadata": {
    "slideshow": {
     "slide_type": "subslide"
    }
   },
   "source": [
    "### Async interaction model example\n",
    "\n",
    ":::: {.columns}\n",
    "\n",
    "::: {.fragment .column width=\"50%\"}\n",
    "![Traditional call ](images/207px-Google_Voice_icon.png)\n",
    "::: \n",
    "\n",
    "::: {.fragment .column width=\"50%\"}\n",
    "![Voice Message](images/messaggi-vocali-whatsapp.jpg)\n",
    ":::\n",
    "::::"
   ]
  },
  {
   "cell_type": "markdown",
   "metadata": {
    "editable": true,
    "slideshow": {
     "slide_type": "subslide"
    },
    "tags": []
   },
   "source": [
    "### Blocking async :)\n",
    "![](images/vocale10min.jpg)\n",
    "[Source](https://www.facebook.com/BoomFriendzoned/posts/grazie-a-francesco-gottuso/1114123052108547/)"
   ]
  },
  {
   "cell_type": "markdown",
   "metadata": {
    "editable": true,
    "slideshow": {
     "slide_type": "slide"
    },
    "tags": []
   },
   "source": [
    "## Advantages\n",
    "https://en.wikipedia.org/wiki/Message-oriented_middleware#Advantages"
   ]
  },
  {
   "cell_type": "markdown",
   "metadata": {
    "editable": true,
    "slideshow": {
     "slide_type": "subslide"
    },
    "tags": []
   },
   "source": [
    "### Asynchronicity\n",
    "\n",
    ":::: {.columns}\n",
    "\n",
    "::: {.fragment .column width=\"50%\"}\n",
    "1. A client makes an API call to send a message to a destination managed by the __provider__.\n",
    "2. The call invokes __provider services__ to route and deliver the message.\n",
    "3. Once it has sent the message, the client can continue to do other work, **confident** that the provider retains the message until a receiving client retrieves it. \n",
    "\n",
    "::: \n",
    "\n",
    "::: {.fragment .column width=\"50%\"}\n",
    "![](images/async-pray.jpg)\n",
    ":::\n",
    "::::"
   ]
  },
  {
   "cell_type": "markdown",
   "metadata": {
    "editable": true,
    "slideshow": {
     "slide_type": "subslide"
    },
    "tags": []
   },
   "source": [
    "### Loosely Coupled\n",
    "The message-based model, coupled with the mediation of the provider, makes it possible to create a system of loosely coupled components\n",
    "\n",
    "![](images/coupling-sketches-cropped-1.png){.r-scretch }\n"
   ]
  },
  {
   "cell_type": "markdown",
   "metadata": {
    "editable": true,
    "slideshow": {
     "slide_type": "subslide"
    },
    "tags": []
   },
   "source": [
    "### Routing\n",
    "\n",
    ":::: {.columns}\n",
    "\n",
    "::: {.fragment .column width=\"50%\"}\n",
    "- Many message-oriented middleware implementations depend on a message queue system\n",
    "- Some implementations permit routing logic to be provided by the messaging layer itself, while others depend on client applications to provide routing information or allow for a mix of both paradigms.\n",
    "- Some implementations make use of broadcast or multicast distribution paradigms.\n",
    "::: \n",
    "\n",
    "::: {.fragment .column width=\"50%\"}\n",
    "![](images/message-queue.jpg)\n",
    "\n",
    "<https://www.slideshare.net/Bozho/overview-of-message-queues>\n",
    ":::\n",
    "::::\n"
   ]
  },
  {
   "cell_type": "markdown",
   "metadata": {
    "editable": true,
    "slideshow": {
     "slide_type": "subslide"
    },
    "tags": []
   },
   "source": [
    "### Transformation\n",
    ":::: {.columns}\n",
    "\n",
    "::: {.fragment .column width=\"50%\"}\n",
    "- In a message-based middleware system, the message received at the destination need _not be identical_ to the message originally sent.\n",
    "- In conjunction with the routing and broadcast/multicast facilities, one application can send a message in its own native format, and two or more other applications may each receive a copy of the message in their own native format.\n",
    "- Many modern MOM systems provide sophisticated message transformation (or mapping) tools which allow programmers to specify transformation rules applicable to a simple GUI drag-and-drop operation.\n",
    "::: \n",
    "\n",
    "::: {.fragment .column width=\"50%\"}\n",
    "![](images/coolmom.webp)\n",
    "\n",
    "[The MOM with a message](https://raymondmeester.medium.com/the-mom-with-a-message-4a85bf14c04b)\n",
    ":::\n",
    "::::"
   ]
  },
  {
   "cell_type": "markdown",
   "metadata": {
    "editable": true,
    "slideshow": {
     "slide_type": "slide"
    },
    "tags": []
   },
   "source": [
    "## Disadvantages"
   ]
  },
  {
   "cell_type": "markdown",
   "metadata": {
    "editable": true,
    "jp-MarkdownHeadingCollapsed": true,
    "slideshow": {
     "slide_type": "subslide"
    },
    "tags": []
   },
   "source": [
    "### Less is more ?\n",
    "- The primary disadvantage of many message-oriented middleware systems is that they require an extra component in the architecture, the message transfer agent (message broker).\n",
    "\n",
    "- As with any system, adding another component can lead to reductions in performance and reliability, and can also make the system as a whole more difficult and expensive to maintain."
   ]
  },
  {
   "cell_type": "markdown",
   "metadata": {
    "editable": true,
    "slideshow": {
     "slide_type": "subslide"
    },
    "tags": []
   },
   "source": [
    "### Synchronous may be a need\n",
    "\n",
    ":::: {.columns}\n",
    "\n",
    "::: {.fragment .column width=\"50%\"}\n",
    "- In addition, many inter-application communications have an intrinsically synchronous aspect, with the sender specifically wanting to wait for a reply to a message before continuing (see real-time computing and near-real-time for extreme cases). \n",
    "- Because message-based communication inherently functions asynchronously, it may not fit well in such situations. \n",
    "- That said, most MOM systems have facilities to group a request and a response as a single pseudo-synchronous transaction.\n",
    "- With a synchronous messaging system, the calling function does not return until the called function has finished its task.\n",
    "::: \n",
    "\n",
    "::: {.fragment .column width=\"50%\"}\n",
    "It applies to humans also\n",
    "\n",
    "![](https://www.process.st/wp-content/uploads/2024/02/How-to-Combat-Zoom-Fatigue-Synchronous-vs-Asynchronous-Communication-Rev1-07.png)\n",
    "\n",
    "https://www.process.st/synchronous-vs-asynchronous-communication/\n",
    ":::\n",
    "::::\n"
   ]
  },
  {
   "cell_type": "markdown",
   "metadata": {
    "editable": true,
    "slideshow": {
     "slide_type": "subslide"
    },
    "tags": []
   },
   "source": [
    "### Shit happens\n",
    "\n",
    ":::: {.columns}\n",
    "\n",
    "::: {.fragment .column width=\"50%\"}\n",
    "- In a loosely coupled asynchronous system, the calling client can continue to load work upon the recipient until the resources needed to handle this work are depleted and the called component fails. \n",
    "\n",
    "- Of course, these conditions can be minimized or avoided by monitoring performance and adjusting message flow, but this is work that is not needed with a synchronous messaging system.\n",
    "::: \n",
    "\n",
    "::: {.fragment .column width=\"50%\"}\n",
    "![](https://i.imgflip.com/8lwdzn.jpg)\n",
    ":::\n",
    "::::\n"
   ]
  },
  {
   "cell_type": "markdown",
   "metadata": {
    "editable": true,
    "slideshow": {
     "slide_type": "subslide"
    },
    "tags": []
   },
   "source": [
    "## In conclusion \n",
    "\n",
    "- The important thing is to understand the advantages and liabilities of each kind of system. Each system is appropriate for different kinds of tasks. \n",
    "\n",
    "- Sometimes, a combination of the two kinds of systems is required to obtain the desired behavior."
   ]
  },
  {
   "cell_type": "markdown",
   "metadata": {
    "editable": true,
    "slideshow": {
     "slide_type": "slide"
    },
    "tags": []
   },
   "source": [
    "# MOM Implementation"
   ]
  },
  {
   "cell_type": "markdown",
   "metadata": {
    "editable": true,
    "slideshow": {
     "slide_type": "subslide"
    },
    "tags": []
   },
   "source": [
    "## Message Broker\n",
    "\n",
    "<https://en.wikipedia.org/wiki/Message_broker>\n",
    "\n",
    ":::: {.columns}\n",
    "\n",
    "::: {.fragment .column width=\"50%\"}\n",
    "- A message broker (also known as an integration broker or interface engine) is an intermediary computer program module that translates a message from the formal messaging protocol of the sender to the formal messaging protocol of the receiver.\n",
    "\n",
    "- Message brokers are elements in telecommunication or computer networks where software applications communicate by exchanging formally-defined messages\n",
    "::: \n",
    "\n",
    "::: {.fragment .column width=\"50%\"}\n",
    "![](images/message-broker.png)\n",
    ":::\n",
    "::::\n",
    "\n",
    "\n"
   ]
  },
  {
   "cell_type": "markdown",
   "metadata": {
    "editable": true,
    "slideshow": {
     "slide_type": "subslide"
    },
    "tags": []
   },
   "source": [
    "## Functionalites of a message broker\n",
    "\n",
    ":::: {.columns}\n",
    "\n",
    "::: {.fragment .column width=\"50%\"}\n",
    "**Roles**\n",
    "\n",
    "- The primary purpose of a broker is to take incoming messages from applications and perform some action on them.\n",
    "- Message brokers can decouple end-points, meet specific non-functional requirements, and facilitate reuse of intermediary functions.\n",
    "- For example, a message broker may be used to manage a workload queue or message queue for multiple receivers, providing reliable storage, guaranteed message delivery and perhaps transaction management  \n",
    "\n",
    "::: \n",
    "\n",
    "::: {.fragment .column width=\"50%\"}\n",
    "**Actions**\n",
    "\n",
    "- Route messages to one or more destinations\n",
    "- Transform messages to an alternative representation\n",
    "- Perform message aggregation, decomposing messages into multiple messages and sending them to their destination, then recomposing the responses into one message to return to the user\n",
    "- Interact with an external repository to augment a message or store it\n",
    "- Invoke web services to retrieve data\n",
    "- Respond to events or errors\n",
    "- Provide content and topic-based message routing using the publish–subscribe pattern\n",
    "\n",
    ":::\n",
    "::::\n"
   ]
  },
  {
   "cell_type": "markdown",
   "metadata": {
    "editable": true,
    "slideshow": {
     "slide_type": "subslide"
    },
    "tags": []
   },
   "source": [
    "##  [Message Broker Models](<https://www.ibm.com/topics/message-brokers>)\n",
    ":::: {.columns}\n",
    "\n",
    "::: {.fragment .column width=\"50%\"}\n",
    "\n",
    "**Point to Point messaging**\n",
    "\n",
    "- This is the distribution pattern utilized in message queues with a one-to-one relationship between the message’s sender and receiver. \n",
    "- Each message in the queue is sent to only one recipient and is consumed only once. \n",
    "- Point-to-point messaging is called for when a message must be acted upon only one time. \n",
    "- Example: Payroll and financial transaction processing.\n",
    "\n",
    "::: \n",
    "\n",
    "::: {.fragment .column width=\"50%\"}\n",
    "**Publish/subscribe messaging**\n",
    "\n",
    "- In this message distribution pattern, often referred to as “pub/sub,” the producer of each message publishes it to a topic, and multiple message consumers subscribe to topics from which they want to receive messages. \n",
    "\n",
    "- All messages published to a topic are distributed to all the applications subscribed to it. \n",
    "\n",
    "- This is a broadcast-style distribution method, in which there is a one-to-many relationship between the message’s publisher and its consumers. \n",
    "\n",
    "- Example: airline send updates about the landing times or delay status of its flights\n",
    ":::\n",
    "::::"
   ]
  },
  {
   "cell_type": "markdown",
   "metadata": {
    "slideshow": {
     "slide_type": "subslide"
    }
   },
   "source": [
    "### Some approches\n",
    "\n",
    ":::: {.columns}\n",
    "\n",
    "::: {.fragment .column width=\"50%\"}\n",
    "**API**\n",
    "\n",
    "- [JMS](https://jcp.org/en/jsr/detail?id=343 ): The Java Message Service (JMS) Now [Jakarta](https://jakarta.ee/specifications/messaging/)\n",
    "- [Celery](https://docs.celeryq.dev/en/stable/index.html): Distributed Task Queue\n",
    "::: \n",
    "\n",
    "::: {.fragment .column width=\"50%\"}\n",
    "**Protocols**\n",
    "\n",
    "| Protocol                          | Name                                       |First Released |\n",
    "| --------                          | ----                                       |----           |\n",
    "| [AMQP](https://www.amqp.org/)     | Advanced Message Queuing Protocol          | 2003          |\n",
    "| [STOMP](https://stomp.github.io/) | Simple Text Oriented Messaging Protocol    | 2005 (tbc)    |\n",
    "| [MQTT](https://mqtt.org/)         | Message Queuing Telemetry Transport        | 1999          |\n",
    "| [XMPP](https://xmpp.org/)         | Extensible Messaging and Presence Protocol | 1999          |\n",
    ":::\n",
    "::::"
   ]
  },
  {
   "cell_type": "markdown",
   "metadata": {
    "slideshow": {
     "slide_type": "subslide"
    }
   },
   "source": [
    "## List of message broker software \n",
    "\n",
    "<https://en.wikipedia.org/wiki/Message_broker>"
   ]
  },
  {
   "cell_type": "markdown",
   "metadata": {
    "slideshow": {
     "slide_type": "subslide"
    }
   },
   "source": [
    "## As a software \n",
    "\n",
    ":::: {.columns}\n",
    "\n",
    "::: {.fragment .column width=\"50%\"}\n",
    "**Apache**\n",
    "\n",
    "- [Apache Active MQ / Artemis](https://activemq.apache.org/) (incudes HornetQ, ex JBoss)\n",
    "- [Apache Camel](https://camel.apache.org/)\n",
    "- [Apache Kafka](https://kafka.apache.org/)\n",
    "- [Apache Qpid](https://qpid.apache.org/)\n",
    "- [Apache Thrift](https://thrift.apache.org/)\n",
    "- [Apache Pulsar](https://pulsar.apache.org/)\n",
    "::: \n",
    "\n",
    "::: {.fragment .column width=\"50%\"}\n",
    "\n",
    "**Rest of the world**\n",
    "\n",
    "- [RabbitMQ](https://www.rabbitmq.com/)\n",
    "- [Eclipse Mosquitto](https://mosquitto.org/)\n",
    "- [Redis](https://redis.io/)\n",
    ":::\n",
    "::::"
   ]
  },
  {
   "cell_type": "markdown",
   "metadata": {
    "slideshow": {
     "slide_type": "subslide"
    }
   },
   "source": [
    "## As a service \n",
    ":::: {.columns}\n",
    "\n",
    "::: {.fragment .column width=\"50%\"}\n",
    "\n",
    "**Cloud**\n",
    "\n",
    "- [Amazon MQ](https://aws.amazon.com/amazon-mq/)\n",
    "- [Amazon Simple Queue Service](https://aws.amazon.com/it/sqs/)\n",
    "- [Amazon Simple Notification Service](https://aws.amazon.com/it/sns/)\n",
    "- [Amazon Managed Streaming for Apache Kafka](https://aws.amazon.com/it/msk/)\n",
    "\n",
    "- [Cloud Pub/Sub](https://cloud.google.com/pubsub/docs)\n",
    "- [Azure Service Bus](https://azure.microsoft.com/en-us/products/service-bus)\n",
    "::: \n",
    "\n",
    "::: {.fragment .column width=\"50%\"}\n",
    "**Vendors**\n",
    "\n",
    "- [IBM MQ](https://www.ibm.com/products/mq)\n",
    "- [HiveMQ](https://www.hivemq.com/) \n",
    "- [Confluent](https://www.confluent.io/)\n",
    ":::\n",
    "::::\n"
   ]
  },
  {
   "cell_type": "markdown",
   "metadata": {
    "slideshow": {
     "slide_type": "subslide"
    }
   },
   "source": [
    "## Without Message Broker\n",
    "\n",
    "- [0MQ](http://wiki.zeromq.org/whitepapers:brokerless) (used by [Jupyter](https://jupyter-client.readthedocs.io/en/stable/messaging.htm))"
   ]
  },
  {
   "cell_type": "markdown",
   "metadata": {
    "slideshow": {
     "slide_type": "slide"
    }
   },
   "source": [
    "# From Messages to Events{background-color=\"black\" background-image=\"images/fromMessagesTo Events.png\" background-size=\"100%\" background-opacity=\"0.5\"}\n"
   ]
  },
  {
   "cell_type": "markdown",
   "metadata": {
    "slideshow": {
     "slide_type": "slide"
    }
   },
   "source": [
    "## Data Stream\n",
    "<https://www.researchgate.net/publication/326508370_Definition_of_Data_Streams>\n",
    "\n",
    "- A data stream is a countably inﬁnite sequence of elements.\n",
    "- Different models of data streams exist that take different approaches with respect to the mutability of the stream and to the structure of stream elements\n",
    "- Stream processing refers to analyzing data streams on-the-ﬂy to produce new results as new input data becomes available.\n",
    "- Time is a central concept in stream processing: in almost all models of streams, each stream element is associated with one or more timestamps from a given time domain that might indicate,for instance, when the element was generated,the validity of its content, or when it became available for processing."
   ]
  },
  {
   "cell_type": "markdown",
   "metadata": {
    "slideshow": {
     "slide_type": "subslide"
    }
   },
   "source": [
    "## Stream Processing\n",
    "<https://medium.com/stream-processing/what-is-stream-processing-1eadfca11b97>\n",
    "\n",
    "- Stream Processing is a Big data technology.\n",
    "- It is used to query continuous data stream and detect conditions, quickly, within a small time period from the time of receiving the data.\n",
    "- The detection time period varies from few milliseconds to minutes.\n",
    "- For example, with stream processing, you can receive an alert when the temperature has reached the freezing point, querying data streams coming from a temperature sensor.\n",
    "- It is also called by many names: real-time analytics, streaming analytics, Complex Event Processing, real-time streaming analytics, and event processing. Although some terms historically had differences, now tools (frameworks) have converged under term stream processing. "
   ]
  },
  {
   "cell_type": "markdown",
   "metadata": {
    "slideshow": {
     "slide_type": "slide"
    }
   },
   "source": [
    "# Data Streaming Software\n",
    "\n",
    "Let's give a look to \n",
    "<https://www.gartner.com/reviews/market/event-stream-processing>"
   ]
  },
  {
   "cell_type": "markdown",
   "metadata": {
    "slideshow": {
     "slide_type": "slide"
    }
   },
   "source": [
    "# Stream Processing vs MOM\n",
    "![](images/momvsstream.svg){.lightbox}"
   ]
  },
  {
   "cell_type": "markdown",
   "metadata": {
    "slideshow": {
     "slide_type": "slide"
    }
   },
   "source": [
    "## AWS"
   ]
  },
  {
   "cell_type": "markdown",
   "metadata": {
    "slideshow": {
     "slide_type": "slide"
    }
   },
   "source": [
    "### SQS\n",
    "\n",
    ":::: {.columns}\n",
    "\n",
    "::: {.fragment .column width=\"50%\"}\n",
    "- Amazon SQS offers a reliable, highly-scalable hosted queue for storing messages as they travel between applications or microservices. It moves data between distributed application components and helps you decouple these components. \n",
    "\n",
    "- Amazon SQS provides common middleware constructs such as dead-letter queues and poison-pill management. It also provides a generic web services API and can be accessed by any programming language that the AWS SDK supports.\n",
    "\n",
    "- Amazon SQS supports both standard and FIFO queues.\n",
    "::: \n",
    "\n",
    "::: {.fragment .column width=\"50%\"}\n",
    "![](images/aws-sqs.png){.lightbox}\n",
    ":::\n",
    "::::\n",
    "\n"
   ]
  },
  {
   "cell_type": "markdown",
   "metadata": {
    "slideshow": {
     "slide_type": "slide"
    }
   },
   "source": [
    "### Kinesis\n",
    "\n",
    ":::: {.columns}\n",
    "\n",
    "::: {.fragment .column width=\"50%\"}\n",
    "- Amazon Kinesis Streams allows real-time processing of streaming big data and the ability to read and replay records to multiple Amazon Kinesis Applications.\n",
    "- The Amazon Kinesis Client Library (KCL) delivers all records for a given partition key to the same record processor, making it easier to build multiple applications that read from the same Amazon Kinesis stream (for example, to perform counting, aggregation, and filtering).\n",
    "::: \n",
    "\n",
    "::: {.fragment .column width=\"50%\"}\n",
    "![](https://d2908q01vomqb2.cloudfront.net/fc074d501302eb2b93e2554793fcaf50b3bf7291/2022/11/16/Figure-1.-Building-event-driven-architecture-with-IoT-sensor-data.png){.lightbox}\n",
    ":::\n",
    "::::\n",
    "\n",
    "\n",
    "\n"
   ]
  },
  {
   "cell_type": "markdown",
   "metadata": {
    "slideshow": {
     "slide_type": "slide"
    }
   },
   "source": [
    "## Kafka \n",
    "can do both \n",
    "https://itnext.io/is-kafka-a-message-queue-or-a-stream-processing-platform-7decc3cf1cf\n",
    "\n",
    "![](https://miro.medium.com/max/786/1*6iWJA-Pk0t20_h7ry_j5IQ.png){.r-scratch .lightbox}"
   ]
  },
  {
   "cell_type": "markdown",
   "metadata": {
    "slideshow": {
     "slide_type": "subslide"
    }
   },
   "source": [
    "## Research is on going"
   ]
  },
  {
   "cell_type": "markdown",
   "metadata": {
    "slideshow": {
     "slide_type": "subslide"
    }
   },
   "source": [
    "## A Survey on the Evolution of Stream Processing Systems\n",
    "Marios Fragkoulis, Paris Carbone, Vasiliki Kalavri, Asterios Katsifodimos\n",
    "\n",
    "Preprint, 3 Aug 2020\n",
    "Published 2023 \n",
    "https://link.springer.com/article/10.1007/s00778-023-00819-8\n",
    "\n",
    "Stream processing has been an active research field for more than 20 years, but it is now witnessing its prime time due to recent successful efforts by the research community and numerous worldwide open-source communities. This survey provides a comprehensive overview of fundamental aspects of stream processing systems and their evolution in the functional areas of out-of-order data management, state management, fault tolerance, high availability, load management, elasticity, and reconfiguration. We review noteworthy past research findings, outline the similarities and differences between early ('00-'10) and modern ('11-'18) streaming systems, and discuss recent trends and open problems.\n",
    "\n",
    "![](images/overview-evolution-stream-processing-fragkoulis-2020.png){.lightbox}"
   ]
  },
  {
   "cell_type": "markdown",
   "metadata": {
    "slideshow": {
     "slide_type": "subslide"
    }
   },
   "source": [
    "## Event-Driven Architectures Done Right, Apache Kafka\n",
    "\n",
    "[▶![](http://img.youtube.com/vi/A_mstzRGfIE/0.jpg)](https://www.youtube.com/watch?v=A_mstzRGfIE)\n"
   ]
  }
 ],
 "metadata": {
  "celltoolbar": "Slideshow",
  "kernelspec": {
   "display_name": "Python 3 (ipykernel)",
   "language": "python",
   "name": "python3"
  },
  "language_info": {
   "codemirror_mode": {
    "name": "ipython",
    "version": 3
   },
   "file_extension": ".py",
   "mimetype": "text/x-python",
   "name": "python",
   "nbconvert_exporter": "python",
   "pygments_lexer": "ipython3",
   "version": "3.10.12"
  },
  "rise": {
   "autolaunch": true,
   "enable_chalkboard": "true",
   "footer": "<div class=\"tap-footer\"> *** Technologies for advanced programming (TAP) - 2024 ***</div>",
   "header": "<div class=\"tap-header\"></div>",
   "scroll": true,
   "theme": "white"
  }
 },
 "nbformat": 4,
 "nbformat_minor": 4
}
