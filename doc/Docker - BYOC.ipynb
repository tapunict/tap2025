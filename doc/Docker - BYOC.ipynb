{
 "cells": [
  {
   "cell_type": "raw",
   "metadata": {},
   "source": [
    "---\n",
    "title: \"Fluentd\"\n",
    "author: \"Salvo Nicotra\"\n",
    "format: \n",
    "    revealjs:\n",
    "        width: 1280\n",
    "        heigth: 800\n",
    "incremental: true  \n",
    "execute:\n",
    "  echo: true\n",
    "  warning: false\n",
    "theme: white\n",
    "chalkboard: true\n",
    "css: style.css\n",
    "smaller: true\n",
    "scrollable: true\n",
    "include-before: |\n",
    "    <img src=\"images/unict-logo.png\" class=\"custom-logo\" alt=\"Logo\">\n",
    "include-after: |\n",
    "      <div class=\"custom-footer\">\n",
    "        *** Technologies for advanced programming (TAP) - 2024/2025 ***\n",
    "      </div>\n",
    "---"
   ]
  },
  {
   "cell_type": "raw",
   "metadata": {
    "editable": true,
    "raw_mimetype": "",
    "slideshow": {
     "slide_type": ""
    },
    "tags": []
   },
   "source": [
    "---\n",
    "title: \"Docker BYOC\"\n",
    "author: \"Salvo Nicotra\"\n",
    "format: revealjs\n",
    "incremental: true  \n",
    "execute:\n",
    "  echo: true\n",
    "  warning: false\n",
    "theme: white\n",
    "chalkboard: true\n",
    "css: style.css\n",
    "smaller: true\n",
    "scrollable: true\n",
    "include-before: |\n",
    "    <img src=\"images/unict-logo.png\" class=\"custom-logo\" alt=\"Logo\">\n",
    "include-after: |\n",
    "      <div class=\"custom-footer\">\n",
    "        *** Technologies for advanced programming (TAP) - 2024/2025 ***\n",
    "      </div>\n",
    "---"
   ]
  },
  {
   "cell_type": "markdown",
   "metadata": {
    "editable": true,
    "slideshow": {
     "slide_type": "slide"
    },
    "tags": []
   },
   "source": [
    "# Docker Build Your Own Container{background-color=\"black\" background-image=\"images/bob.jpg\" background-size=\"100%\" background-opacity=\"0.5\"}\n"
   ]
  },
  {
   "cell_type": "markdown",
   "metadata": {
    "slideshow": {
     "slide_type": "slide"
    },
    "tags": []
   },
   "source": [
    "## Let's start with an example\n",
    "::: {.fragment}\n",
    "### Node Bulletin\n",
    "\n",
    "```bash\n",
    "git clone https://github.com/dockersamples/node-bulletin-board\n",
    "cd node-bulletin-board/bulletin-board-app\n",
    "```\n",
    "\n",
    ":::"
   ]
  },
  {
   "cell_type": "markdown",
   "metadata": {
    "slideshow": {
     "slide_type": "subslide"
    }
   },
   "source": [
    "### Let's see the Docker File\n",
    "\n",
    "```dockerfile\n",
    "FROM node:current-slim\n",
    "\n",
    "WORKDIR /usr/src/app\n",
    "COPY package.json .\n",
    "RUN npm install\n",
    "\n",
    "EXPOSE 8080\n",
    "CMD [ \"npm\", \"start\" ]\n",
    "\n",
    "COPY . .\n",
    "\n",
    "```"
   ]
  },
  {
   "cell_type": "markdown",
   "metadata": {
    "slideshow": {
     "slide_type": "slide"
    }
   },
   "source": [
    "### Build Image\n",
    "```bash\n",
    "docker image build -t bulletinboard:1.0 .\n",
    "```"
   ]
  },
  {
   "cell_type": "markdown",
   "metadata": {
    "slideshow": {
     "slide_type": "slide"
    }
   },
   "source": [
    "## Run your image as a container\n",
    "```bash\n",
    "docker container run --publish 8000:8080 --rm --name bb bulletinboard:1.0\n",
    "```"
   ]
  },
  {
   "cell_type": "markdown",
   "metadata": {
    "slideshow": {
     "slide_type": "slide"
    }
   },
   "source": [
    "## Is running ?\n",
    "```bash\n",
    "docker ps\n",
    "```"
   ]
  },
  {
   "cell_type": "markdown",
   "metadata": {
    "slideshow": {
     "slide_type": "subslide"
    }
   },
   "source": [
    "### Delete it\n",
    "```bash\n",
    "docker container rm --force bb\n",
    "```"
   ]
  },
  {
   "cell_type": "markdown",
   "metadata": {
    "slideshow": {
     "slide_type": "subslide"
    }
   },
   "source": [
    "## Try your self\n",
    "\n",
    "Go to [Docker Sample](https://github.com/dockersamples/)\n",
    "\n",
    "Choose an example and try to run it"
   ]
  },
  {
   "cell_type": "markdown",
   "metadata": {
    "slideshow": {
     "slide_type": "slide"
    }
   },
   "source": [
    "## Build an image using Dockerfile\n",
    "[NicsMeme](https://imgflip.com/i/50yk9z) inspired by [Docker Anti Patterns](https://codefresh.io/containers/docker-anti-patterns/)\n",
    "\n",
    "![](https://i.imgflip.com/50yk9z.jpg){.r-stretch}\n"
   ]
  },
  {
   "cell_type": "markdown",
   "metadata": {
    "slideshow": {
     "slide_type": "subslide"
    }
   },
   "source": [
    "### Build command\n",
    "<https://docs.docker.com/build/>\n",
    "\n",
    "::::{.columns}\n",
    "\n",
    "::: {.fragment .column width=\"50%\"}\n",
    "![](images/DockerBuild.png)\n",
    ":::\n",
    "\n",
    "::: {.fragment .column width=\"50%\"}\n",
    "\n",
    "Run the cli command ```docker build```\n",
    "\n",
    "- without arguments search for a Dockerfile in the same directory\n",
    "- -f option  specify the path of the docker file ```bash $ docker build -f /path/to/a/Dockerfile ```\n",
    "- -t or --tag define a name for the image\n",
    ":::\n",
    "\n",
    "::::\n",
    "\n",
    "\n"
   ]
  },
  {
   "cell_type": "markdown",
   "metadata": {
    "slideshow": {
     "slide_type": "slide"
    }
   },
   "source": [
    "### Syntax \n",
    "<https://docs.docker.com/reference/dockerfile/>\n",
    "\n",
    "- Docker can build images automatically by reading the instructions from a Dockerfile. \n",
    "- A Dockerfile is a text document that contains all the commands a user could call on the command line to assemble an image.\n",
    "\n",
    "::: {.fragment}\n",
    "```DockerFile\n",
    "# Comment\n",
    "INSTRUCTION arguments\n",
    "```\n",
    "\n",
    "*Convention: instructions are in UPPER case*\n",
    ":::"
   ]
  },
  {
   "cell_type": "markdown",
   "metadata": {
    "cell_style": "center",
    "slideshow": {
     "slide_type": "subslide"
    }
   },
   "source": [
    "#### FROM\n",
    "<https://docs.docker.com/engine/reference/builder/#from>\n",
    "\n",
    "```DockerFile\n",
    "FROM [--platform=<platform>] <image>[:<tag>] [AS <name>]\n",
    "```\n",
    "\n",
    ":::: {.columns}\n",
    "\n",
    "::: {.fragment .column width=\"50%\"}\n",
    "- First instruction after comments/parser directives/arg\n",
    "- Indicates the Image source (from a registry)\n",
    "- Can use ARG parameter \n",
    "- it's your baby!\n",
    "::: \n",
    "\n",
    "::: {.fragment .column width=\"50%\"}\n",
    "\n",
    "![](images/babyboss.png)\n",
    "\n",
    ":::\n",
    "::::\n",
    "\n",
    "\n",
    "\n",
    "\n",
    "\n"
   ]
  },
  {
   "cell_type": "markdown",
   "metadata": {
    "cell_style": "center",
    "slideshow": {
     "slide_type": "subslide"
    }
   },
   "source": [
    "#### ARG\n",
    "<https://docs.docker.com/engine/reference/builder/#arg>\n",
    "\n",
    ":::: {.columns}\n",
    "\n",
    "::: {.fragment .column width=\"70%\"}\n",
    "\n",
    "Define enviroment variabile used in the Builder\n",
    "\n",
    "```DockerFile\n",
    "ARG <name>[=<default value>]\n",
    "```    \n",
    "\n",
    "Argument can be used in DockerFile FROM, RUN, ...\n",
    "also passed during the BUILD\n",
    "\n",
    "```bash\n",
    "$ docker build --build-arg user=what_user \n",
    "```\n",
    "\n",
    "ARG are referenced using standard ${VARIABLE} notation\n",
    "\n",
    "Be careful with ARG\n",
    "\n",
    "- scope starts from the line where is defined\n",
    "- ENV wins on ARG in RUN \n",
    "- There are a set of predefined ARG (like HTTP_PROXY)\n",
    "- Don't pass secret in ARG \n",
    "\n",
    "::: \n",
    "\n",
    "::: {.fragment .column width=\"30%\"}\n",
    "\n",
    "![](images/arguments-penauts.png)\n",
    "\n",
    ":::\n",
    "::::\n",
    "\n",
    "\n",
    "\n",
    "\n"
   ]
  },
  {
   "cell_type": "markdown",
   "metadata": {
    "cell_style": "center",
    "slideshow": {
     "slide_type": "subslide"
    }
   },
   "source": [
    "#### ENV\n",
    "\n",
    "<https://docs.docker.com/engine/reference/builder/#env>\n",
    "\n",
    ":::: {.columns}\n",
    "\n",
    "::: {.fragment .column width=\"50%\"}\n",
    "\n",
    "Define enviroment variabile that _persist_ in the container\n",
    "\n",
    "```DockerFile\n",
    "ENV <key> <value>\n",
    "ENV <key>=<value> ...\n",
    "```    \n",
    "\n",
    "Enviroment variable can be also passed while starting \n",
    "\n",
    "```bash\n",
    "$ docker run -e \"deep=purple\"\n",
    "```\n",
    "\n",
    "::: \n",
    "\n",
    "::: {.fragment .column width=\"50%\"}\n",
    "![](images/wikipedia-env-variable.png)\n",
    ":::\n",
    "::::\n",
    "\n",
    "\n",
    "\n"
   ]
  },
  {
   "cell_type": "markdown",
   "metadata": {
    "cell_style": "center",
    "slideshow": {
     "slide_type": "subslide"
    },
    "tags": []
   },
   "source": [
    "#### RUN (shell mode)\n",
    "<https://docs.docker.com/engine/reference/builder/#env>\n",
    "\n",
    ":::: {.columns}\n",
    "\n",
    "::: {.fragment .column width=\"50%\"}\n",
    "\n",
    "Execute commands in the _layer_ on top of the current image\n",
    "\n",
    " (shell form, the command is run in a shell, which by default is /bin/sh -c on Linux or cmd /S /C on Windows)\n",
    "\n",
    "```DockerFile\n",
    "RUN <command>\n",
    "```    \n",
    "\n",
    "The default shell for the shell form can be changed using the SHELL command.\n",
    "\n",
    "In the shell form you can use a \\ (backslash) to continue a single RUN instruction onto the next line. For example, consider these two lines:\n",
    "\n",
    "```DockerFile\n",
    "RUN /bin/bash -c 'source $HOME/.bashrc; \\\n",
    "echo $HOME'\n",
    "```\n",
    "\n",
    "::: \n",
    "\n",
    "::: {.fragment .column width=\"50%\"}\n",
    "\n",
    "![](images/docker-layers.png)\n",
    "\n",
    ":::\n",
    "::::\n",
    "\n",
    "\n",
    "\n"
   ]
  },
  {
   "cell_type": "markdown",
   "metadata": {
    "cell_style": "center",
    "slideshow": {
     "slide_type": "subslide"
    },
    "tags": []
   },
   "source": [
    "#### RUN (exec mode)\n",
    "<https://docs.docker.com/engine/reference/builder/#run>\n",
    "\n",
    "::: {.fragment}\n",
    "\n",
    "```DockerFile\n",
    "RUN [\"executable\", \"param1\", \"param2\"] (exec form)\n",
    "```    \n",
    "\n",
    "Unlike the shell form, the exec form does not invoke a command shell. This means that normal shell processing does not happen. \n",
    "\n",
    ":::\n",
    "\n",
    "::: {.fragment}\n",
    "> To use a different shell, other than ‘/bin/sh’, use the exec form passing in the desired shell. For example, \n",
    "\n",
    "```DockerFile\n",
    "RUN [\"/bin/bash\", \"-c\", \"echo hello\"]\n",
    "```\n",
    ":::\n",
    "\n",
    "::: {.fragment}\n",
    "For example, `RUN [ \"echo\", \"$HOME\" ]` will not do variable substitution on $HOME. If you want shell processing then either use the shell form or execute a shell directly, for example:\n",
    "\n",
    "```DockerFile\n",
    "RUN [ \"sh\", \"-c\", \"echo $HOME\" ]. \n",
    "```\n",
    "\n",
    "> The exec form is parsed as a JSON array, which means that you must use double-quotes (“) around words not single-quotes (‘).\n",
    "\n",
    ":::"
   ]
  },
  {
   "cell_type": "markdown",
   "metadata": {
    "cell_style": "center",
    "slideshow": {
     "slide_type": "subslide"
    }
   },
   "source": [
    "## CMD (exec form)\n",
    "\n",
    "The main purpose of a CMD is to provide defaults for an executing container. These defaults can include an executable, or they can omit the executable, in which case you must specify an ENTRYPOINT instruction as well.\n",
    "\n",
    "Exec form, this is the preferred form\n",
    "\n",
    "```DockerFile\n",
    "CMD [\"executable\",\"param1\",\"param2\"] \n",
    "```    \n",
    "\n",
    "Like RUN exec form do not invoke a shell, so in order to force the variabile substituion done by shell use\n",
    "\n",
    "```DockerFile\n",
    "CMD [ \"sh\", \"-c\", \"echo $HOME\" ]\n",
    "```\n",
    "\n",
    "https://docs.docker.com/engine/reference/builder/#env"
   ]
  },
  {
   "cell_type": "markdown",
   "metadata": {
    "cell_style": "center",
    "slideshow": {
     "slide_type": "subslide"
    }
   },
   "source": [
    "## CMD (shell form)\n",
    "\n",
    "The main purpose of a CMD is to provide defaults for an executing container. These defaults can include an executable, or they can omit the executable, in which case you must specify an ENTRYPOINT instruction as well.\n",
    "\n",
    "\n",
    "```DockerFile\n",
    "CMD command param1 param2\n",
    "```    \n",
    "\n",
    "If you want to run your <command> without a shell then you must express the command as a JSON array and give the full path to the executable. This array form is the preferred format of CMD. Any additional parameters must be individually expressed as strings in the array:\n",
    " \n",
    "```DockerFile\n",
    "FROM ubuntu\n",
    "CMD echo \"This is a test.\" | wc -l\n",
    "```\n",
    "\n",
    "https://docs.docker.com/engine/reference/builder/#cmd"
   ]
  },
  {
   "cell_type": "markdown",
   "metadata": {
    "slideshow": {
     "slide_type": "subslide"
    },
    "tags": []
   },
   "source": [
    "#### Confused ? \n",
    "\n",
    "\n",
    ":::: {.columns}\n",
    "\n",
    "::: {.fragment .column width=\"50%\"}\n",
    "\n",
    "![](images/gandalf-docker-cmd.png)\n",
    "\n",
    "::: \n",
    "\n",
    "::: {.fragment .column width=\"50%\"}\n",
    "\n",
    "- RUN actually runs a command and commits the result\n",
    "- CMD does not execute anything at build time, but specifies the intended command for the image.\n",
    ":::\n",
    "::::\n",
    "\n"
   ]
  },
  {
   "cell_type": "markdown",
   "metadata": {
    "cell_style": "center",
    "slideshow": {
     "slide_type": "subslide"
    },
    "tags": []
   },
   "source": [
    "## ENTRYPOINT \n",
    "<https://docs.docker.com/reference/dockerfile/#entrypoint>\n",
    "\n",
    "\n",
    "\n",
    "::::{.columns}\n",
    "\n",
    "::: {.fragment .column width=\"50%\"}\n",
    "\n",
    ":::{.callout-note}\n",
    "An `ENTRYPOINT` allows you to configure a container that will run as an executable.\n",
    "::: \n",
    "\n",
    "- Exec form  ```DockerFile ENTRYPOINT [\"executable\", \"param1\", \"param2\"]```\n",
    "- Shell form ```DockerFile ENTRYPOINT command param1 param2```\n",
    ":::\n",
    "\n",
    "::: {.fragment .column width=\"50%\"}\n",
    "\n",
    "**Example**\n",
    "\n",
    "- Run a container from [Official Image](https://hub.docker.com/_/nginx) ```bash docker run -i -t --rm -p 80:80 nginx ```\n",
    "- Test that it works correctly on the machine\n",
    "- Try ```bash docker run -i -t --rm -p 80:80 nginx cat docker-entrypoint.sh```\n",
    "- Let give a look to the [Dockerfile](https://hub.docker.com/layers/library/nginx/latest/images/sha256-396c6e925f28fbbed95a475d27c18886289c2bbc53231534dc86c163558b5e4b?context=explore)\n",
    "\n",
    ":::\n",
    "\n",
    "\n",
    "\n",
    "::::\n",
    "\n",
    "\n",
    "\n",
    "\n"
   ]
  },
  {
   "cell_type": "markdown",
   "metadata": {
    "slideshow": {
     "slide_type": "subslide"
    }
   },
   "source": [
    "### CMD - ENTRYPOINT interaction\n",
    "<https://docs.docker.com/reference/dockerfile/#understand-how-arg-and-from-interact>\n",
    "\n",
    "::::{.columns}\n",
    "\n",
    "::: {.fragment .column width=\"50%\"}\n",
    "Both CMD and ENTRYPOINT instructions define what command gets executed when running a container. \n",
    "\n",
    "There are few rules that describe their co-operation.\n",
    "\n",
    "- Dockerfile should specify at least one of CMD or ENTRYPOINT commands.\n",
    "- ENTRYPOINT should be defined when using the container as an executable.\n",
    "- CMD should be used as a way of defining default arguments for an ENTRYPOINT command or for executing an ad-hoc command in a container\n",
    ":::\n",
    "\n",
    "::: {.fragment .column width=\"50%\"}\n",
    "![](https://i.imgflip.com/7ewgko.jpg)\n",
    "\n",
    ":::\n",
    "\n",
    "::::\n",
    "\n"
   ]
  },
  {
   "cell_type": "markdown",
   "metadata": {
    "slideshow": {
     "slide_type": "slide"
    },
    "tags": []
   },
   "source": [
    "# Il cannolo della fortuna {background-color=\"black\" background-image=\"images/sicilianfortune.jpeg\" background-size=\"100%\" background-opacity=\"0.3\"}\n",
    "A simple fortune extended with sicilian proverbs"
   ]
  },
  {
   "cell_type": "markdown",
   "metadata": {
    "slideshow": {
     "slide_type": "slide"
    },
    "tags": []
   },
   "source": [
    "## Design\n",
    "\n",
    "Sources\n",
    "\n",
    "- https://it.wikiquote.org/wiki/Proverbi_siciliani\n",
    "\n",
    "::: {.fragment}\n",
    "\n",
    "**Build** \n",
    "```bash\n",
    "cd fortune\n",
    "docker build -t tap:fortune .\n",
    "```\n",
    ":::\n",
    "\n",
    "::: {.fragment}\n",
    "\n",
    "**Code** \n",
    "\n",
    "```Dockerfile\n",
    "FROM ubuntu\n",
    "RUN apt-get update && apt-get -y install fortunes fortunes fortune-mod\n",
    "WORKDIR /usr/share/games/fortunes/\n",
    "ADD sicilian .\n",
    "RUN strfile -c % sicilian \n",
    "ENTRYPOINT [\"/usr/games/fortune\"]\n",
    "CMD [\"sicilian\"]\n",
    "```\n",
    ":::"
   ]
  },
  {
   "cell_type": "markdown",
   "metadata": {
    "slideshow": {
     "slide_type": "subslide"
    },
    "tags": []
   },
   "source": [
    "## Demo"
   ]
  },
  {
   "cell_type": "code",
   "execution_count": 2,
   "metadata": {
    "slideshow": {
     "slide_type": "fragment"
    },
    "tags": []
   },
   "outputs": [
    {
     "name": "stdout",
     "output_type": "stream",
     "text": [
      "Beatu cui pri autru si castiga.\n"
     ]
    }
   ],
   "source": [
    "%%bash\n",
    "docker run --rm tap:fortune"
   ]
  },
  {
   "cell_type": "code",
   "execution_count": 8,
   "metadata": {
    "cell_style": "split",
    "scrolled": true,
    "slideshow": {
     "slide_type": "fragment"
    },
    "tags": []
   },
   "outputs": [
    {
     "name": "stdout",
     "output_type": "stream",
     "text": [
      "Breadth-first search is the bulldozer of science.\n",
      "\t\t-- Randy Goebel\n"
     ]
    }
   ],
   "source": [
    "%%bash\n",
    "docker run --rm tap:fortune computers"
   ]
  },
  {
   "cell_type": "markdown",
   "metadata": {
    "slideshow": {
     "slide_type": ""
    },
    "tags": []
   },
   "source": [
    "# Back to Dockerfile Syntax"
   ]
  },
  {
   "cell_type": "markdown",
   "metadata": {
    "cell_style": "center",
    "slideshow": {
     "slide_type": "subslide"
    },
    "tags": []
   },
   "source": [
    "### EXPOSE\n",
    "<https://docs.docker.com/reference/dockerfile/#expose>\n",
    "\n",
    "> The EXPOSE instruction informs Docker that the container listens on the specified network ports at runtime.\n",
    "\n",
    "```DockerFile\n",
    "EXPOSE <port> [<port>/<protocol>...]\n",
    "```    \n",
    "\n",
    "- The EXPOSE instruction does not actually publish the port. \n",
    "\n",
    "- It functions as a type of documentation between the person who builds the image and the person who runs the container, about which ports are intended to be published. \n",
    "\n",
    "- To actually publish the port when running the container, use the -p flag on docker run to publish and map one or more ports, or the -P flag to publish all exposed ports and map them to high-order ports.\n",
    "\n",
    "- ```bash docker run -p 80:80/tcp -p 80:80/udp ```\n",
    "\n"
   ]
  },
  {
   "cell_type": "markdown",
   "metadata": {
    "cell_style": "center",
    "slideshow": {
     "slide_type": "subslide"
    },
    "tags": []
   },
   "source": [
    "## ADD\n",
    "<https://docs.docker.com/reference/dockerfile/#add>\n",
    "\n",
    ":::{.fragment}\n",
    "The ADD instruction copies new files, directories or remote file URLs from <src> and adds them to the filesystem of the image at the path <dest>.\n",
    "\n",
    "\n",
    "```DockerFile\n",
    "ADD [--chown=<user>:<group>] <src>... <dest>\n",
    "ADD [--chown=<user>:<group>] [\"<src>\",... \"<dest>\"] (this form is required for paths containing whitespace)\n",
    "```    \n",
    ":::\n",
    "\n",
    ":::{.fragment}\n",
    "The destination is an absolute path, or a path relative to WORKDIR, into which the source will be copied inside the destination container.\n",
    "    \n",
    "```DockerFile\n",
    "ADD test relativeDir/          # adds \"test\" to `WORKDIR`/relativeDir/\n",
    "ADD test /absoluteDir/         # adds \"test\" to /absoluteDir/\n",
    "```\n",
    ":::"
   ]
  },
  {
   "cell_type": "markdown",
   "metadata": {
    "cell_style": "center",
    "slideshow": {
     "slide_type": "subslide"
    }
   },
   "source": [
    "## COPY\n",
    "\n",
    ":::{.fragment}\n",
    "The COPY instruction copies new files or directories from <src> and adds them to the filesystem of the container at the path <dest>.\n",
    "    \n",
    "```DockerFile\n",
    "COPY [--chown=<user>:<group>] <src>... <dest>\n",
    "COPY [--chown=<user>:<group>] [\"<src>\",... \"<dest>\"] (this form is required for paths containing whitespace)\n",
    "```\n",
    ":::"
   ]
  },
  {
   "cell_type": "markdown",
   "metadata": {
    "slideshow": {
     "slide_type": "subslide"
    },
    "tags": []
   },
   "source": [
    "![](images/docker-copy-add-meme.png)"
   ]
  },
  {
   "cell_type": "markdown",
   "metadata": {
    "cell_style": "center",
    "slideshow": {
     "slide_type": "subslide"
    }
   },
   "source": [
    "## VOLUME\n",
    "<https://docs.docker.com/reference/dockerfile/#volume>\n",
    "\n",
    ":::: {.columns}\n",
    "\n",
    "::: {.fragment .column width=\"50%\"}\n",
    "The VOLUME instruction creates a mount point with the specified name and marks it as holding externally mounted volumes from native host or other containers.r\n",
    "\n",
    "```DockerFile\n",
    "VOLUME [\"/data\"]\n",
    "```\n",
    "\n",
    "The docker run command initializes the newly created volume with any data that exists at the specified location within the base image. \n",
    "::: \n",
    "\n",
    "::: {.fragment .column width=\"50%\"}\n",
    "\n",
    "For example, consider the following Dockerfile snippet:\n",
    "\n",
    "```DockerFile\n",
    "FROM ubuntu\n",
    "RUN mkdir /myvol\n",
    "RUN echo \"hello world\" > /myvol/greeting\n",
    "VOLUME /myvol\n",
    "```\n",
    "\n",
    "This Dockerfile results in an image that causes docker run to create a new mount point at /myvol and copy the greeting file into the newly created volume.\n",
    "\n",
    ":::\n",
    "::::"
   ]
  },
  {
   "cell_type": "markdown",
   "metadata": {
    "cell_style": "center",
    "slideshow": {
     "slide_type": "subslide"
    }
   },
   "source": [
    "## WORKDIR\n",
    "<https://docs.docker.com/reference/dockerfile/#workdir>\n",
    "\n",
    "```DockerFile\n",
    "WORKDIR /path/to/workdir\n",
    "```    \n",
    "\n",
    "- The WORKDIR instruction sets the working directory for any RUN, CMD, ENTRYPOINT, COPY and ADD instructions that follow it in the Dockerfile.\n",
    "- If the WORKDIR doesn’t exist, it will be created even if it’s not used in any subsequent Dockerfile instruction.\n",
    "- Can be used multiple times\n",
    "\n",
    ":::{.fragment}\n",
    "```bash\n",
    "WORKDIR /a\n",
    "WORKDIR b\n",
    "WORKDIR c\n",
    "RUN pwd\n",
    "```\n",
    "\n",
    "The output of the final pwd command in this Dockerfile would be /a/b/c.\n",
    ":::"
   ]
  },
  {
   "cell_type": "markdown",
   "metadata": {
    "slideshow": {
     "slide_type": "slide"
    }
   },
   "source": [
    "# Best Practices\n",
    "<https://docs.docker.com/develop/develop-images/dockerfile_best-practices/>\n"
   ]
  },
  {
   "cell_type": "markdown",
   "metadata": {
    "slideshow": {
     "slide_type": "subslide"
    }
   },
   "source": [
    "## Multistage\n",
    "https://docs.docker.com/build/building/multi-stage/\n",
    "\n",
    "- With multi-stage builds, you use multiple FROM statements in your Dockerfile. \n",
    "- Each FROM instruction can use a different base, and each of them begins a new stage of the build.\n",
    "- You can selectively copy artifacts from one stage to another, leaving behind everything you don’t want in the final image"
   ]
  },
  {
   "cell_type": "markdown",
   "metadata": {
    "slideshow": {
     "slide_type": "subslide"
    }
   },
   "source": [
    "### Multistage Examples\n",
    "\n",
    ":::: {.columns}\n",
    "\n",
    "::: {.fragment .column width=\"50%\"}\n",
    "**[Java](https://www.baeldung.com/ops/docker-cache-maven-dependencies)**\n",
    "\n",
    "```DockerFile\n",
    "FROM maven:alpine as build\n",
    "ENV HOME=/usr/app\n",
    "RUN mkdir -p $HOME\n",
    "WORKDIR $HOME\n",
    "ADD . $HOME\n",
    "RUN mvn package\n",
    "\n",
    "FROM openjdk:8-jdk-alpine \n",
    "COPY --from=build /usr/app/target/single-module-caching-1.0-SNAPSHOT-jar-with-dependencies.jar /app/runner.jar\n",
    "ENTRYPOINT java -jar /app/runner.jar\n",
    "```    \n",
    "::: \n",
    "\n",
    "::: {.fragment .column width=\"50%\"}\n",
    "**[Python](https://medium.com/@ketangangal98/docker-201-multi-stage-builds-for-production-59b1ea98924a)**\n",
    "\n",
    "```DockerFile\n",
    "# Build Stage :  [ Step 1 - 3 ]\n",
    "FROM python:3.10-slim AS build \n",
    "\n",
    "# Install Dependencies \n",
    "RUN apt-get update && apt-get -y install libpq-dev gcc\n",
    "COPY ./requirements.txt requirements.txt\n",
    "RUN pip3 install --no-cache-dir --target=packages -r requirements.txt\n",
    "\n",
    "# Runtime Stage [ Step 4 - 5 ]\n",
    "FROM python:3.10-slim AS runtime\n",
    "# Copying Dependencies from build stage  \n",
    "COPY --from=build packages /usr/lib/python3.10/site-packages\n",
    "ENV PYTHONPATH=/usr/lib/python3.10/site-packages\n",
    "\n",
    "# Security Context \n",
    "RUN useradd -m nonroot\n",
    "USER nonroot\n",
    "\n",
    "# Env configuration [ Step 6 ]\n",
    "WORKDIR /app\n",
    "COPY . .\n",
    "EXPOSE 8080\n",
    "ENTRYPOINT [\"python\",\"app.py\"]\n",
    "``` \n",
    ":::\n",
    "::::\n",
    "\n"
   ]
  },
  {
   "cell_type": "markdown",
   "metadata": {
    "cell_style": "center",
    "slideshow": {
     "slide_type": "slide"
    },
    "tags": []
   },
   "source": [
    "# To commit or not to commit? {background-color=\"black\" background-image=\"https://miro.medium.com/v2/resize:fit:1400/format:webp/1*8eIsVx46votEzNqBFvSjpg.jpeg\" background-size=\"100%\" background-opacity=\"0.3\"}\n",
    "\n",
    "<https://medium.com/@lizrice/to-commit-or-not-to-commit-5ab72f9a466e>\n",
    "\n",
    ":::{.fragment}\n",
    "**Don’t do it.**\n",
    "\n",
    "No, really, I know it’s tempting, but if you’re ever going to use this container image again, don’t use commit. \n",
    "\n",
    "There are significant downsides to the commit approach:\n",
    "\n",
    "- You can’t reproduce the image\n",
    "- You can’t change the base image\n",
    ":::\n",
    "\n",
    ":::{.fragment}\n",
    "Creating a Dockerfile might feel a bit like work, but if you might want this image again, it’s the approach you need to take.\n",
    ":::"
   ]
  },
  {
   "cell_type": "code",
   "execution_count": null,
   "metadata": {
    "slideshow": {
     "slide_type": ""
    },
    "tags": []
   },
   "outputs": [],
   "source": []
  }
 ],
 "metadata": {
  "celltoolbar": "Slideshow",
  "kernelspec": {
   "display_name": "Python 3 (ipykernel)",
   "language": "python",
   "name": "python3"
  },
  "language_info": {
   "codemirror_mode": {
    "name": "ipython",
    "version": 3
   },
   "file_extension": ".py",
   "mimetype": "text/x-python",
   "name": "python",
   "nbconvert_exporter": "python",
   "pygments_lexer": "ipython3",
   "version": "3.10.12"
  },
  "rise": {
   "autolaunch": true,
   "enable_chalkboard": "true",
   "footer": "<div class=\"tap-footer\"> *** Technologies for advanced programming (TAP) - 2024 ***</div>",
   "header": "<div class=\"tap-header\"></div>",
   "scroll": true,
   "theme": "white"
  }
 },
 "nbformat": 4,
 "nbformat_minor": 4
}
