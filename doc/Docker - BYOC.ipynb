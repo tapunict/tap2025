{
 "cells": [
  {
   "cell_type": "raw",
   "metadata": {},
   "source": [
    "---\n",
    "title: \"Docker BYOC\"\n",
    "author: \"Salvo Nicotra\"\n",
    "format: revealjs\n",
    "incremental: true  \n",
    "execute:\n",
    "  echo: true\n",
    "  warning: false\n",
    "theme: white\n",
    "chalkboard: true\n",
    "css: style.css\n",
    "smaller: true\n",
    "scrollable: true\n",
    "include-before: |\n",
    "    <img src=\"images/unict-logo.png\" class=\"custom-logo\" alt=\"Logo\">\n",
    "include-after: |\n",
    "      <div class=\"custom-footer\">\n",
    "        *** Technologies for advanced programming (TAP) - 2024/2025 ***\n",
    "      </div>\n",
    "---"
   ]
  },
  {
   "cell_type": "markdown",
   "metadata": {
    "slideshow": {
     "slide_type": "slide"
    }
   },
   "source": [
    "# Docker Build Your Own Container{background-color=\"black\" background-image=\"images/bob.jpg\" background-size=\"100%\" background-opacity=\"0.5\"}\n"
   ]
  },
  {
   "cell_type": "markdown",
   "metadata": {
    "slideshow": {
     "slide_type": "slide"
    }
   },
   "source": [
    "## Let's start with an example\n",
    "::: {.fragment}\n",
    "### Node Bulletin\n",
    "\n",
    "```bash\n",
    "git clone https://github.com/dockersamples/node-bulletin-board\n",
    "cd node-bulletin-board/bulletin-board-app\n",
    "```\n",
    "\n",
    ":::"
   ]
  },
  {
   "cell_type": "markdown",
   "metadata": {
    "slideshow": {
     "slide_type": "subslide"
    }
   },
   "source": [
    "### Let's see the Docker File\n",
    "\n",
    "```dockerfile\n",
    "FROM node:current-slim\n",
    "\n",
    "WORKDIR /usr/src/app\n",
    "COPY package.json .\n",
    "RUN npm install\n",
    "\n",
    "EXPOSE 8080\n",
    "CMD [ \"npm\", \"start\" ]\n",
    "\n",
    "COPY . .\n",
    "\n",
    "```"
   ]
  },
  {
   "cell_type": "markdown",
   "metadata": {
    "slideshow": {
     "slide_type": "slide"
    }
   },
   "source": [
    "### Build Image\n",
    "```bash\n",
    "docker image build -t bulletinboard:1.0 .\n",
    "```"
   ]
  },
  {
   "cell_type": "markdown",
   "metadata": {
    "slideshow": {
     "slide_type": "slide"
    }
   },
   "source": [
    "## Run your image as a container\n",
    "```bash\n",
    "docker container run --publish 8000:8080 --rm --name bb bulletinboard:1.0\n",
    "```"
   ]
  },
  {
   "cell_type": "markdown",
   "metadata": {
    "slideshow": {
     "slide_type": "slide"
    }
   },
   "source": [
    "## Is running ?\n",
    "```bash\n",
    "docker ps\n",
    "```"
   ]
  },
  {
   "cell_type": "markdown",
   "metadata": {
    "slideshow": {
     "slide_type": "subslide"
    }
   },
   "source": [
    "### Delete it\n",
    "```bash\n",
    "docker container rm --force bb\n",
    "```"
   ]
  },
  {
   "cell_type": "markdown",
   "metadata": {
    "slideshow": {
     "slide_type": "subslide"
    }
   },
   "source": [
    "## Try your self\n",
    "\n",
    "Go to [Docker Sample](https://github.com/dockersamples/)\n",
    "\n",
    "Choose an example and try to run it"
   ]
  },
  {
   "cell_type": "markdown",
   "metadata": {
    "slideshow": {
     "slide_type": "slide"
    }
   },
   "source": [
    "## DockerFile\n",
    "https://docs.docker.com/reference/dockerfile/\n",
    "\n",
    ":::{.fragment}\n",
    "\n",
    "![](https://i.imgflip.com/50yk9z.jpg)\n",
    "\n",
    "[NicsMeme](https://imgflip.com/i/50yk9z) insipired by [Docker Anti Patterns](https://codefresh.io/containers/docker-anti-patterns/)\n",
    "\n",
    ":::"
   ]
  },
  {
   "cell_type": "markdown",
   "metadata": {
    "slideshow": {
     "slide_type": "subslide"
    }
   },
   "source": [
    "### Build syntax\n",
    "```bash\n",
    "$ docker build -f /path/to/a/Dockerfile\n",
    "```"
   ]
  },
  {
   "cell_type": "markdown",
   "metadata": {
    "slideshow": {
     "slide_type": "slide"
    }
   },
   "source": [
    "### Format\n",
    "```DockerFile\n",
    "# Comment\n",
    "INSTRUCTION arguments\n",
    "```\n",
    "\n",
    "*Convention: instructions are in UPPER case*"
   ]
  },
  {
   "cell_type": "markdown",
   "metadata": {
    "cell_style": "center",
    "slideshow": {
     "slide_type": "subslide"
    }
   },
   "source": [
    "#### FROM\n",
    "<https://docs.docker.com/engine/reference/builder/#from>\n",
    "\n",
    ":::: {.columns}\n",
    "\n",
    "::: {.fragment .column width=\"50%\"}\n",
    "\n",
    "```DockerFile\n",
    "FROM [--platform=<platform>] <image>[:<tag>] [AS <name>]\n",
    "```\n",
    "\n",
    "- First instruction after comments/parser directives/arg\n",
    "- Indicates the Image source (download from the registry)\n",
    "- Can use ARG parameter \n",
    "- it's your baby!\n",
    "::: \n",
    "\n",
    "::: {.fragment .column width=\"50%\"}\n",
    "\n",
    "![](images/babyboss.png)\n",
    "\n",
    ":::\n",
    "::::\n",
    "\n",
    "\n",
    "\n",
    "\n",
    "\n"
   ]
  },
  {
   "cell_type": "markdown",
   "metadata": {
    "cell_style": "center",
    "slideshow": {
     "slide_type": "subslide"
    }
   },
   "source": [
    "#### ARG\n",
    "<https://docs.docker.com/engine/reference/builder/#arg>\n",
    "\n",
    ":::: {.columns}\n",
    "\n",
    "::: {.fragment .column width=\"70%\"}\n",
    "\n",
    "Define enviroment variabile used in the Builder\n",
    "\n",
    "```DockerFile\n",
    "ARG <name>[=<default value>]\n",
    "```    \n",
    "\n",
    "Argument can be used in DockerFile FROM, RUN, ...\n",
    "also passed during the BUILD\n",
    "\n",
    "```bash\n",
    "$ docker build --build-arg user=what_user \n",
    "```\n",
    "\n",
    "ARG are referenced using standard ${VARIABLE} notation\n",
    "\n",
    "Be careful with ARG\n",
    "\n",
    "- scope starts from the line where is defined\n",
    "- ENV wins on ARG in RUN \n",
    "- There are a set of predefined ARG (like HTTP_PROXY)\n",
    "- Don't pass secret in ARG \n",
    "\n",
    "::: \n",
    "\n",
    "::: {.fragment .column width=\"30%\"}\n",
    "\n",
    "![](images/arguments-penauts.png)\n",
    "\n",
    ":::\n",
    "::::\n",
    "\n",
    "\n",
    "\n",
    "\n"
   ]
  },
  {
   "cell_type": "markdown",
   "metadata": {
    "cell_style": "center",
    "slideshow": {
     "slide_type": "subslide"
    }
   },
   "source": [
    "#### ENV\n",
    "\n",
    "<https://docs.docker.com/engine/reference/builder/#env>\n",
    "\n",
    ":::: {.columns}\n",
    "\n",
    "::: {.fragment .column width=\"50%\"}\n",
    "\n",
    "Define enviroment variabile that _persist_ in the container\n",
    "\n",
    "```DockerFile\n",
    "ENV <key> <value>\n",
    "ENV <key>=<value> ...\n",
    "```    \n",
    "\n",
    "Enviroment variable can be also passed while starting \n",
    "\n",
    "```bash\n",
    "$ docker run -e \"deep=purple\"\n",
    "```\n",
    "\n",
    "::: \n",
    "\n",
    "::: {.fragment .column width=\"50%\"}\n",
    "![](images/wikipedia-env-variable.png)\n",
    ":::\n",
    "::::\n",
    "\n",
    "\n",
    "\n"
   ]
  },
  {
   "cell_type": "markdown",
   "metadata": {
    "cell_style": "center",
    "editable": true,
    "slideshow": {
     "slide_type": "subslide"
    },
    "tags": []
   },
   "source": [
    "#### RUN (shell mode)\n",
    "<https://docs.docker.com/engine/reference/builder/#env>\n",
    "\n",
    ":::: {.columns}\n",
    "\n",
    "::: {.fragment .column width=\"50%\"}\n",
    "\n",
    "Execute commands in the _layer_ on top of the current image\n",
    "\n",
    " (shell form, the command is run in a shell, which by default is /bin/sh -c on Linux or cmd /S /C on Windows)\n",
    "\n",
    "```DockerFile\n",
    "RUN <command>\n",
    "```    \n",
    "\n",
    "The default shell for the shell form can be changed using the SHELL command.\n",
    "\n",
    "In the shell form you can use a \\ (backslash) to continue a single RUN instruction onto the next line. For example, consider these two lines:\n",
    "\n",
    "```DockerFile\n",
    "RUN /bin/bash -c 'source $HOME/.bashrc; \\\n",
    "echo $HOME'\n",
    "```\n",
    "\n",
    "::: \n",
    "\n",
    "::: {.fragment .column width=\"50%\"}\n",
    "\n",
    "![](images/docker-layers.png)\n",
    "\n",
    ":::\n",
    "::::\n",
    "\n",
    "\n",
    "\n"
   ]
  },
  {
   "cell_type": "markdown",
   "metadata": {
    "cell_style": "center",
    "editable": true,
    "slideshow": {
     "slide_type": "subslide"
    },
    "tags": []
   },
   "source": [
    "#### RUN (exec mode)\n",
    "<https://docs.docker.com/engine/reference/builder/#run>\n",
    "\n",
    "::: {.fragment}\n",
    "\n",
    "```DockerFile\n",
    "RUN [\"executable\", \"param1\", \"param2\"] (exec form)\n",
    "```    \n",
    "\n",
    "Unlike the shell form, the exec form does not invoke a command shell. This means that normal shell processing does not happen. \n",
    "\n",
    ":::\n",
    "\n",
    "::: {.fragment}\n",
    "> To use a different shell, other than ‘/bin/sh’, use the exec form passing in the desired shell. For example, \n",
    "\n",
    "```DockerFile\n",
    "RUN [\"/bin/bash\", \"-c\", \"echo hello\"]\n",
    "```\n",
    ":::\n",
    "\n",
    "::: {.fragment}\n",
    "For example, `RUN [ \"echo\", \"$HOME\" ]` will not do variable substitution on $HOME. If you want shell processing then either use the shell form or execute a shell directly, for example:\n",
    "\n",
    "```DockerFile\n",
    "RUN [ \"sh\", \"-c\", \"echo $HOME\" ]. \n",
    "```\n",
    "\n",
    "> The exec form is parsed as a JSON array, which means that you must use double-quotes (“) around words not single-quotes (‘).\n",
    "\n",
    ":::"
   ]
  },
  {
   "cell_type": "markdown",
   "metadata": {
    "cell_style": "center",
    "slideshow": {
     "slide_type": "subslide"
    }
   },
   "source": [
    "## CMD (exec form)\n",
    "\n",
    "The main purpose of a CMD is to provide defaults for an executing container. These defaults can include an executable, or they can omit the executable, in which case you must specify an ENTRYPOINT instruction as well.\n",
    "\n",
    "Exec form, this is the preferred form\n",
    "\n",
    "```DockerFile\n",
    "CMD [\"executable\",\"param1\",\"param2\"] \n",
    "```    \n",
    "\n",
    "Like RUN exec form do not invoke a shell, so in order to force the variabile substituion done by shell use\n",
    "\n",
    "```DockerFile\n",
    "CMD [ \"sh\", \"-c\", \"echo $HOME\" ]\n",
    "```\n",
    "\n",
    "https://docs.docker.com/engine/reference/builder/#env"
   ]
  },
  {
   "cell_type": "markdown",
   "metadata": {
    "cell_style": "center",
    "slideshow": {
     "slide_type": "subslide"
    }
   },
   "source": [
    "## CMD (shell form)\n",
    "\n",
    "The main purpose of a CMD is to provide defaults for an executing container. These defaults can include an executable, or they can omit the executable, in which case you must specify an ENTRYPOINT instruction as well.\n",
    "\n",
    "\n",
    "```DockerFile\n",
    "CMD command param1 param2\n",
    "```    \n",
    "\n",
    "If you want to run your <command> without a shell then you must express the command as a JSON array and give the full path to the executable. This array form is the preferred format of CMD. Any additional parameters must be individually expressed as strings in the array:\n",
    " \n",
    "```DockerFile\n",
    "FROM ubuntu\n",
    "CMD echo \"This is a test.\" | wc -l\n",
    "```\n",
    "\n",
    "https://docs.docker.com/engine/reference/builder/#cmd"
   ]
  },
  {
   "cell_type": "markdown",
   "metadata": {
    "editable": true,
    "slideshow": {
     "slide_type": "subslide"
    },
    "tags": []
   },
   "source": [
    "#### Confused ? \n",
    "\n",
    "\n",
    ":::: {.columns}\n",
    "\n",
    "::: {.fragment .column width=\"50%\"}\n",
    "\n",
    "![](images/gandalf-docker-cmd.png)\n",
    "\n",
    "::: \n",
    "\n",
    "::: {.fragment .column width=\"50%\"}\n",
    "\n",
    "- RUN actually runs a command and commits the result\n",
    "- CMD does not execute anything at build time, but specifies the intended command for the image.\n",
    ":::\n",
    "::::\n",
    "\n"
   ]
  },
  {
   "cell_type": "markdown",
   "metadata": {
    "cell_style": "center",
    "editable": true,
    "slideshow": {
     "slide_type": "subslide"
    },
    "tags": []
   },
   "source": [
    "### ENTRYPOINT (exec form)\n",
    "\n",
    "An `ENTRYPOINT` allows you to configure a container that will run as an executable.\n",
    "\n",
    "```DockerFile\n",
    "ENTRYPOINT [\"executable\", \"param1\", \"param2\"]\n",
    "```    \n",
    "\n",
    "```bash\n",
    "$ docker run -i -t --rm -p 80:80 nginx\n",
    "```\n",
    "\n",
    "https://docs.docker.com/engine/reference/builder/#entrypoint"
   ]
  },
  {
   "cell_type": "markdown",
   "metadata": {
    "slideshow": {
     "slide_type": "subslide"
    }
   },
   "source": [
    "## Understand how CMD and ENTRYPOINT interact"
   ]
  },
  {
   "cell_type": "markdown",
   "metadata": {
    "slideshow": {
     "slide_type": "fragment"
    }
   },
   "source": [
    "Both CMD and ENTRYPOINT instructions define what command gets executed when running a container. \n",
    "\n",
    "There are few rules that describe their co-operation."
   ]
  },
  {
   "cell_type": "markdown",
   "metadata": {
    "slideshow": {
     "slide_type": "subslide"
    }
   },
   "source": [
    "Dockerfile should specify at least one of CMD or ENTRYPOINT commands."
   ]
  },
  {
   "cell_type": "markdown",
   "metadata": {
    "cell_style": "split",
    "slideshow": {
     "slide_type": "fragment"
    }
   },
   "source": [
    "ENTRYPOINT should be defined when using the container as an executable."
   ]
  },
  {
   "cell_type": "markdown",
   "metadata": {
    "cell_style": "split",
    "slideshow": {
     "slide_type": "fragment"
    }
   },
   "source": [
    "![](https://i.imgflip.com/7ewgko.jpg)"
   ]
  },
  {
   "cell_type": "markdown",
   "metadata": {
    "cell_style": "split",
    "slideshow": {
     "slide_type": "subslide"
    }
   },
   "source": [
    "CMD should be used as a way of defining default arguments for an ENTRYPOINT command or for executing an ad-hoc command in a container."
   ]
  },
  {
   "cell_type": "markdown",
   "metadata": {
    "cell_style": "split",
    "slideshow": {
     "slide_type": "fragment"
    }
   },
   "source": [
    "```Dockerfile\n",
    "FROM ubuntu\n",
    "RUN apt-get update && apt-get -y install fortunes fortunes fortune-mod\n",
    "WORKDIR /usr/share/games/fortunes/\n",
    "ADD sicilian .\n",
    "RUN strfile -c % sicilian \n",
    "ENTRYPOINT [\"/usr/games/fortune\"]\n",
    "CMD [\"sicilian\"]\n",
    "```"
   ]
  },
  {
   "cell_type": "markdown",
   "metadata": {
    "slideshow": {
     "slide_type": "subslide"
    }
   },
   "source": [
    "# U viscottu da furtuna\n",
    "\n",
    "(pool needed for better name)\n",
    "```bash\n",
    "cd fortune\n",
    "docker build -t tap:fortune .\n",
    "```"
   ]
  },
  {
   "cell_type": "code",
   "execution_count": 3,
   "metadata": {
    "slideshow": {
     "slide_type": "subslide"
    }
   },
   "outputs": [
    {
     "name": "stdout",
     "output_type": "stream",
     "text": [
      "Voi campari, lascia campari\n"
     ]
    }
   ],
   "source": [
    "%%bash\n",
    "docker run --rm tap:fortune"
   ]
  },
  {
   "cell_type": "markdown",
   "metadata": {
    "cell_style": "split",
    "slideshow": {
     "slide_type": "subslide"
    }
   },
   "source": [
    "CMD will be overridden when running the container with alternative arguments."
   ]
  },
  {
   "cell_type": "code",
   "execution_count": 13,
   "metadata": {
    "cell_style": "split",
    "slideshow": {
     "slide_type": "fragment"
    }
   },
   "outputs": [
    {
     "name": "stdout",
     "output_type": "stream",
     "text": [
      "La tavula (–o La Mensa) è 'na brutta corda.\n",
      "La tavula è turtura.\n",
      "%, \n"
     ]
    }
   ],
   "source": [
    "%%bash\n",
    "docker run --rm tap:fortune "
   ]
  },
  {
   "cell_type": "markdown",
   "metadata": {
    "slideshow": {
     "slide_type": "subslide"
    }
   },
   "source": [
    "## Matrix\n",
    "The table below shows what command is executed for different ENTRYPOINT / CMD combinations:"
   ]
  },
  {
   "cell_type": "markdown",
   "metadata": {
    "slideshow": {
     "slide_type": "fragment"
    }
   },
   "source": [
    "|  x| x |x  | x |x  |\n",
    "|---|---|---|---|---|\n",
    "|   | No ENTRYPOINT | ENTRYPOINT exec_entry p1_entry | ENTRYPOINT [“exec_entry”, “p1_entry”] |  |\n",
    "| No CMD | error, not allowed | /bin/sh -c exec_entry p1_entry | exec_entry p1_entry |  |\n",
    "| CMD [“exec_cmd”, “p1_cmd”] | exec_cmd p1_cmd | /bin/sh -c exec_entry p1_entry | exec_entry p1_entry exec_cmd p1_cmd |  |\n",
    "| CMD exec_cmd p1_cmd | /bin/sh -c exec_cmd p1_cmd | /bin/sh -c exec_entry p1_entry | exec_entry p1_entry /bin/sh -c exec_cmd p1_cmd |  |"
   ]
  },
  {
   "cell_type": "markdown",
   "metadata": {
    "cell_style": "center",
    "slideshow": {
     "slide_type": "subslide"
    }
   },
   "source": [
    "## EXPOSE\n",
    "\n",
    "Define enviroment variabile that _persist_ in the container\n",
    "\n",
    "```DockerFile\n",
    "EXPOSE <port> [<port>/<protocol>...]\n",
    "```    \n",
    "\n",
    "The EXPOSE instruction does not actually publish the port. \n",
    "\n",
    "It functions as a type of documentation between the person who builds the image and the person who runs the container, about which ports are intended to be published. \n",
    "\n",
    "To actually publish the port when running the container, use the -p flag on docker run to publish and map one or more ports, or the -P flag to publish all exposed ports and map them to high-order ports.\n",
    "\n",
    "```bash\n",
    "$ docker run -p 80:80/tcp -p 80:80/udp \n",
    "```\n",
    "\n",
    "https://docs.docker.com/engine/reference/builder/#expose"
   ]
  },
  {
   "cell_type": "markdown",
   "metadata": {
    "cell_style": "center",
    "slideshow": {
     "slide_type": "subslide"
    }
   },
   "source": [
    "## ADD\n",
    "\n",
    "The ADD instruction copies new files, directories or remote file URLs from <src> and adds them to the filesystem of the image at the path <dest>.\n",
    "    \n",
    "```DockerFile\n",
    "ADD [--chown=<user>:<group>] <src>... <dest>\n",
    "ADD [--chown=<user>:<group>] [\"<src>\",... \"<dest>\"] (this form is required for paths containing whitespace)\n",
    "```    \n",
    "\n",
    "The <dest> is an absolute path, or a path relative to WORKDIR, into which the source will be copied inside the destination container.\n",
    "    \n",
    "```DockerFile\n",
    "ADD test relativeDir/          # adds \"test\" to `WORKDIR`/relativeDir/\n",
    "ADD test /absoluteDir/         # adds \"test\" to /absoluteDir/\n",
    "```\n",
    "\n",
    "https://docs.docker.com/engine/reference/builder/#add"
   ]
  },
  {
   "cell_type": "markdown",
   "metadata": {
    "cell_style": "center",
    "slideshow": {
     "slide_type": "subslide"
    }
   },
   "source": [
    "## COPY\n",
    "\n",
    "The COPY instruction copies new files or directories from <src> and adds them to the filesystem of the container at the path <dest>.\n",
    "    \n",
    "```DockerFile\n",
    "COPY [--chown=<user>:<group>] <src>... <dest>\n",
    "COPY [--chown=<user>:<group>] [\"<src>\",... \"<dest>\"] (this form is required for paths containing whitespace)\n",
    "```    "
   ]
  },
  {
   "cell_type": "markdown",
   "metadata": {
    "slideshow": {
     "slide_type": "subslide"
    }
   },
   "source": [
    "![](images/docker-copy-add-meme.png)"
   ]
  },
  {
   "cell_type": "markdown",
   "metadata": {
    "cell_style": "center",
    "slideshow": {
     "slide_type": "subslide"
    }
   },
   "source": [
    "## VOLUME\n",
    "\n",
    "The VOLUME instruction creates a mount point with the specified name and marks it as holding externally mounted volumes from native host or other containers.r\n",
    "\n",
    "```DockerFile\n",
    "VOLUME [\"/data\"]\n",
    "```    \n",
    "\n",
    "The docker run command initializes the newly created volume with any data that exists at the specified location within the base image. For example, consider the following Dockerfile snippet:\n",
    "\n",
    "```DockerFile\n",
    "FROM ubuntu\n",
    "RUN mkdir /myvol\n",
    "RUN echo \"hello world\" > /myvol/greeting\n",
    "VOLUME /myvol```\n",
    "\n",
    "This Dockerfile results in an image that causes docker run to create a new mount point at /myvol and copy the greeting file into the newly created volume.\n",
    "\n",
    "https://docs.docker.com/engine/reference/builder/#env"
   ]
  },
  {
   "cell_type": "markdown",
   "metadata": {
    "cell_style": "center",
    "slideshow": {
     "slide_type": "subslide"
    }
   },
   "source": [
    "## WORKDIR\n",
    "\n",
    "Define enviroment variabile that _persist_ in the container\n",
    "\n",
    "```DockerFile\n",
    "WORKDIR /path/to/workdir\n",
    "```    \n",
    "\n",
    "The WORKDIR instruction sets the working directory for any RUN, CMD, ENTRYPOINT, COPY and ADD instructions that follow it in the Dockerfile. If the WORKDIR doesn’t exist, it will be created even if it’s not used in any subsequent Dockerfile instruction.\n",
    "\n",
    "```bash\n",
    "WORKDIR /a\n",
    "WORKDIR b\n",
    "WORKDIR c\n",
    "RUN pwd\n",
    "```\n",
    "\n",
    "The output of the final pwd command in this Dockerfile would be /a/b/c.\n",
    "\n",
    "\n",
    "\n",
    "https://docs.docker.com/engine/reference/builder/#env"
   ]
  },
  {
   "cell_type": "markdown",
   "metadata": {
    "slideshow": {
     "slide_type": "slide"
    }
   },
   "source": [
    "### Best Practices"
   ]
  },
  {
   "cell_type": "markdown",
   "metadata": {
    "slideshow": {
     "slide_type": "fragment"
    }
   },
   "source": [
    "https://docs.docker.com/develop/develop-images/dockerfile_best-practices/"
   ]
  },
  {
   "cell_type": "markdown",
   "metadata": {
    "slideshow": {
     "slide_type": "subslide"
    }
   },
   "source": [
    "### Cheat Sheet\n",
    "- https://kapeli.com/cheat_sheets/Dockerfile.docset/Contents/Resources/Documents/index\n",
    "- https://github.com/wsargent/docker-cheat-sheet\n",
    "- https://www.docker.com/sites/default/files/d8/2019-09/docker-cheat-sheet.pdf"
   ]
  },
  {
   "cell_type": "markdown",
   "metadata": {
    "slideshow": {
     "slide_type": "subslide"
    }
   },
   "source": [
    "### Docker Commit"
   ]
  },
  {
   "cell_type": "markdown",
   "metadata": {
    "cell_style": "center",
    "slideshow": {
     "slide_type": "subslide"
    }
   },
   "source": [
    "[To commit or not to commit?](https://medium.com/@lizrice/to-commit-or-not-to-commit-5ab72f9a466e)\n",
    "\n",
    "**Don’t do it.**\n",
    "\n",
    "No, really, I know it’s tempting, but if you’re ever going to use this container image again, don’t use commit. There are significant downsides to the commit approach:\n",
    "\n",
    "- You can’t reproduce the image\n",
    "- You can’t change the base image\n",
    "\n",
    "Creating a Dockerfile might feel a bit like work, but if you might want this image again, it’s the approach you need to take.\n"
   ]
  },
  {
   "cell_type": "markdown",
   "metadata": {
    "slideshow": {
     "slide_type": "subslide"
    }
   },
   "source": [
    "## Multistage\n",
    "https://docs.docker.com/build/building/multi-stage/"
   ]
  },
  {
   "cell_type": "markdown",
   "metadata": {
    "slideshow": {
     "slide_type": "fragment"
    }
   },
   "source": [
    "With multi-stage builds, you use multiple FROM statements in your Dockerfile. "
   ]
  },
  {
   "cell_type": "markdown",
   "metadata": {
    "slideshow": {
     "slide_type": "fragment"
    }
   },
   "source": [
    "Each FROM instruction can use a different base, and each of them begins a new stage of the build. "
   ]
  },
  {
   "cell_type": "markdown",
   "metadata": {
    "slideshow": {
     "slide_type": "fragment"
    }
   },
   "source": [
    "You can selectively copy artifacts from one stage to another, leaving behind everything you don’t want in the final image"
   ]
  },
  {
   "cell_type": "markdown",
   "metadata": {
    "slideshow": {
     "slide_type": "subslide"
    }
   },
   "source": [
    "### In Java\n",
    "https://www.baeldung.com/ops/docker-cache-maven-dependencies"
   ]
  },
  {
   "cell_type": "markdown",
   "metadata": {
    "slideshow": {
     "slide_type": "fragment"
    }
   },
   "source": [
    "```DockerFile\n",
    "FROM maven:alpine as build\n",
    "ENV HOME=/usr/app\n",
    "RUN mkdir -p $HOME\n",
    "WORKDIR $HOME\n",
    "ADD . $HOME\n",
    "RUN mvn package\n",
    "\n",
    "FROM openjdk:8-jdk-alpine \n",
    "COPY --from=build /usr/app/target/single-module-caching-1.0-SNAPSHOT-jar-with-dependencies.jar /app/runner.jar\n",
    "ENTRYPOINT java -jar /app/runner.jar\n",
    "```    "
   ]
  },
  {
   "cell_type": "markdown",
   "metadata": {
    "slideshow": {
     "slide_type": "subslide"
    }
   },
   "source": [
    "### In Python\n",
    "https://towardsdatascience.com/using-multi-stage-builds-to-make-your-docker-image-almost-10x-smaller-239068cb6fb0\n",
    "\n",
    "https://gabnotes.org/lighten-your-python-image-docker-multi-stage-builds/"
   ]
  },
  {
   "cell_type": "markdown",
   "metadata": {},
   "source": [
    "```DockerFile\n",
    "FROM ubuntu:20.04 AS final\n",
    "FROM alpine:3.14 AS final\n",
    "# BUNDLE LAYERS\n",
    "RUN apt-get update -y && apt install -y --no-install-recommends \\\n",
    "  curl \\\n",
    "  osmium-tool \\\n",
    " && rm -rf /var/lib/apt/lists/*\n",
    "RUN mkdir /osmfiles \\\n",
    " && mkdir /merged \\\n",
    " && curl http://download.geofabrik.de/europe/monaco-latest.osm.pbf -o /osmfiles/monaco.osm.pbf \\\n",
    " && curl http://download.geofabrik.de/europe/andorra-latest.osm.pbf -o /osmfiles/andorra.osm.pbf \\\n",
    " && osmium merge /osmfiles/monaco.osm.pbf /osmfiles/andorra.osm.pbf -o /merged/merged.osm.pbf\n",
    "FROM final\n",
    "RUN mkdir /merged\n",
    "COPY --from=build /merged /merged\n",
    "```"
   ]
  }
 ],
 "metadata": {
  "celltoolbar": "Slideshow",
  "kernelspec": {
   "display_name": "Python 3 (ipykernel)",
   "language": "python",
   "name": "python3"
  },
  "language_info": {
   "codemirror_mode": {
    "name": "ipython",
    "version": 3
   },
   "file_extension": ".py",
   "mimetype": "text/x-python",
   "name": "python",
   "nbconvert_exporter": "python",
   "pygments_lexer": "ipython3",
   "version": "3.12.3"
  },
  "rise": {
   "autolaunch": true,
   "enable_chalkboard": "true",
   "footer": "<div class=\"tap-footer\"> *** Technologies for advanced programming (TAP) - 2024 ***</div>",
   "header": "<div class=\"tap-header\"></div>",
   "scroll": true,
   "theme": "white"
  }
 },
 "nbformat": 4,
 "nbformat_minor": 4
}
