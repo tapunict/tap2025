{
 "cells": [
  {
   "cell_type": "raw",
   "metadata": {
    "editable": true,
    "raw_mimetype": "",
    "slideshow": {
     "slide_type": ""
    },
    "tags": []
   },
   "source": [
    "---\n",
    "title: \"Apache Nifi\"\n",
    "author: \"Salvo Nicotra\"\n",
    "format: revealjs\n",
    "incremental: true  \n",
    "execute:\n",
    "  echo: true\n",
    "  warning: false\n",
    "theme: white\n",
    "chalkboard: true\n",
    "css: style.css\n",
    "smaller: true\n",
    "scrollable: true\n",
    "include-before: |\n",
    "    <img src=\"images/unict-logo.png\" class=\"custom-logo\" alt=\"Logo\">\n",
    "include-after: |\n",
    "      <div class=\"custom-footer\">\n",
    "        *** Technologies for advanced programming (TAP) - 2024/2025 ***\n",
    "      </div>\n",
    "---"
   ]
  },
  {
   "cell_type": "markdown",
   "metadata": {
    "slideshow": {
     "slide_type": "slide"
    }
   },
   "source": [
    "# Apache Nifi{background-color=\"black\" background-image=\"https://nifi.apache.org/assets/images/apache-nifi-logo.svg\" background-size=\"100%\" background-opacity=\"1\"}\n",
    "\n",
    "> An easy to use, powerful, and reliable system to process and distribute data\n"
   ]
  },
  {
   "cell_type": "markdown",
   "metadata": {
    "slideshow": {
     "slide_type": "subslide"
    }
   },
   "source": [
    "## Origin\n",
    "\n",
    ":::{.fragment}\n",
    "> Apache NiFi is a software project from the Apache Software Foundation designed to automate the flow of data between software systems. Leveraging the concept of Extract, transform, load, it is based on the \"NiagaraFiles\" software previously developed by the US National Security Agency (NSA), which is also the source of a part of its present name – NiFi. It was open-sourced as a part of NSA's technology transfer program in 2014\n",
    "\n",
    "[Wikipedia](https://en.wikipedia.org/wiki/Apache_NiFi)\n",
    ":::"
   ]
  },
  {
   "cell_type": "markdown",
   "metadata": {
    "slideshow": {
     "slide_type": "subslide"
    }
   },
   "source": [
    "## Part of Cloudera Suite\n",
    "\n",
    "Hortonworks added in HDP platforms \n",
    "and now in Cloudera is still pitching \n",
    "(but maybe less)\n",
    "\n",
    "<https://www.cloudera.com/open-source.html>\n"
   ]
  },
  {
   "cell_type": "markdown",
   "metadata": {},
   "source": [
    "## What is Apache Nifi\n",
    "\n",
    "- NiFi was built to automate the flow of data between systems.\n",
    "- While the term 'dataflow' is used in a variety of contexts, we use it here to mean the automated and managed flow of information between systems.\n",
    "- This problem space has been around ever since enterprises had more than one system, where some of the systems created data and some of the systems consumed data."
   ]
  },
  {
   "cell_type": "markdown",
   "metadata": {
    "slideshow": {
     "slide_type": "subslide"
    }
   },
   "source": [
    "## Architecture\n",
    "\n",
    ":::: {.columns}\n",
    "\n",
    "::: {.fragment .column width=\"50%\"}\n",
    "![](https://nifi.apache.org/docs/nifi-docs/html/images/zero-leader-node.png){.fragment}\n",
    "::: \n",
    "\n",
    "::: {.fragment .column width=\"50%\"}\n",
    "- NiFi executes within a JVM on a host operating system\n",
    "- Web Server: host NiFi’s HTTP-based command and control API.\n",
    "- Flow Controller: The flow controller is the brains of the operation. It provides threads for extensions to run on, and manages the schedule of when extensions receive resources to execute.\n",
    "- Extensions: There are various types of NiFi extensions which are described in other documents. The key point here is that extensions operate and execute within the JVM.\n",
    "- FlowFile Repository: track of the state of what it knows about a given FlowFile that is presently active in the flow. \n",
    "- Content Repository: content bytes of a given FlowFile live. \n",
    "- Provenance Repository: where all provenance event data is stored.\n",
    ":::\n",
    "::::\n"
   ]
  },
  {
   "cell_type": "markdown",
   "metadata": {
    "editable": true,
    "slideshow": {
     "slide_type": "subslide"
    },
    "tags": []
   },
   "source": [
    "## High-level challenges\n",
    ":::{.smaller}\n",
    "- **Systems fail**: Networks fail, disks fail, software crashes, people make mistakes.\n",
    "- **Data access exceeds capacity to consume**: Data sources can outpace part of the processing or delivery chain\n",
    "- **Boundary conditions are mere suggestions**: You will invariably get data that is too big, too small, too fast, too slow, corrupt, wrong, or in the wrong format.\n",
    "- **What is noise one day becomes signal the next**: Priorities of an organization change - rapidly. Enabling new flows and changing existing ones must be fast.\n",
    "- **Systems evolve at different rates**: Protocols/formats can change anytime irrespective of the systems around them. Dataflow connect components that are *loosely* or *not-at-all designed* to work together.\n",
    "- **Compliance and security**: Laws, regulations, and policies change. Business to business agreements change. System to system and system to user interactions must be secure, trusted, accountable.\n",
    "- **Continuous improvement occurs in production**: It is often not possible to come even close to replicating production environments in the lab\n",
    ":::"
   ]
  },
  {
   "cell_type": "markdown",
   "metadata": {
    "editable": true,
    "slideshow": {
     "slide_type": "slide"
    },
    "tags": []
   },
   "source": [
    "# Demo\n",
    "\n",
    "::: {.r-stack}\n",
    "\n",
    "![[](https://imgflip.com/i/68fcn5)](https://i.imgflip.com/68fcn5.jpg){.fragment}\n",
    "\n",
    "![[](https://www.mail-archive.com/dev@nifi.apache.org/msg20414.html)](https://i.imgflip.com/69cscf.jpg){.fragment}\n",
    "\n",
    "![](https://img.devrant.com/devrant/rant/r_464533_gMBvP.jpg){.fragment}\n",
    "\n",
    "![](https://i.imgflip.com/8km220.jpg){.fragment}\n",
    ":::\n"
   ]
  },
  {
   "cell_type": "markdown",
   "metadata": {
    "editable": true,
    "slideshow": {
     "slide_type": "subslide"
    },
    "tags": []
   },
   "source": [
    "## Run NIFI using docker\n",
    "\n",
    "See [Nifi In Docker Hub](https://hub.docker.com/r/apache/nifi)\n",
    "\n",
    "::::{.columns}\n",
    "\n",
    "::: {.fragment .column width=\"50%\"}\n",
    "```bash\n",
    "docker run --rm -h nifi --name nifi -p 8443:8443 -d  apache/nifi:2.0.0-M4\n",
    "```\n",
    "\n",
    ":::\n",
    "\n",
    "::: {.fragment .column width=\"50%\"}\n",
    "![](https://i.imgflip.com/51o75w.jpg)\n",
    "\n",
    "Edit\n",
    "\n",
    "-  2.0M2 it's 1.72 GB\n",
    "-  2.0M4 it's 1.53 GB\n",
    ":::\n",
    "\n",
    "::::\n",
    "\n",
    "\n"
   ]
  },
  {
   "cell_type": "markdown",
   "metadata": {
    "editable": true,
    "slideshow": {
     "slide_type": "subslide"
    },
    "tags": []
   },
   "source": [
    "### Access to Nifi\n",
    "\n",
    "::::{.columns}\n",
    "\n",
    "::: {.fragment .column width=\"50%\"}\n",
    "Check Logs to \n",
    "- see get secrets\n",
    "\n",
    "```bash\n",
    "docker logs nifi | grep -i Generated\n",
    "```\n",
    "\n",
    ":::\n",
    "\n",
    "::: {.fragment .column width=\"50%\"}\n",
    "\n",
    "Open the web UI <https://nifi:8443/nifi>\n",
    "\n",
    "::: {.callout-warning}\n",
    "Assuming that the entry nifi is in your hosts file with proper ip address,\n",
    "this is necessary since Jetty uses domain name \n",
    ":::\n",
    ":::\n",
    "\n",
    "::::\n",
    "\n",
    "\n"
   ]
  },
  {
   "cell_type": "markdown",
   "metadata": {
    "editable": true,
    "slideshow": {
     "slide_type": "slide"
    },
    "tags": []
   },
   "source": [
    "# Hello Slack Nifi\n",
    "Inspired by <https://medium.com/cloudera-inc/apache-nifi-2-0-0-m2-out-314a1d4c8b20>"
   ]
  },
  {
   "cell_type": "markdown",
   "metadata": {
    "editable": true,
    "slideshow": {
     "slide_type": "slide"
    },
    "tags": []
   },
   "source": [
    "## Slack\n",
    "\n",
    ":::: {.columns}\n",
    "\n",
    "::: {.fragment .column width=\"50%\"}\n",
    "\n",
    "## Slack workspace\n",
    "- Created workspace <https://tapunict.slack.com>\n",
    "- Created an app from https://api.slack.com/apps\n",
    "- Configure app with permissions \n",
    "::: \n",
    "\n",
    "::: {.fragment .column width=\"50%\"}\n",
    "![[Workspace tapunict.slack.com](https://tapunit.slack.com/)](https://d34u8crftukxnk.cloudfront.net/slackpress/prod/sites/6/2019-01_BrandRefresh_slack-brand-refresh_header-1.png?d=500x500&f=inside)\n",
    ":::\n",
    "::::"
   ]
  },
  {
   "cell_type": "markdown",
   "metadata": {
    "editable": true,
    "slideshow": {
     "slide_type": "subslide"
    },
    "tags": []
   },
   "source": [
    "## Configure NiFi Processor\n",
    "\n",
    "<https://nifi.apache.org/documentation/nifi-2.0.0-M4/components/org.apache.nifi/nifi-slack-nar/2.0.0-M4/org.apache.nifi.processors.slack.ListenSlack/>\n",
    "\n",
    ":::: {.columns}\n",
    "\n",
    "\n",
    "::: {.fragment .column width=\"50%\"}\n",
    "- Setup ListenSlack Processor to PutFile\n",
    "- Bot https://api.slack.com/apps/A06R2R86Z7U/oauth?\n",
    "- App Token https://api.slack.com/apps/A06R2R86Z7U/general? App-Level Tokens\n",
    "::: \n",
    "\n",
    "::: {.fragment .column width=\"50%\"}\n",
    "Add snapshot here\n",
    ":::\n",
    "::::"
   ]
  },
  {
   "cell_type": "markdown",
   "metadata": {
    "editable": true,
    "slideshow": {
     "slide_type": "subslide"
    },
    "tags": []
   },
   "source": [
    "## Test\n",
    "\n",
    "Send a message tagging @tapnifi"
   ]
  }
 ],
 "metadata": {
  "celltoolbar": "Slideshow",
  "kernelspec": {
   "display_name": "Python 3 (ipykernel)",
   "language": "python",
   "name": "python3"
  },
  "language_info": {
   "codemirror_mode": {
    "name": "ipython",
    "version": 3
   },
   "file_extension": ".py",
   "mimetype": "text/x-python",
   "name": "python",
   "nbconvert_exporter": "python",
   "pygments_lexer": "ipython3",
   "version": "3.10.12"
  },
  "rise": {
   "autolaunch": true,
   "enable_chalkboard": "true",
   "footer": "<div class=\"tap-footer\"> *** Technologies for advanced programming (TAP) - 2024 ***</div>",
   "header": "<div class=\"tap-header\"></div>",
   "scroll": true,
   "theme": "white"
  }
 },
 "nbformat": 4,
 "nbformat_minor": 4
}
