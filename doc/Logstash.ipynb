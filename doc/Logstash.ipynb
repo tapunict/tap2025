{
 "cells": [
  {
   "cell_type": "raw",
   "metadata": {},
   "source": [
    "---\n",
    "title: \"Logstash\"\n",
    "author: \"Salvo Nicotra\"\n",
    "format: \n",
    "    revealjs:\n",
    "        width: 1280\n",
    "        heigth: 800\n",
    "incremental: true  \n",
    "execute:\n",
    "  echo: true\n",
    "  warning: false\n",
    "theme: white\n",
    "chalkboard: true\n",
    "css: style.css\n",
    "smaller: true\n",
    "scrollable: true\n",
    "include-before: |\n",
    "    <img src=\"images/unict-logo.png\" class=\"custom-logo\" alt=\"Logo\">\n",
    "include-after: |\n",
    "      <div class=\"custom-footer\">\n",
    "        *** Technologies for advanced programming (TAP) - 2024/2025 ***\n",
    "      </div>\n",
    "---"
   ]
  },
  {
   "cell_type": "markdown",
   "metadata": {
    "slideshow": {
     "slide_type": "slide"
    }
   },
   "source": [
    "# Logstash{background-color=\"black\" background-image=\"https://i.imgflip.com/51za09.jpg\" background-size=\"60%\" background-opacity=\"0.5\"}"
   ]
  },
  {
   "cell_type": "markdown",
   "metadata": {
    "cell_style": "split",
    "slideshow": {
     "slide_type": "subslide"
    }
   },
   "source": [
    "## Centralize, transform & stash your data\n",
    "Documentation from <https://www.elastic.co/logstash>\n",
    "\n",
    "::::{.columns}\n",
    "\n",
    "::: {.fragment .column width=\"50%\"}\n",
    "> Logstash is a free and open server-side data processing pipeline that ingests data from a multitude of sources, transforms it, and then sends it to your favorite \"stash.\"\n",
    ":::\n",
    "\n",
    "::: {.fragment .column width=\"50%\"}\n",
    "![](https://static-www.elastic.co/v3/assets/bltefdd0b53724fa2ce/blt48aca1f4f91f8ee7/5d0ab511b0b16b1c530d26bc/illustration-logstash-header.png)\n",
    ":::\n",
    "\n",
    "::::\n",
    "\n"
   ]
  },
  {
   "cell_type": "markdown",
   "metadata": {
    "slideshow": {
     "slide_type": "subslide"
    }
   },
   "source": [
    "### Inputs\n",
    "\n",
    "::::{.columns}\n",
    "\n",
    "::: {.fragment .column width=\"50%\"}\n",
    "**Ingest data of all shapes, sizes, and sources**\n",
    "\n",
    "> Data is often scattered or siloed across many systems in many formats. Logstash supports a variety of [inputs](https://www.elastic.co/guide/en/logstash/current/input-plugins.html) that pull in events from a multitude of common sources, all at the same time. Easily ingest from your logs, metrics, web applications, data stores, and various AWS services, all in continuous, streaming fashion.\n",
    ":::\n",
    "\n",
    "::: {.fragment .column width=\"50%\"}\n",
    "![](https://images.contentstack.io/v3/assets/bltefdd0b53724fa2ce/blt5939ba2e40ba0790/5d0d59d096d2d1b65a98422c/diagram-logstash-inputs.svg)\n",
    ":::\n",
    "\n",
    "::::\n",
    "\n"
   ]
  },
  {
   "cell_type": "markdown",
   "metadata": {
    "slideshow": {
     "slide_type": "subslide"
    }
   },
   "source": [
    "### Filters\n",
    "\n",
    "::::{.columns}\n",
    "\n",
    "::: {.fragment .column width=\"50%\"}\n",
    "**Parse & transform your data on the fly**\n",
    "\n",
    "As data travels from source to store, Logstash filters parse each event, identify named fields to build structure, and transform them to converge on a common format for more powerful analysis and business value.\n",
    "\n",
    "Logstash dynamically transforms and prepares your data regardless of format or complexity:\n",
    "\n",
    "* Derive structure from unstructured data with grok\n",
    "* Decipher geo coordinates from IP addresses\n",
    "* Anonymize PII data, exclude sensitive fields completely\n",
    "* Ease overall processing, independent of the data source, format, or schema.\n",
    ":::\n",
    "\n",
    "::: {.fragment .column width=\"50%\"}\n",
    "![](https://images.contentstack.io/v3/assets/bltefdd0b53724fa2ce/bltd908f368097df15a/5d0d59ed970556dd5800ed8b/diagram-logstash-filters.svg)\n",
    ":::\n",
    "\n",
    "::::\n"
   ]
  },
  {
   "cell_type": "markdown",
   "metadata": {
    "slideshow": {
     "slide_type": "subslide"
    }
   },
   "source": [
    "### Outputs\n",
    "\n",
    "::::{.columns}\n",
    "\n",
    "::: {.fragment .column width=\"50%\"}\n",
    "**Choose your stash, transport your data**\n",
    "\n",
    "While Elasticsearch is our go-to output that opens up a world of search and analytics possibilities, it’s not the only one available.\n",
    "\n",
    "Logstash has a variety of [outputs](https://www.elastic.co/guide/en/logstash/current/output-plugins.html) that let you route data where you want, giving you the flexibility to unlock a slew of downstream use cases.\n",
    ":::\n",
    "\n",
    "::: {.fragment .column width=\"50%\"}\n",
    "![](https://images.contentstack.io/v3/assets/bltefdd0b53724fa2ce/blt169c0535507b407e/5d0d5a0fb58121dc58ed6a40/diagram-logstash-outputs.svg)\n",
    ":::\n",
    "\n",
    "::::\n"
   ]
  },
  {
   "cell_type": "markdown",
   "metadata": {
    "slideshow": {
     "slide_type": "subslide"
    }
   },
   "source": [
    "## Features\n",
    "\n",
    "::::{.columns}\n",
    "\n",
    "::: {.fragment .column width=\"50%\"}\n",
    "**Extensibility**\n",
    "\n",
    "- Logstash has a pluggable framework featuring over 200 plugins. Mix, match, and orchestrate different inputs, filters, and outputs to work in pipeline harmony.\n",
    "- Build your own plugin using Ruby and package using gem\n",
    "- See [reference](https://www.elastic.co/guide/en/logstash/current/input-new-plugin.html)\n",
    ":::\n",
    "\n",
    "::: {.fragment .column width=\"50%\"}\n",
    "**Durability & Security** \n",
    "\n",
    "- Logstash guarantees at-least-once delivery for your in-flight events with its persistent queue.\n",
    "- Events that are not successfully processed can be shunted to a dead letter queue for introspection and replay.\n",
    "- Ability to absorb throughput, Logstash scales through ingestion spikes without having to use an external queueing layer.\n",
    "- Fully secure your ingest pipelines.\n",
    ":::\n",
    "\n",
    "::::\n"
   ]
  },
  {
   "cell_type": "markdown",
   "metadata": {
    "slideshow": {
     "slide_type": "slide"
    }
   },
   "source": [
    "# Read the docs \n",
    "<https://www.elastic.co/guide/en/logstash/current/introduction.html>"
   ]
  },
  {
   "cell_type": "markdown",
   "metadata": {
    "slideshow": {
     "slide_type": "subslide"
    }
   },
   "source": [
    "## Introduction{background-color=\"white\" background-image=\"https://www.elastic.co/guide/en/logstash/8.1/static/images/basic_logstash_pipeline.png\" background-size=\"60%\" background-opacity=\"0.3\"}\n",
    "\n",
    "::::{.columns}\n",
    "\n",
    "::: {.fragment .column width=\"50%\"}\n",
    "\n",
    "::: {style=\"background-color: rgba(0, 0, 0, 0.2); padding:10px\"}\n",
    "Logstash\n",
    "\n",
    "- is an open source data collection engine with real-time pipelining capabilities.\n",
    "- can dynamically unify data from disparate sources and normalize the data into destinations of your choice.\n",
    "- allows cleanse and democratize data for diverse advanced downstream analytics and visualization use cases.\n",
    "\n",
    ":::\n",
    ":::\n",
    "\n",
    "::: {.fragment .column width=\"50%\"}\n",
    "\n",
    "::: {style=\"background-color: rgba(0, 0, 0, 0.2); padding:10px\"}\n",
    "- originally drove innovation in log collection\n",
    "- any type of event can be enriched and transformed with a broad array of input, filter, and output plugins, with many native codecs further simplifying the ingestion process.\n",
    "- Logstash accelerates your insights by harnessing a greater volume and variety of data.\n",
    "\n",
    ":::\n",
    ":::\n",
    "\n",
    "::::\n"
   ]
  },
  {
   "cell_type": "markdown",
   "metadata": {
    "slideshow": {
     "slide_type": "subslide"
    }
   },
   "source": [
    "## Configuration\n",
    "\n",
    ":::: {.columns}\n",
    "\n",
    "::: {.fragment .column width=\"50%\"}\n",
    "\n",
    "### Pipelines\n",
    "A conf file is a configuration for a pipeline.\n",
    "\n",
    "```conf\n",
    "# This is a comment. You should use comments to describe\n",
    "# parts of your configuration.\n",
    "input {\n",
    "  ...\n",
    "}\n",
    "\n",
    "filter {\n",
    "  ...\n",
    "}\n",
    "\n",
    "output {\n",
    "  ...\n",
    "}\n",
    "```\n",
    "::: \n",
    "\n",
    "::: {.fragment .column width=\"50%\"}\n",
    "\n",
    "### Settings\n",
    "\n",
    "logstash.yml is the setting file YAML format containg control general options for the execution\n",
    "\n",
    "<https://www.elastic.co/guide/en/logstash/current/logstash-settings-file.html>\n",
    "\n",
    "```yaml\n",
    "pipeline:\n",
    "  batch:\n",
    "    size: 125\n",
    "    delay: 50\n",
    "```\n",
    ":::\n",
    "::::\n",
    "\n"
   ]
  },
  {
   "cell_type": "markdown",
   "metadata": {
    "slideshow": {
     "slide_type": "subslide"
    }
   },
   "source": [
    "## Logstash on Docker\n",
    "<https://hub.docker.com/_/logstash>\n",
    "\n",
    "Elastic maintains a ready to use image in Docker Hub\n",
    "\n",
    "![](images/logstashdocker.png)"
   ]
  },
  {
   "cell_type": "markdown",
   "metadata": {
    "cell_style": "center",
    "slideshow": {
     "slide_type": "subslide"
    }
   },
   "source": [
    "# \"Echo Stash\" Example\n",
    "\n",
    ":::: {.columns}\n",
    "\n",
    "::: {.fragment .column width=\"50%\"}\n",
    "\n",
    "A simple configuration that echoes the standard input\n",
    "\n",
    "```conf\n",
    "input {\n",
    "  java_stdin {\n",
    "    id => \"tap_in\"\n",
    "  }\n",
    "}\n",
    "\n",
    "\n",
    "output \n",
    "{\n",
    "  stdout {}\n",
    "}\n",
    "```\n",
    "\n",
    "::: \n",
    "\n",
    "::: {.fragment .column width=\"50%\"}\n",
    "\n",
    "We will mount the configuration to the docker container at runtime \n",
    "```bash\n",
    "# Must be run from the logstash directory\n",
    "cd logstash \n",
    "docker run --rm -it --hostname=\"logstash\" \\\n",
    "-v $PWD/pipeline/echostash.conf:\\\n",
    "/usr/share/logstash/pipeline/logstash.conf \\\n",
    "-e XPACK_MONITORING_ENABLED=false \\\n",
    "docker.elastic.co/logstash/logstash:8.15.3\n",
    "```\n",
    "\n",
    "Start writing\n",
    "\n",
    "```json\n",
    "Ciao\n",
    "{\n",
    "      \"@version\" => \"1\",\n",
    "    \"@timestamp\" => 2024-04-03T19:11:45.546138094Z,\n",
    "       \"message\" => \"Ciao\",\n",
    "      \"hostname\" => \"logstash\"\n",
    "}\n",
    "```\n",
    "\n",
    ":::\n",
    "::::\n",
    "\n",
    "\n",
    "\n",
    "\n"
   ]
  },
  {
   "cell_type": "markdown",
   "metadata": {
    "slideshow": {
     "slide_type": "subslide"
    }
   },
   "source": [
    "# Sentiment Demo"
   ]
  },
  {
   "cell_type": "markdown",
   "metadata": {
    "slideshow": {
     "slide_type": "fragment"
    }
   },
   "source": [
    "## Build tap:logstash\n",
    "\n",
    "Let's add some plugin\n",
    "\n",
    ":::: {.columns}\n",
    "\n",
    "::: {.fragment .column width=\"50%\"}\n",
    "```Dockerfile\n",
    "FROM docker.elastic.co/logstash/logstash:8.15.3\n",
    "\n",
    "# Add your logstash plugins setup here\n",
    "RUN logstash-plugin install logstash-filter-sentimentalizer\n",
    "```\n",
    "::: \n",
    "\n",
    "::: {.fragment .column width=\"50%\"}\n",
    "\n",
    "```bash\n",
    "# Assuming in the $repo/logstash directory \n",
    "docker build . -t tap:logstash\n",
    "```\n",
    "\n",
    ":::\n",
    "::::\n",
    "\n"
   ]
  },
  {
   "cell_type": "markdown",
   "metadata": {
    "slideshow": {
     "slide_type": "fragment"
    }
   },
   "source": [
    "## Create the pipeline\n",
    "\n",
    ":::: {.columns}\n",
    "\n",
    "::: {.fragment .column width=\"33%\"}\n",
    "```\n",
    "input {\n",
    "  http {\n",
    "    id => \"tap_http_in\"\n",
    "  }\n",
    "}\n",
    "\n",
    "```\n",
    "::: \n",
    "\n",
    "::: {.fragment .column width=\"33%\"}\n",
    "```\n",
    "filter {\n",
    "  sentimentalizer {\n",
    "    source => \"message\"\n",
    "  }\n",
    "\n",
    "  geoip {\n",
    "    source => \"[ip]\"\n",
    "    ecs_compatibility => disabled\n",
    "  }\n",
    "}\n",
    "```\n",
    ":::\n",
    "\n",
    "::: {.fragment .column width=\"33%\"}\n",
    "```\n",
    " file {\n",
    "   path => \"/tmp/messages\"\n",
    " }\n",
    " ```\n",
    ":::\n",
    "::::\n",
    "\n"
   ]
  },
  {
   "cell_type": "markdown",
   "metadata": {
    "slideshow": {
     "slide_type": "subslide"
    }
   },
   "source": [
    "### Run\n",
    "\n",
    "```bash\n",
    "docker run --rm -p 8080:8080 -it --name \"logstash\" --hostname=\"logstash\" -v $PWD/pipeline/httptofile.conf:/usr/share/logstash/pipeline/logstash.conf -e XPACK_MONITORING_ENABLED=false tap:logstash\n",
    "```\n",
    "\n",
    ":::: {.columns}\n",
    "\n",
    "::: {.fragment .column width=\"50%\"}\n",
    "\n",
    "Send messages to logstash\n",
    "\n",
    "```bash\n",
    "curl -X POST -d \"Nice\" \"http://localhost:8080\"\n",
    "```\n",
    "::: \n",
    "\n",
    "::: {.fragment .column width=\"50%\"}\n",
    "\n",
    "Get inside container to check /tmp/messages file\n",
    "\n",
    "```bash\n",
    "docker exec -it logstash tail -f /tmp/messages\n",
    "```\n",
    "\n",
    ":::\n",
    "::::\n",
    "\n",
    "\n",
    "\n"
   ]
  }
 ],
 "metadata": {
  "celltoolbar": "Slideshow",
  "kernelspec": {
   "display_name": "Python 3 (ipykernel)",
   "language": "python",
   "name": "python3"
  },
  "language_info": {
   "codemirror_mode": {
    "name": "ipython",
    "version": 3
   },
   "file_extension": ".py",
   "mimetype": "text/x-python",
   "name": "python",
   "nbconvert_exporter": "python",
   "pygments_lexer": "ipython3",
   "version": "3.10.12"
  },
  "rise": {
   "autolaunch": true,
   "enable_chalkboard": "true",
   "footer": "<div class=\"tap-footer\"> *** Technologies for advanced programming (TAP) - 2024 ***</div>",
   "header": "<div class=\"tap-header\"></div>",
   "scroll": true,
   "theme": "white"
  }
 },
 "nbformat": 4,
 "nbformat_minor": 4
}
