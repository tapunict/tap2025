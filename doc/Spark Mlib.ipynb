{
 "cells": [
  {
   "cell_type": "raw",
   "metadata": {},
   "source": [
    "---\n",
    "title: \"Spark MLib\"\n",
    "author: \"Salvo Nicotra\"\n",
    "format: \n",
    "    revealjs:\n",
    "        width: 1280\n",
    "        heigth: 800\n",
    "incremental: true  \n",
    "execute:\n",
    "  echo: true\n",
    "  warning: false\n",
    "theme: white\n",
    "chalkboard: true\n",
    "css: style.css\n",
    "smaller: true\n",
    "scrollable: true\n",
    "include-before: |\n",
    "    <img src=\"images/unict-logo.png\" class=\"custom-logo\" alt=\"Logo\">\n",
    "include-after: |\n",
    "      <div class=\"custom-footer\">\n",
    "        *** Technologies for advanced programming (TAP) - 2024/2025 ***\n",
    "      </div>\n",
    "---"
   ]
  },
  {
   "cell_type": "markdown",
   "metadata": {
    "slideshow": {
     "slide_type": "slide"
    }
   },
   "source": [
    "#  Spark Mlib{background-color=\"black\" background-image=\"https://blog.osservatori.net/hubfs/AI/machine-learning.jpg\" background-size=\"80%\" background-opacity=\"0.8\"}\n",
    "\n",
    "MLlib is Apache Spark's scalable machine learning library."
   ]
  },
  {
   "cell_type": "markdown",
   "metadata": {
    "slideshow": {
     "slide_type": "subslide"
    }
   },
   "source": [
    "## Ease of Use\n",
    "\n",
    ":::: {.columns}\n",
    "\n",
    "::: {.fragment .column width=\"50%\"}\n",
    "***Usable in Java, Scala, Python, and R.***\n",
    "\n",
    "MLlib fits into Spark's APIs and interoperates with NumPy in Python (as of Spark 0.9) and R libraries (as of Spark 1.5). You can use any Hadoop data source (e.g. HDFS, HBase, or local files), making it easy to plug into Hadoop workflows.\n",
    "::: \n",
    "\n",
    "::: {.fragment .column width=\"50%\"}\n",
    "```python\n",
    "data = spark.read.format(\"libsvm\")\\\n",
    "  .load(\"hdfs://...\")\n",
    "\n",
    "model = KMeans(k=10).fit(data)\n",
    "```\n",
    ":::\n",
    "::::\n"
   ]
  },
  {
   "cell_type": "markdown",
   "metadata": {
    "slideshow": {
     "slide_type": "subslide"
    }
   },
   "source": [
    "## Performance\n",
    ":::: {.columns}\n",
    "\n",
    "::: {.fragment .column width=\"50%\"}\n",
    "***High-quality algorithms, 100x faster than MapReduce.***\n",
    "\n",
    "Spark excels at iterative computation, enabling MLlib to run fast. At the same time, we care about algorithmic performance: MLlib contains high-quality algorithms that leverage iteration, and can yield better results than the one-pass approximations sometimes used on MapReduce.\n",
    "::: \n",
    "\n",
    "::: {.fragment .column width=\"50%\"}\n",
    "![](https://spark.apache.org/images/logistic-regression.png)\n",
    ":::\n",
    "::::"
   ]
  },
  {
   "cell_type": "markdown",
   "metadata": {
    "slideshow": {
     "slide_type": "subslide"
    }
   },
   "source": [
    "## Algorithms and Utilities\n",
    ":::: {.columns}\n",
    "\n",
    "::: {.fragment .column width=\"50%\"}\n",
    "*Algorithms*\n",
    "\n",
    "* Classification: logistic regression, naive Bayes,...\n",
    "* Regression: generalized linear regression, survival regression,...\n",
    "* Decision trees, random forests, and gradient-boosted trees\n",
    "* Recommendation: alternating least squares (ALS)\n",
    "* Clustering: K-means, Gaussian mixtures (GMMs),...\n",
    "* Topic modeling: latent Dirichlet allocation (LDA)\n",
    "* Frequent itemsets, association rules, and sequential pattern mining\n",
    "::: \n",
    "\n",
    "::: {.fragment .column width=\"50%\"}\n",
    "*Utilities*\n",
    "\n",
    "* Feature transformations: standardization, normalization, hashing,...\n",
    "* ML Pipeline construction\n",
    "* Model evaluation and hyper-parameter tuning\n",
    "* ML persistence: saving and loading models and Pipelines\n",
    "* Distributed linear algebra: SVD, PCA,...\n",
    ":::\n",
    "::::"
   ]
  },
  {
   "cell_type": "markdown",
   "metadata": {
    "editable": true,
    "slideshow": {
     "slide_type": "subslide"
    },
    "tags": []
   },
   "source": [
    "## [DataFrame-based API is primary API](https://spark.apache.org/docs/latest/ml-guide.html)\n",
    "\n",
    "**The MLlib RDD-based API is now in maintenance mode.**\n",
    "\n",
    "As of Spark 2.0, the [RDD](https://spark.apache.org/docs/latest/rdd-programming-guide.html#resilient-distributed-datasets-rdds)\\-based APIs in the `spark.mllib` package have entered maintenance mode. The primary Machine Learning API for Spark is now the [DataFrame](https://spark.apache.org/docs/latest/sql-programming-guide.html)\\-based API in the `spark.ml` package.\n",
    "\n",
    ":::{.fragment}\n",
    "_What are the implications?_\n",
    "\n",
    "*   MLlib will still support the RDD-based API in `spark.mllib` with bug fixes.\n",
    "*   MLlib will not add new features to the RDD-based API.\n",
    "*   In the Spark 2.x releases, MLlib will add features to the DataFrames-based API to reach feature parity with the RDD-based API.\n",
    ":::\n",
    "\n",
    ":::{.fragment}\n",
    "_Why is MLlib switching to the DataFrame-based API?_\n",
    "\n",
    "*   DataFrames provide a more user-friendly API than RDDs. The many benefits of DataFrames include Spark Datasources, SQL/DataFrame queries, Tungsten and Catalyst optimizations, and uniform APIs across languages.\n",
    "*   The DataFrame-based API for MLlib provides a uniform API across ML algorithms and across multiple languages.\n",
    "*   DataFrames facilitate practical ML Pipelines, particularly feature transformations. See the [Pipelines guide](https://spark.apache.org/docs/latest/ml-pipeline.html) for details.\n",
    "::: \n",
    "\n",
    ":::{.fragment}\n",
    "_What is “Spark ML”?_\n",
    "\n",
    "*   “Spark ML” is not an official name but occasionally used to refer to the MLlib DataFrame-based API. This is majorly due to the `org.apache.spark.ml` Scala package name used by the DataFrame-based API, and the “Spark ML Pipelines” term we used initially to emphasize the pipeline concept.\n",
    ":::"
   ]
  },
  {
   "cell_type": "markdown",
   "metadata": {
    "editable": true,
    "slideshow": {
     "slide_type": "slide"
    },
    "tags": []
   },
   "source": [
    "## Data Types: Local vector\n",
    "\n",
    "- A local vector has integer-typed and 0-based indices and double-typed values, stored on a single machine. \n",
    "- MLlib supports two types of local vectors: dense and sparse. \n",
    "- A dense vector is backed by a double array representing its entry values, while a sparse vector is backed by two parallel arrays: indices and values. \n",
    "- For example, a vector (1.0, 0.0, 3.0) can be represented in dense format as [1.0, 0.0, 3.0] or in sparse format as (3, [0, 2], [1.0, 3.0]), where 3 is the size of the vector.\n"
   ]
  },
  {
   "cell_type": "markdown",
   "metadata": {
    "editable": true,
    "slideshow": {
     "slide_type": "slide"
    },
    "tags": []
   },
   "source": [
    "## Basic Statistics\n",
    "\n",
    "<https://databricks-prod-cloudfront.cloud.databricks.com/public/4027ec902e239c93eaaa8714f173bcfc/1408031979081866/2243907263472147/2956912205716139/latest.html>\n"
   ]
  },
  {
   "cell_type": "markdown",
   "metadata": {
    "editable": true,
    "slideshow": {
     "slide_type": "slide"
    },
    "tags": []
   },
   "source": [
    "## Pipelines\n",
    "<https://databricks-prod-cloudfront.cloud.databricks.com/public/4027ec902e239c93eaaa8714f173bcfc/1408031979081866/2243907263472164/2956912205716139/latest.html>"
   ]
  },
  {
   "cell_type": "markdown",
   "metadata": {
    "editable": true,
    "slideshow": {
     "slide_type": "subslide"
    },
    "tags": []
   },
   "source": [
    "## Extracting, transforming and selecting features\n",
    "<https://spark.apache.org/docs/latest/ml-features.html#extracting-transforming-and-selecting-features>\n",
    "\n",
    "<https://databricks-prod-cloudfront.cloud.databricks.com/public/4027ec902e239c93eaaa8714f173bcfc/1408031979081866/1061986010927738/2956912205716139/latest.html> "
   ]
  },
  {
   "cell_type": "markdown",
   "metadata": {
    "editable": true,
    "slideshow": {
     "slide_type": "subslide"
    },
    "tags": []
   },
   "source": [
    "##  MLib - Data Sources - Classification and regression - Clustering\n",
    "<https://spark.apache.org/docs/latest/ml-classification-regression.html#classification-and-regression>\n",
    "\n",
    "<https://databricks-prod-cloudfront.cloud.databricks.com/public/4027ec902e239c93eaaa8714f173bcfc/1408031979081866/1061986010927738/2956912205716139/latest.html>"
   ]
  },
  {
   "cell_type": "markdown",
   "metadata": {
    "editable": true,
    "slideshow": {
     "slide_type": "subslide"
    },
    "tags": []
   },
   "source": [
    "## Use Apache Spark MLlib on Databricks\n",
    "\n",
    "\n",
    "https://docs.databricks.com/en/machine-learning/train-model/mllib.html"
   ]
  },
  {
   "cell_type": "markdown",
   "metadata": {
    "editable": true,
    "slideshow": {
     "slide_type": "slide"
    },
    "tags": []
   },
   "source": [
    "![](https://media1.tenor.com/images/257a13ee5e204efdca4bb135a8f75a2e/tenor.gif?itemid=16088629)"
   ]
  },
  {
   "cell_type": "markdown",
   "metadata": {
    "slideshow": {
     "slide_type": "slide"
    }
   },
   "source": [
    "# Biblio"
   ]
  },
  {
   "cell_type": "markdown",
   "metadata": {
    "slideshow": {
     "slide_type": "fragment"
    }
   },
   "source": [
    "* https://spark.apache.org/mllib/\n",
    "* https://spark.apache.org/docs/latest/ml-guide.html\n",
    "* https://blog.osservatori.net/it_it/machine-learning-come-funziona-apprendimento-automatico\n",
    "* https://towardsdatascience.com/hands-on-big-data-streaming-apache-spark-at-scale-fd89c15fa6b0\n",
    "* https://towardsdatascience.com/apache-spark-mllib-tutorial-ec6f1cb336a9\n",
    "* https://www.guru99.com/pyspark-tutorial.html\n",
    "* https://towardsdatascience.com/sentiment-analysis-simplified-ac30720a5827\n",
    "* http://web.cs.ucla.edu/~mtgarip/statistics.html\n",
    "* https://towardsdatascience.com/machine-learning-with-pyspark-and-mllib-solving-a-binary-classification-problem-96396065d2aa\n",
    "* https://runawayhorse001.github.io/LearningApacheSpark/index.html"
   ]
  }
 ],
 "metadata": {
  "celltoolbar": "Slideshow",
  "kernelspec": {
   "display_name": "Python 3 (ipykernel)",
   "language": "python",
   "name": "python3"
  },
  "language_info": {
   "codemirror_mode": {
    "name": "ipython",
    "version": 3
   },
   "file_extension": ".py",
   "mimetype": "text/x-python",
   "name": "python",
   "nbconvert_exporter": "python",
   "pygments_lexer": "ipython3",
   "version": "3.10.12"
  },
  "rise": {
   "autolaunch": true,
   "enable_chalkboard": "true",
   "footer": "<div class=\"tap-footer\"> *** Technologies for advanced programming (TAP) - 2023 ***</div>",
   "header": "<div class=\"tap-header\"></div>",
   "scroll": true,
   "theme": "white"
  }
 },
 "nbformat": 4,
 "nbformat_minor": 4
}
