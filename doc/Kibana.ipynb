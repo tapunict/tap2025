{
 "cells": [
  {
   "cell_type": "raw",
   "metadata": {
    "editable": true,
    "raw_mimetype": "",
    "slideshow": {
     "slide_type": ""
    },
    "tags": []
   },
   "source": [
    "---\n",
    "title: \"Kibana\"\n",
    "author: \"Salvo Nicotra\"\n",
    "format: \n",
    "    revealjs:\n",
    "        width: 1280\n",
    "        heigth: 800\n",
    "incremental: true  \n",
    "execute:\n",
    "  echo: true\n",
    "  warning: false\n",
    "theme: white\n",
    "chalkboard: true\n",
    "css: style.css\n",
    "smaller: true\n",
    "scrollable: true\n",
    "include-before: |\n",
    "    <img src=\"images/unict-logo.png\" class=\"custom-logo\" alt=\"Logo\">\n",
    "include-after: |\n",
    "      <div class=\"custom-footer\">\n",
    "        *** Technologies for advanced programming (TAP) - 2024/2025 ***\n",
    "      </div>\n",
    "---"
   ]
  },
  {
   "cell_type": "markdown",
   "metadata": {
    "editable": true,
    "slideshow": {
     "slide_type": "subslide"
    },
    "tags": []
   },
   "source": [
    "## Kibana\n",
    "\n",
    ":::: {.columns}\n",
    "\n",
    "::: {.fragment .column width=\"60%\"}\n",
    "\n",
    "A look to the web site <https://www.elastic.co/kibana/>\n",
    "\n",
    "And some competitor\n",
    "\n",
    "- <https://grafana.com/>\n",
    "- <https://opensearch.org/docs/latest/dashboards/index/>\n",
    "::: \n",
    "\n",
    "::: {.fragment .column width=\"40%\"}\n",
    "![](https://miro.medium.com/max/966/1*Fwni8nR30I1kPbznk2Fg3w.jpeg)\n",
    "<https://medium.com/datadriveninvestor/introduction-to-exploratory-data-analysis-682eb64063ff>\n",
    ":::\n",
    "::::\n"
   ]
  },
  {
   "cell_type": "markdown",
   "metadata": {
    "cell_style": "center",
    "editable": true,
    "slideshow": {
     "slide_type": "subslide"
    },
    "tags": []
   },
   "source": [
    "### Docker \n",
    "\n",
    "<https://www.elastic.co/guide/en/kibana/current/docker.html>\n",
    "\n",
    "```bash\n",
    "docker run --name elasticsearch  -p 9200:9200 --network tap --rm -it -m 1GB -e \"discovery.type=single-node\" -e \"xpack.security.enabled=false\" docker.elastic.co/elasticsearch/elasticsearch:8.17.0\n",
    "\n",
    "docker run --name kibana  -p 5601:5601 --network tap --rm -it -m 1GB -v /home/tap/tap-workspace/tap2024/kibana/kibana.yml:/usr/share/kibana/config/kibana.yml docker.elastic.co/kibana/kibana:8.17.0\n",
    "```"
   ]
  },
  {
   "cell_type": "markdown",
   "metadata": {
    "editable": true,
    "slideshow": {
     "slide_type": "subslide"
    },
    "tags": []
   },
   "source": [
    "## Sample data\n",
    "\n",
    "http://192.168.45.65:5601/app/home#/tutorial_directory/sampleData\n",
    "\n",
    "::: {.callout-note}\n",
    "in the following example I will use \"Sample web logs\"\n",
    ":::\n",
    "\n"
   ]
  },
  {
   "cell_type": "markdown",
   "metadata": {
    "editable": true,
    "slideshow": {
     "slide_type": "subslide"
    },
    "tags": []
   },
   "source": [
    "# Kibana Features\n",
    "https://www.elastic.co/kibana/features"
   ]
  },
  {
   "cell_type": "markdown",
   "metadata": {
    "editable": true,
    "slideshow": {
     "slide_type": "subslide"
    },
    "tags": []
   },
   "source": [
    "## EXPLORE AND VISUALIZE\n",
    "\n",
    "+![](https://i.imgflip.com/42f1cl.jpg)\n",
    "[NicsMeme](https://imgflip.com/i/42f1cl)\n",
    "\n"
   ]
  },
  {
   "cell_type": "markdown",
   "metadata": {
    "cell_style": "split",
    "editable": true,
    "slideshow": {
     "slide_type": "subslide"
    },
    "tags": []
   },
   "source": [
    "### Kibana Lens\n",
    ":::: {.columns}\n",
    "\n",
    "::: {.fragment .column width=\"50%\"}\n",
    "Kibana Lens is an easy-to-use, intuitive UI that simplifies the process of data visualization through a drag-and-drop experience. Whether you're exploring billions of logs or spotting trends from your website traffic, Lens gets you from data to insights in just a few clicks — no prior experience in Kibana required.\n",
    "\n",
    "![](https://images.contentstack.io/v3/assets/bltefdd0b53724fa2ce/blt5bf7610cab1034cf/5dd334fa3667ee3ad876a3d6/screenshot-lens-switch-chart-index-landing-page.png)\n",
    "\n",
    "::: \n",
    "\n",
    "::: {.fragment .column width=\"50%\"}\n",
    "**Example**\n",
    "Let's do an histogram of the visits group by hour\n",
    "<http://192.168.45.65:5601/app/kibana#/visualize>\n",
    "\n",
    "- Drag and drop timestamp\n",
    "- Click on Horizontal Axis, set minimum inteval to Hour\n",
    "- select Last 1 week period on the top right time selection\n",
    "\n",
    ":::\n",
    "::::\n",
    "\n",
    "\n"
   ]
  },
  {
   "cell_type": "markdown",
   "metadata": {
    "editable": true,
    "slideshow": {
     "slide_type": "subslide"
    },
    "tags": []
   },
   "source": [
    "### Time Series Visual Builder\n",
    "\n",
    ":::: {.columns}\n",
    "\n",
    "::: {.fragment .column width=\"50%\"}\n",
    "\n",
    "Using the full power of the Elasticsearch aggregation framework, Time Series Visual Builder (TSVB) is a time series data visualizer that combines an infinite number of aggregations and pipeline aggregations to display complex data in a meaningful way.\n",
    "\n",
    "![](https://images.contentstack.io/v3/assets/bltefdd0b53724fa2ce/bltecc12ee56e08b921/5d2850fe8e6f797b0da2f110/screenshot-kibana-timeseries-feature-page.jpg)\n",
    "\n",
    "Example: \n",
    "[Logs] Host, Visits and Bytes Table\n",
    "::: \n",
    "\n",
    "::: {.fragment .column width=\"50%\"}\n",
    "![](https://miro.medium.com/max/1400/1*wacvw5u0sR_d0r2tpZU10A.png)\n",
    "[Medium](https://towardsdatascience.com/yet-another-an-end-to-end-time-series-project-tutorial-37390bcea38e)\n",
    ":::\n",
    "::::\n"
   ]
  },
  {
   "cell_type": "markdown",
   "metadata": {
    "editable": true,
    "slideshow": {
     "slide_type": "subslide"
    },
    "tags": []
   },
   "source": [
    "### Geospatial analysis\n",
    ":::: {.columns}\n",
    "\n",
    "::: {.fragment .column width=\"50%\"}\n",
    "\n",
    "\"Where\" is a critical question for many users of the Elastic Stack. Whether you're protecting your network from attackers, investigating slow application response times in specific locations, or simply hailing a ride home, geo data and search play an important role\n",
    "\n",
    "![](https://images.contentstack.io/v3/assets/bltefdd0b53724fa2ce/bltb18792e0e293e779/5d28bb50f22cf073ebc29f9f/screenshot-maps-geospatial-search-feature-page.jpg)\n",
    "\n",
    "\n",
    "Example: [Logs] Total Requests and Bytes\n",
    "::: \n",
    "\n",
    "::: {.fragment .column width=\"50%\"}\n",
    "![](https://i.imgflip.com/qnjpy.jpg)\n",
    "[Credits](https://imgflip.com/i/qnjpy)\n",
    ":::\n",
    "::::\n",
    "\n"
   ]
  },
  {
   "cell_type": "markdown",
   "metadata": {
    "editable": true,
    "slideshow": {
     "slide_type": "subslide"
    },
    "tags": []
   },
   "source": [
    "### Charts\n",
    "\n",
    ":::: {.columns}\n",
    "\n",
    "::: {.fragment .column width=\"50%\"}\n",
    "\n",
    "**Line, area, and bar** charts allow you to plot your data on an X/Y axis. A heat map is a graphical representation of data where the individual values contained in a matrix are represented as colors or gradients. And pie charts can also double as donut charts, displaying as a sliced ring instead of a sliced pie.\n",
    "\n",
    "![](https://images.contentstack.io/v3/assets/bltefdd0b53724fa2ce/bltf0cf6df1a4f209b7/5d283c55414f3b16bf82bbe9/screenshot-elastic-tees-charts-feature-page.jpg)\n",
    "\n",
    "::: \n",
    "\n",
    "::: {.fragment .column width=\"50%\"}\n",
    "### Example\n",
    "Create Visualization -> Aggregation Based\n",
    "![](images/kibana_newviz.png)\n",
    ":::\n",
    "::::\n"
   ]
  },
  {
   "cell_type": "markdown",
   "metadata": {
    "editable": true,
    "slideshow": {
     "slide_type": "subslide"
    },
    "tags": []
   },
   "source": [
    "![](https://miro.medium.com/max/1000/1*X_7MgfK-hTppBPvGkm2d1Q.jpeg)\n",
    "https://medium.com/analytics-vidhya/data-science-lifecycle-explained-38cf38f7708d"
   ]
  },
  {
   "cell_type": "markdown",
   "metadata": {
    "editable": true,
    "slideshow": {
     "slide_type": "subslide"
    },
    "tags": []
   },
   "source": [
    "### Other visualizations\n",
    "- Metrics\n",
    "- Data Tables\n",
    "- Vega"
   ]
  },
  {
   "cell_type": "markdown",
   "metadata": {
    "editable": true,
    "slideshow": {
     "slide_type": "subslide"
    },
    "tags": []
   },
   "source": [
    "## Kibana plugins\n",
    "Add even more functionality to Kibana with community-driven plugin modules. Open source plugins are available for a variety of apps, extensions, visualizations, and more. Plugins include:\n",
    "\n",
    "[Explore the available Kibana plugins](https://www.elastic.co/guide/en/kibana/current/kibana-plugins.html#known-plugins)"
   ]
  },
  {
   "cell_type": "markdown",
   "metadata": {
    "slideshow": {
     "slide_type": "subslide"
    }
   },
   "source": [
    "## Canvas"
   ]
  },
  {
   "cell_type": "markdown",
   "metadata": {
    "cell_style": "split",
    "slideshow": {
     "slide_type": "fragment"
    }
   },
   "source": [
    "Canvas is a whole new way of making data look amazing. Canvas combines data with colors, shapes, text, and your own imagination to bring dynamic, multi-page, pixel-perfect data displays to screens large and small."
   ]
  },
  {
   "cell_type": "markdown",
   "metadata": {
    "cell_style": "split",
    "slideshow": {
     "slide_type": "fragment"
    }
   },
   "source": [
    "![](https://images.contentstack.io/v3/assets/bltefdd0b53724fa2ce/blt5a121d42d1968068/5d283afa477975124a450bf2/screenshot-canvas-demos-v2-1000x562-feature-page.jpg)\n",
    "\n"
   ]
  },
  {
   "cell_type": "markdown",
   "metadata": {
    "slideshow": {
     "slide_type": "fragment"
    }
   },
   "source": [
    "Example: Canvas -> [Logs] Web Traffic"
   ]
  },
  {
   "cell_type": "markdown",
   "metadata": {
    "editable": true,
    "slideshow": {
     "slide_type": "slide"
    },
    "tags": []
   },
   "source": [
    "## Data exploration"
   ]
  },
  {
   "cell_type": "markdown",
   "metadata": {
    "editable": true,
    "slideshow": {
     "slide_type": "subslide"
    },
    "tags": []
   },
   "source": [
    "### Dashboards\n",
    "\n",
    "Examples in http://192.168.45.65:5601/app/dashboards#/list?_g=()\n",
    ":::: {.columns}\n",
    "\n",
    "::: {.fragment .column width=\"50%\"}\n",
    "A Kibana dashboard displays a collection of visualizations and searches. You can arrange, resize, and edit the dashboard content and then save the dashboard so you can share it. You can create custom drilldowns between multiple dashboards or even out to web applications to drive action and decision making.\n",
    "::: \n",
    "\n",
    "::: {.fragment .column width=\"50%\"}\n",
    "![](https://images.contentstack.io/v3/assets/bltefdd0b53724fa2ce/bltd90ad1daab079677/5f35a17a578b8833eed82e10/screenshot-dashboard-log-web-traffic-79.png)\n",
    "\n",
    ":::\n",
    "::::\n"
   ]
  },
  {
   "cell_type": "markdown",
   "metadata": {
    "editable": true,
    "slideshow": {
     "slide_type": "subslide"
    },
    "tags": []
   },
   "source": [
    "### Discover\n",
    "\n",
    "Example in http://192.168.45.65:5601/app/discover#/\n",
    ":::: {.columns}\n",
    "\n",
    "::: {.fragment .column width=\"50%\"}\n",
    "\n",
    "Discover enables you to explore your data with Kibana's data discovery functions. You have access to every document in every index that matches the selected index pattern. You can submit search queries, filter the search results, and view document data. You can also see the number of documents that match the search query and get field value statistics. If a time field is configured for the selected index pattern, the distribution of documents over time is displayed in a histogram at the top of the page.\n",
    "\n",
    "::: \n",
    "\n",
    "::: {.fragment .column width=\"50%\"}\n",
    "![](https://images.contentstack.io/v3/assets/bltefdd0b53724fa2ce/blt271d326d9c400374/5d28478efcfd4e7474c5b9be/screenshot-kibana-discover-start-feature-page.jpg)\n",
    ":::\n",
    "::::\n"
   ]
  },
  {
   "cell_type": "markdown",
   "metadata": {
    "editable": true,
    "slideshow": {
     "slide_type": "subslide"
    },
    "tags": []
   },
   "source": [
    "### Field statistics\n",
    "\n",
    "Example in http://192.168.45.65:5601/app/discover#/\n",
    ":::: {.columns}\n",
    "\n",
    "::: {.fragment .column width=\"50%\"}\n",
    "\n",
    "Field statistics is a tab in Discover that shows a breakdown of fields, values, and data distributions via handy visualizations and statistics for each field in your index. Look for completeness of your data, spot outliers, understand the distribution of values, and gain a holistic view.\n",
    "\n",
    "::: \n",
    "\n",
    "::: {.fragment .column width=\"50%\"}\n",
    "![](https://images.contentstack.io/v3/assets/bltefdd0b53724fa2ce/blt91921b1c57c19dfd/62a13f4e05f1d157f3a88b67/screenshot_discover_field_statistics.jpg)\n",
    ":::\n",
    "::::\n"
   ]
  },
  {
   "cell_type": "markdown",
   "metadata": {
    "editable": true,
    "slideshow": {
     "slide_type": "subslide"
    },
    "tags": []
   },
   "source": [
    "### Graph analytics\n",
    "\n",
    ":::: {.columns}\n",
    "\n",
    "Live: https://demo.elastic.co/app/graph#/workspace/e2141080-32fa-11ea-bbe4-818d9c786051\n",
    "\n",
    "::: {.fragment .column width=\"50%\"}\n",
    "\n",
    "The graph analytics features enable you to discover how items in an Elasticsearch index are related. You can explore the connections between indexed terms and see which connections are the most meaningful. This can be useful in a variety of applications, from fraud detection to recommendation engines.\n",
    "\n",
    "::: \n",
    "\n",
    "::: {.fragment .column width=\"50%\"}\n",
    "![](https://images.contentstack.io/v3/assets/bltefdd0b53724fa2ce/bltf635f5c81f92d2c7/5d28395ee802da1244b279f3/screenshot-kibana-graph-feature-page.jpg)\n",
    ":::\n",
    "::::\n"
   ]
  },
  {
   "cell_type": "markdown",
   "metadata": {
    "editable": true,
    "slideshow": {
     "slide_type": "subslide"
    },
    "tags": []
   },
   "source": [
    "## SHARE & COLLABORATE\n",
    "\n",
    "<http://192.168.45.65:5601/app/kibana#/dashboards>\n",
    "\n",
    ":::: {.columns}\n",
    "\n",
    "::: {.fragment .column width=\"50%\"}\n",
    "Easily share Kibana visualizations with your team members, your boss, their boss, your customers, compliance managers, contractors — anyone you like, really using the sharing option that works for you. Embed a dashboard, share a link, or export to PDF, PNG, or CSV files and send as an attachment. Or organize your dashboards and visualizations into Kibana spaces.\n",
    "::: \n",
    "\n",
    "::: {.fragment .column width=\"50%\"}\n",
    "![](images/kibana_share.png)\n",
    "\n",
    ":::\n",
    "::::\n"
   ]
  },
  {
   "cell_type": "markdown",
   "metadata": {
    "editable": true,
    "slideshow": {
     "slide_type": "subslide"
    },
    "tags": []
   },
   "source": [
    "### Spaces\n",
    "\n",
    ":::: {.columns}\n",
    "\n",
    "::: {.fragment .column width=\"50%\"}\n",
    "With Spaces in Kibana, you can organize your dashboards and other saved objects into meaningful categories. Once you're in a specific space, you will only see the dashboards and other saved objects that belong to it. And with security enabled, you can control which users have access to individual spaces, giving you an extra layer of protection.\n",
    "::: \n",
    "\n",
    "::: {.fragment .column width=\"50%\"}\n",
    "![](https://static.artfido.com/2018/12/space_memes_018.jpg)\n",
    ":::\n",
    "::::\n"
   ]
  },
  {
   "cell_type": "markdown",
   "metadata": {
    "editable": true,
    "slideshow": {
     "slide_type": "subslide"
    },
    "tags": []
   },
   "source": [
    "### Machine learning\n",
    "\n",
    "<https://demo.elastic.co/app/ml>\n",
    "\n",
    ":::: {.columns}\n",
    "\n",
    "::: {.fragment .column width=\"50%\"}\n",
    "\n",
    "Elastic machine learning features automatically model the behavior of your Elasticsearch data — trends, periodicity, and more — in real time to identify issues faster, streamline root cause analysis, and reduce false positives.\n",
    "\n",
    "<https://www.elastic.co/what-is/elasticsearch-machine-learning>\n",
    "::: \n",
    "\n",
    "::: {.fragment .column width=\"50%\"}\n",
    "![](https://static-www.elastic.co/v3/assets/bltefdd0b53724fa2ce/blt41d2ec1ef3777986/639cadb7d70a0827292d25b8/machine-learning-apm-service-map.jpg)\n",
    "\n",
    ":::\n",
    "::::\n"
   ]
  },
  {
   "cell_type": "markdown",
   "metadata": {
    "editable": true,
    "slideshow": {
     "slide_type": "subslide"
    },
    "tags": []
   },
   "source": [
    "## Control Access\n",
    "\n",
    ":::: {.columns}\n",
    "\n",
    "::: {.fragment .column width=\"50%\"}\n",
    "Use role-based access control to invite users into certain spaces (and not others), giving them access to specific content and features.\n",
    "\n",
    "![](https://images.contentstack.io/v3/assets/bltefdd0b53724fa2ce/bltf8831d3c75565f76/5ca682d63baf7a5933efa0bf/security-login.gif)\n",
    "::: \n",
    "\n",
    "::: {.fragment .column width=\"50%\"}\n",
    "![](https://dssg.github.io/hitchhikers-guide/curriculum/get_data/data-security-primer/images/gandalf.jpg)\n",
    "[Source](https://dssg.github.io/hitchhikers-guide/curriculum/get_data/data-security-primer/)\n",
    ":::\n",
    "::::\n"
   ]
  },
  {
   "cell_type": "markdown",
   "metadata": {
    "editable": true,
    "slideshow": {
     "slide_type": "subslide"
    },
    "tags": []
   },
   "source": [
    "## MONITOR WHAT MATTERS\n",
    "\n",
    ":::: {.columns}\n",
    "\n",
    "::: {.fragment .column width=\"50%\"}\n",
    "- Build alerts that trigger custom actions\n",
    "Keep critical changes on your radar to avoid crisis scenarios. \n",
    "\n",
    "- Create alerts that use index- and metric-based thresholds to send emails, create Slack -notifications, activate PagerDuty workflows, or kick off custom integrations using webhooks. \n",
    "\n",
    "- Define unique alerts from within specific apps like SIEM, APM, Uptime, or Metrics and monitor them holistically in the Management tab.\n",
    "::: \n",
    "\n",
    "::: {.fragment .column width=\"50%\"}\n",
    "![](http://www.theagilec.io/wp-content/uploads/2016/07/it-monitoring-meme-300x298.jpg)\n",
    "[Source](http://www.theagilec.io/category/monitoring/)\n",
    ":::\n",
    "::::\n"
   ]
  },
  {
   "cell_type": "markdown",
   "metadata": {
    "editable": true,
    "slideshow": {
     "slide_type": "subslide"
    },
    "tags": []
   },
   "source": [
    "# Beats{background-color=\"white\" background-image=\"https://static-www.elastic.co/v3/assets/bltefdd0b53724fa2ce/bltc6653436d7f2fdb0/5d1509bd4337806073fdc8e9/illustration-beats-header-overflow.png\" background-size=\"80%\" background-opacity=\"0.3\" background-position=\"top\"}\n",
    "\n",
    ":::: {.columns}\n",
    "\n",
    "::: {.fragment .column width=\"50%\"}\n",
    "**Lightweight data shippers**\n",
    "Beats is a free and open platform for single-purpose data shippers. \n",
    "They send data from hundreds or thousands of machines and systems to Logstash or Elasticsearch.\n",
    "\n",
    "![]()\n",
    "::: \n",
    "\n",
    "::: {.fragment .column width=\"50%\"}\n",
    "![](images/beatfamily.png)\n",
    ":::\n",
    "::::\n"
   ]
  },
  {
   "cell_type": "markdown",
   "metadata": {
    "editable": true,
    "slideshow": {
     "slide_type": "subslide"
    },
    "tags": []
   },
   "source": [
    "## An example with metric beats\n",
    "\n",
    "<https://www.elastic.co/guide/en/beats/metricbeat/current/running-on-docker.html>\n",
    "\n",
    "```bash\n",
    "\n",
    "docker build metricbeat/ --tag tap:metricbeat\n",
    "\n",
    "docker run \\\n",
    "  --name=metricbeat \\\n",
    "  --user=root \\\n",
    "  --network=tap \\\n",
    "  --rm \\\n",
    "  --volume=\"/var/run/docker.sock:/var/run/docker.sock:ro\" \\\n",
    "  --volume=\"/sys/fs/cgroup:/hostfs/sys/fs/cgroup:ro\" \\\n",
    "  --volume=\"/proc:/hostfs/proc:ro\" \\\n",
    "  --volume=\"/:/hostfs:ro\" \\\n",
    "  tap:metricbeat metricbeat -e \\\n",
    "  -E output.elasticsearch.hosts=[\"elasticsearch:9200\"]\n",
    "```\n"
   ]
  },
  {
   "cell_type": "code",
   "execution_count": null,
   "metadata": {
    "editable": true,
    "slideshow": {
     "slide_type": ""
    },
    "tags": []
   },
   "outputs": [],
   "source": []
  }
 ],
 "metadata": {
  "celltoolbar": "Slideshow",
  "kernelspec": {
   "display_name": "Python 3 (ipykernel)",
   "language": "python",
   "name": "python3"
  },
  "language_info": {
   "codemirror_mode": {
    "name": "ipython",
    "version": 3
   },
   "file_extension": ".py",
   "mimetype": "text/x-python",
   "name": "python",
   "nbconvert_exporter": "python",
   "pygments_lexer": "ipython3",
   "version": "3.10.12"
  },
  "rise": {
   "autolaunch": true,
   "enable_chalkboard": "true",
   "footer": "<div class=\"tap-footer\"> *** Technologies for advanced programming (TAP) - 2024 ***</div>",
   "header": "<div class=\"tap-header\"></div>",
   "scroll": true,
   "theme": "white"
  }
 },
 "nbformat": 4,
 "nbformat_minor": 4
}
