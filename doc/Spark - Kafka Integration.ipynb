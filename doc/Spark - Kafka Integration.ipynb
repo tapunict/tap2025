{
 "cells": [
  {
   "cell_type": "raw",
   "metadata": {},
   "source": [
    "---\n",
    "title: \"Spark Kafka Integration\"\n",
    "author: \"Salvo Nicotra\"\n",
    "format: \n",
    "    revealjs:\n",
    "        width: 1280\n",
    "        heigth: 800\n",
    "incremental: true  \n",
    "execute:\n",
    "  echo: true\n",
    "  warning: false\n",
    "theme: white\n",
    "chalkboard: true\n",
    "css: style.css\n",
    "smaller: true\n",
    "scrollable: true\n",
    "include-before: |\n",
    "    <img src=\"images/unict-logo.png\" class=\"custom-logo\" alt=\"Logo\">\n",
    "include-after: |\n",
    "      <div class=\"custom-footer\">\n",
    "        *** Technologies for advanced programming (TAP) - 2024/2025 ***\n",
    "      </div>\n",
    "---"
   ]
  },
  {
   "cell_type": "markdown",
   "metadata": {
    "slideshow": {
     "slide_type": "slide"
    }
   },
   "source": [
    "![image.png](https://miro.medium.com/max/1400/1*5rairMYDqDpTmzytnqpYnQ.jpeg)\n",
    "[Medium](https://medium.com/@naivetech/the-connection-between-spark-streaming-and-apache-kafka-with-java-9fcdc701a8ad)"
   ]
  },
  {
   "cell_type": "markdown",
   "metadata": {
    "editable": true,
    "slideshow": {
     "slide_type": "subslide"
    },
    "tags": []
   },
   "source": [
    "## Spark Streaming + Kafka Integration Guide (Kafka broker version 0.10.0 or higher\n",
    "[Link](https://spark.apache.org/docs/latest/streaming-kafka-0-10-integration.html)\n",
    "\n",
    ":::: {.columns}\n",
    "\n",
    "::: {.fragment .column width=\"50%\"}\n",
    "The Spark Streaming integration for Kafka 0.10 provides simple parallelism, 1:1 correspondence between Kafka partitions and Spark partitions, and access to offsets and metadata. However, because the newer integration uses the new [Kafka consumer API](https://kafka.apache.org/documentation.html#newconsumerapi) instead of the simple API, there are notable differences in usage.\n",
    "::: \n",
    "\n",
    "::: {.fragment .column width=\"50%\"}\n",
    "![](https://i.imgflip.com/57d4er.jpg)\n",
    "[NicsMeme](https://imgflip.com/i/57d4er)\n",
    ":::\n",
    "::::\n"
   ]
  },
  {
   "cell_type": "markdown",
   "metadata": {
    "editable": true,
    "slideshow": {
     "slide_type": "slide"
    },
    "tags": []
   },
   "source": [
    "## Structured Streaming + Kafka Integration Guide (Kafka broker version 0.10.0 or higher)\n",
    "[Link](https://spark.apache.org/docs/latest/structured-streaming-kafka-integration.html)\n",
    "\n",
    "Structured Streaming integration for Kafka 0.10 to read data from and write data to Kafka.\n",
    "\n",
    ":::: {.columns}\n",
    "\n",
    "::: {.fragment .column width=\"50%\"}\n",
    "**Linking**\n",
    "For Scala/Java applications using SBT/Maven project definitions, link your application with the following artifact:\n",
    "\n",
    "```properties\n",
    "groupId = org.apache.spark\n",
    "artifactId = spark-sql-kafka-0-10_2.12\n",
    "version = 3.5.3\n",
    "```\n",
    "\n",
    "- For Python applications, add this above library and its dependencies when deploying application.\n",
    "- For spark-shell, add this above library and its dependencies too when invoking spark-shell\n",
    "::: \n",
    "\n",
    "::: {.fragment .column width=\"50%\"}\n",
    "**Example** \n",
    "\n",
    "```bash\n",
    "cd quickstart/kafka-pyspark-structured-streaming-demo\n",
    "docker compose up\n",
    "\n",
    "docker exec -it broker /bin/bash\n",
    "/opt/kafka/bin/kafka-console-producer.sh --bootstrap-server broker:9092 --topic tap\n",
    "\n",
    "```\n",
    ":::\n",
    "::::"
   ]
  },
  {
   "cell_type": "markdown",
   "metadata": {
    "editable": true,
    "slideshow": {
     "slide_type": "slide"
    },
    "tags": []
   },
   "source": [
    "## Creating a Kafka Source\n",
    "\n",
    ":::: {.columns}\n",
    "\n",
    "::: {.fragment .column width=\"50%\"}\n",
    "### Streaming Queries\n",
    "\n",
    "Standard approach, connects Kafka topics (one or more) and run queries\n",
    "\n",
    "```python\n",
    "# Subscribe to 1 topic\n",
    "df = spark \\\n",
    "  .readStream \\\n",
    "  .format(\"kafka\") \\\n",
    "  .option(\"kafka.bootstrap.servers\", \"host1:port1,host2:port2\") \\\n",
    "  .option(\"subscribe\", \"topic1\") \\\n",
    "  .load()\n",
    "df.selectExpr(\"CAST(key AS STRING)\", \"CAST(value AS STRING)\")\n",
    "```\n",
    "::: \n",
    "\n",
    "::: {.fragment .column width=\"50%\"}\n",
    "### Batch Queries\n",
    "\n",
    "If you have a use case that is better suited to batch processing, you can create a Dataset/DataFrame for a defined range of offsets.\n",
    "\n",
    "```python\n",
    "df = spark \\\n",
    "  .read \\\n",
    "  .format(\"kafka\") \\\n",
    "  .option(\"kafka.bootstrap.servers\", \"host1:port1,host2:port2\") \\\n",
    "  .option(\"subscribe\", \"topic1\") \\\n",
    "  .load()\n",
    "df.selectExpr(\"CAST(key AS STRING)\", \"CAST(value AS STRING)\")\n",
    "```\n",
    ":::\n",
    "::::\n"
   ]
  },
  {
   "cell_type": "markdown",
   "metadata": {
    "editable": true,
    "slideshow": {
     "slide_type": "subslide"
    },
    "tags": []
   },
   "source": [
    "### Row format\n",
    "\n",
    "| Column             | Type      |\n",
    "|--------------------|-----------|\n",
    "| key                | binary    |\n",
    "| value              | binary    |\n",
    "| topic              | string    |\n",
    "| partition          | int       |\n",
    "| offset             | long      |\n",
    "| timestamp          | timestamp |\n",
    "| timestampType      | int       |\n",
    "| headers (optional) | array     |"
   ]
  },
  {
   "cell_type": "markdown",
   "metadata": {
    "editable": true,
    "slideshow": {
     "slide_type": "subslide"
    },
    "tags": []
   },
   "source": [
    "## Kafka Required Options\n",
    "| Option                  | value                                       | meaning                                                                                                                                      |\n",
    "|-------------------------|---------------------------------------------|----------------------------------------------------------------------------------------------------------------------------------------------|\n",
    "| assign                  | json string {\"topicA\":[0,1],\"topicB\":[2,4]} | Specific TopicPartitions to consume. Only one of \"assign\", \"subscribe\" or \"subscribePattern\" options can be specified for Kafka source.      |\n",
    "| subscribe               | A comma-separated list of topics            | The topic list to subscribe. Only one of \"assign\", \"subscribe\" or \"subscribePattern\" options can be specified for Kafka source.              |\n",
    "| subscribePattern        | Java regex string                           | The pattern used to subscribe to topic(s). Only one of \"assign, \"subscribe\" or \"subscribePattern\" options can be specified for Kafka source. |\n",
    "| kafka.bootstrap.servers | A comma-separated list of host:port         | The Kafka \"bootstrap.servers\" configuration.                                                                                                 |"
   ]
  },
  {
   "cell_type": "markdown",
   "metadata": {
    "editable": true,
    "slideshow": {
     "slide_type": "subslide"
    },
    "tags": []
   },
   "source": [
    "## Kafka Optional Options\n",
    "| Option                      | value                                                                                                      | default                                        | query type          | meaning                                                                                                                                                                                                                                                                                                                                                                                                                                                                                                                                                                                                                                                                                                                                                                                                                                                                                                                                                                                                                                                                                                                                                                                                                                       |\n",
    "|-----------------------------|------------------------------------------------------------------------------------------------------------|------------------------------------------------|---------------------|-----------------------------------------------------------------------------------------------------------------------------------------------------------------------------------------------------------------------------------------------------------------------------------------------------------------------------------------------------------------------------------------------------------------------------------------------------------------------------------------------------------------------------------------------------------------------------------------------------------------------------------------------------------------------------------------------------------------------------------------------------------------------------------------------------------------------------------------------------------------------------------------------------------------------------------------------------------------------------------------------------------------------------------------------------------------------------------------------------------------------------------------------------------------------------------------------------------------------------------------------|\n",
    "| startingOffsetsByTimestamp  | json string \"\"\" {\"topicA\":{\"0\": 1000, \"1\": 1000}, \"topicB\": {\"0\": 2000, \"1\": 2000}} \"\"\"                    | none (the value of startingOffsets will apply) | streaming and batch | The start point of timestamp when a query is started, a json string specifying a starting timestamp for each TopicPartition. The returned offset for each partition is the earliest offset whose timestamp is greater than or equal to the given timestamp in the corresponding partition. If the matched offset doesn't exist, the query will fail immediately to prevent unintended read from such partition. (This is a kind of limitation as of now, and will be addressed in near future.)  Spark simply passes the timestamp information to KafkaConsumer.offsetsForTimes, and doesn't interpret or reason about the value. For more details on KafkaConsumer.offsetsForTimes, please refer javadoc for details. Also the meaning of timestamp here can be vary according to Kafka configuration (log.message.timestamp.type): please refer Kafka documentation for further details. Note: This option requires Kafka 0.10.1.0 or higher. Note2: startingOffsetsByTimestamp takes precedence over startingOffsets. Note3: For streaming queries, this only applies when a new query is started, and that resuming will always pick up from where the query left off. Newly discovered partitions during a query will start at earliest. |\n",
    "| startingOffsets             | \"earliest\", \"latest\" (streaming only), or json string \"\"\" {\"topicA\":{\"0\":23,\"1\":-1},\"topicB\":{\"0\":-2}} \"\"\" | \"latest\" for streaming, \"earliest\" for batch   | streaming and batch | The start point when a query is started, either \"earliest\" which is from the earliest offsets, \"latest\" which is just from the latest offsets, or a json string specifying a starting offset for each TopicPartition. In the json, -2 as an offset can be used to refer to earliest, -1 to latest. Note: For batch queries, latest (either implicitly or by using -1 in json) is not allowed. For streaming queries, this only applies when a new query is started, and that resuming will always pick up from where the query left off. Newly discovered partitions during a query will start at earliest.                                                                                                                                                                                                                                                                                                                                                                                                                                                                                                                                                                                                                                   |\n",
    "| endingOffsetsByTimestamp    | json string \"\"\" {\"topicA\":{\"0\": 1000, \"1\": 1000}, \"topicB\": {\"0\": 2000, \"1\": 2000}} \"\"\"                    | latest                                         | batch query         | The end point when a batch query is ended, a json string specifying an ending timestamp for each TopicPartition. The returned offset for each partition is the earliest offset whose timestamp is greater than or equal to the given timestamp in the corresponding partition. If the matched offset doesn't exist, the offset will be set to latest.  Spark simply passes the timestamp information to KafkaConsumer.offsetsForTimes, and doesn't interpret or reason about the value. For more details on KafkaConsumer.offsetsForTimes, please refer javadoc for details. Also the meaning of timestamp here can be vary according to Kafka configuration (log.message.timestamp.type): please refer Kafka documentation for further details. Note: This option requires Kafka 0.10.1.0 or higher. Note2: endingOffsetsByTimestamp takes precedence over endingOffsets.                                                                                                                                                                                                                                                                                                                                                                    |\n",
    "| endingOffsets               | latest or json string {\"topicA\":{\"0\":23,\"1\":-1},\"topicB\":{\"0\":-1}}                                         | latest                                         | batch query         | The end point when a batch query is ended, either \"latest\" which is just referred to the latest, or a json string specifying an ending offset for each TopicPartition. In the json, -1 as an offset can be used to refer to latest, and -2 (earliest) as an offset is not allowed.                                                                                                                                                                                                                                                                                                                                                                                                                                                                                                                                                                                                                                                                                                                                                                                                                                                                                                                                                            |\n",
    "| failOnDataLoss              | true or false                                                                                              | true                                           | streaming and batch | Whether to fail the query when it's possible that data is lost (e.g., topics are deleted, or offsets are out of range). This may be a false alarm. You can disable it when it doesn't work as you expected.                                                                                                                                                                                                                                                                                                                                                                                                                                                                                                                                                                                                                                                                                                                                                                                                                                                                                                                                                                                                                                   |\n",
    "| kafkaConsumer.pollTimeoutMs | long                                                                                                       | 120000                                         | streaming and batch | The timeout in milliseconds to poll data from Kafka in executors. When not defined it falls back to spark.network.timeout.                                                                                                                                                                                                                                                                                                                                                                                                                                                                                                                                                                                                                                                                                                                                                                                                                                                                                                                                                                                                                                                                                                                    |\n",
    "| fetchOffset.numRetries      | int                                                                                                        | 3                                              | streaming and batch | Number of times to retry before giving up fetching Kafka offsets.                                                                                                                                                                                                                                                                                                                                                                                                                                                                                                                                                                                                                                                                                                                                                                                                                                                                                                                                                                                                                                                                                                                                                                             |\n",
    "| fetchOffset.retryIntervalMs | long                                                                                                       | 10                                             | streaming and batch | milliseconds to wait before retrying to fetch Kafka offsets                                                                                                                                                                                                                                                                                                                                                                                                                                                                                                                                                                                                                                                                                                                                                                                                                                                                                                                                                                                                                                                                                                                                                                                   |\n",
    "| maxOffsetsPerTrigger        | long                                                                                                       | none                                           | streaming and batch | Rate limit on maximum number of offsets processed per trigger interval. The specified total number of offsets will be proportionally split across topicPartitions of different volume.                                                                                                                                                                                                                                                                                                                                                                                                                                                                                                                                                                                                                                                                                                                                                                                                                                                                                                                                                                                                                                                        |\n",
    "| minPartitions               | int                                                                                                        | none                                           | streaming and batch | Desired minimum number of partitions to read from Kafka. By default, Spark has a 1-1 mapping of topicPartitions to Spark partitions consuming from Kafka. If you set this option to a value greater than your topicPartitions, Spark will divvy up large Kafka partitions to smaller pieces. Please note that this configuration is like a hint: the number of Spark tasks will be approximately minPartitions. It can be less or more depending on rounding errors or Kafka partitions that didn't receive any new data.                                                                                                                                                                                                                                                                                                                                                                                                                                                                                                                                                                                                                                                                                                                     |\n",
    "| groupIdPrefix               | string                                                                                                     | spark-kafka-source                             | streaming and batch | Prefix of consumer group identifiers (group.id) that are generated by structured streaming queries. If \"kafka.group.id\" is set, this option will be ignored.                                                                                                                                                                                                                                                                                                                                                                                                                                                                                                                                                                                                                                                                                                                                                                                                                                                                                                                                                                                                                                                                                  |\n",
    "| kafka.group.id              | string                                                                                                     | none                                           | streaming and batch | The Kafka group id to use in Kafka consumer while reading from Kafka. Use this with caution. By default, each query generates a unique group id for reading data. This ensures that each Kafka source has its own consumer group that does not face interference from any other consumer, and therefore can read all of the partitions of its subscribed topics. In some scenarios (for example, Kafka group-based authorization), you may want to use a specific authorized group id to read data. You can optionally set the group id. However, do this with extreme caution as it can cause unexpected behavior. Concurrently running queries (both, batch and streaming) or sources with the same group id are likely interfere with each other causing each query to read only part of the data. This may also occur when queries are started/restarted in quick succession. To minimize such issues, set the Kafka consumer session timeout (by setting option \"kafka.session.timeout.ms\") to be very small. When this is set, option \"groupIdPrefix\" will be ignored.                                                                                                                                                                  |\n",
    "| includeHeaders              | boolean                                                                                                    | false                                          | streaming and batch | Whether to include the Kafka headers in the row.                                                                                                                                                                                                                                                                                                                                                                                                                                                                                                                                                                                                                                                                                                                                                                                                                                                                                                                                                                                                                                                                                                                                                                                              |"
   ]
  },
  {
   "cell_type": "markdown",
   "metadata": {
    "editable": true,
    "slideshow": {
     "slide_type": "subslide"
    },
    "tags": []
   },
   "source": [
    "## Kafka Specific Configurations\n",
    "Kafka’s own configurations can be set via DataStreamReader.option with kafka. prefix, e.g, stream.option(\"kafka.bootstrap.servers\", \"host:port\"). For possible kafka parameters, see Kafka consumer config docs for parameters related to reading data, and Kafka producer config docs for parameters related to writing data.\n",
    "\n",
    "Note that the following Kafka params cannot be set and the Kafka source or sink will throw an exception:\n",
    "\n",
    "- group.id: Kafka source will create a unique group id for each query automatically. The user can set the prefix of the automatically generated group.id’s via the optional source option groupIdPrefix, default value is “spark-kafka-source”. You can also set “kafka.group.id” to force Spark to use a special group id, however, please read warnings for this option and use it with caution.\n",
    "- auto.offset.reset: Set the source option startingOffsets to specify where to start instead. Structured Streaming manages which offsets are consumed internally, rather than rely on the kafka Consumer to do it. This will ensure that no data is missed when new topics/partitions are dynamically subscribed. Note that startingOffsets only applies when a new streaming query is started, and that resuming will always pick up from where the query left off.\n",
    "- key.deserializer: Keys are always deserialized as byte arrays with ByteArrayDeserializer. Use DataFrame operations to explicitly deserialize the keys.\n",
    "- value.deserializer: Values are always deserialized as byte arrays with ByteArrayDeserializer. Use DataFrame operations to explicitly deserialize the values.\n",
    "- key.serializer: Keys are always serialized with ByteArraySerializer or StringSerializer. Use DataFrame operations to explicitly serialize the keys into either strings or byte arrays.\n",
    "- value.serializer: values are always serialized with ByteArraySerializer or StringSerializer. Use DataFrame operations to explicitly serialize the values into either strings or byte arrays.\n",
    "- enable.auto.commit: Kafka source doesn’t commit any offset.\n",
    "- interceptor.classes: Kafka source always read keys and values as byte arrays. It’s not safe to use ConsumerInterceptor as it may break the query."
   ]
  },
  {
   "cell_type": "markdown",
   "metadata": {
    "editable": true,
    "slideshow": {
     "slide_type": "subslide"
    },
    "tags": []
   },
   "source": [
    "## Deploying"
   ]
  },
  {
   "cell_type": "markdown",
   "metadata": {
    "editable": true,
    "slideshow": {
     "slide_type": "fragment"
    },
    "tags": []
   },
   "source": [
    "As with any Spark applications, spark-submit is used to launch your application. spark-sql-kafka-0-10_2.12 and its dependencies can be directly added to spark-submit using --packages, such as,\n",
    "\n",
    "```bash\n",
    "./bin/spark-submit --packages org.apache.spark:spark-sql-kafka-0-10_2.12:3.5.3...\n",
    "```\n",
    "\n",
    "For experimenting on spark-shell, you can also use --packages to add spark-sql-kafka-0-10_2.12 and its dependencies directly,\n",
    "\n",
    "```bash\n",
    "./bin/spark-shell --packages org.apache.spark:spark-sql-kafka-0-10_2.12:3.5.3 ...\n",
    "```"
   ]
  },
  {
   "cell_type": "markdown",
   "metadata": {
    "editable": true,
    "slideshow": {
     "slide_type": "subslide"
    },
    "tags": []
   },
   "source": [
    "# Biblio"
   ]
  },
  {
   "cell_type": "markdown",
   "metadata": {
    "slideshow": {
     "slide_type": "subslide"
    }
   },
   "source": [
    "* https://www.slideshare.net/databricks/writing-continuous-applications-with-structured-streaming-python-apis-in-apache-spark\n",
    "* https://kontext.tech/column/streaming-analytics/475/spark-structured-streaming-read-from-and-write-into-kafka-topics\n",
    "* https://medium.com/knoldus/kafka-and-spark-streams-the-happily-ever-after-84b6f4b6b509\n"
   ]
  }
 ],
 "metadata": {
  "celltoolbar": "Slideshow",
  "kernelspec": {
   "display_name": "Python 3 (ipykernel)",
   "language": "python",
   "name": "python3"
  },
  "language_info": {
   "codemirror_mode": {
    "name": "ipython",
    "version": 3
   },
   "file_extension": ".py",
   "mimetype": "text/x-python",
   "name": "python",
   "nbconvert_exporter": "python",
   "pygments_lexer": "ipython3",
   "version": "3.10.12"
  },
  "rise": {
   "autolaunch": true,
   "enable_chalkboard": "true",
   "footer": "<div class=\"tap-footer\"> *** Technologies for advanced programming (TAP) - 2024 ***</div>",
   "header": "<div class=\"tap-header\"></div>",
   "scroll": true,
   "theme": "white"
  }
 },
 "nbformat": 4,
 "nbformat_minor": 4
}
