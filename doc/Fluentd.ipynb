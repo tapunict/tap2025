{
 "cells": [
  {
   "cell_type": "raw",
   "metadata": {},
   "source": [
    "---\n",
    "title: \"Fluentd\"\n",
    "author: \"Salvo Nicotra\"\n",
    "format: \n",
    "    revealjs:\n",
    "        width: 1280\n",
    "        heigth: 800\n",
    "incremental: true  \n",
    "execute:\n",
    "  echo: true\n",
    "  warning: false\n",
    "theme: white\n",
    "chalkboard: true\n",
    "css: style.css\n",
    "smaller: true\n",
    "scrollable: true\n",
    "include-before: |\n",
    "    <img src=\"images/unict-logo.png\" class=\"custom-logo\" alt=\"Logo\">\n",
    "include-after: |\n",
    "      <div class=\"custom-footer\">\n",
    "        *** Technologies for advanced programming (TAP) - 2024/2025 ***\n",
    "      </div>\n",
    "---"
   ]
  },
  {
   "cell_type": "markdown",
   "metadata": {
    "editable": true,
    "slideshow": {
     "slide_type": "subslide"
    },
    "tags": []
   },
   "source": [
    "# Build Unified Logging Layer{background-color=\"black\" background-image=\"https://www.fluentd.org/images/fluentd-website-banner-n.jpg\" background-size=\"100%\" background-opacity=\"0.5\" background-position=\"top\"}"
   ]
  },
  {
   "cell_type": "markdown",
   "metadata": {
    "cell_style": "split",
    "slideshow": {
     "slide_type": "subslide"
    }
   },
   "source": [
    "## Unified Logging Layer\n",
    "Fluentd decouples data sources from backend systems by providing a unified logging layer in between.\n",
    "\n",
    ":::: {.columns}\n",
    "\n",
    "::: {.fragment .column width=\"50%\"}\n",
    "\n",
    "**Before Fluentd**\n",
    "\n",
    "![](https://www.fluentd.org/images/fluentd-before.png)\n",
    "::: \n",
    "\n",
    "::: {.fragment .column width=\"50%\"}\n",
    "\n",
    "**After Fluentd**\n",
    "\n",
    "![](https://www.fluentd.org/images/fluentd-architecture.png)\n",
    ":::\n",
    "::::"
   ]
  },
  {
   "cell_type": "markdown",
   "metadata": {
    "cell_style": "split",
    "slideshow": {
     "slide_type": "subslide"
    }
   },
   "source": [
    "## Simple yet Flexible\n",
    "\n",
    ":::: {.columns}\n",
    "\n",
    "::: {.fragment .column width=\"50%\"}\n",
    "\n",
    "- Fluentd's 500+ [plugins](https://www.fluentd.org/plugins/all#input-output) connect it to many data sources and outputs while keeping its core simple.\n",
    "- Plugins are written in Ruby and hosted in rubygems\n",
    "\n",
    "::: \n",
    "\n",
    "::: {.fragment .column width=\"50%\"}\n",
    "![](http://fredericiana.com/media/wp/2012/05/rubygems.jpg)\n",
    "[Source](http://fredericiana.com/2012/05/24/meme-ruby-gems/)\n",
    ":::\n",
    "::::\n",
    "\n"
   ]
  },
  {
   "cell_type": "markdown",
   "metadata": {
    "cell_style": "split",
    "slideshow": {
     "slide_type": "subslide"
    }
   },
   "source": [
    "## Proven\n",
    "\n",
    ":::: {.columns}\n",
    "\n",
    "::: {.fragment .column width=\"50%\"}\n",
    "- 5,000+ data-driven companies rely on Fluentd. \n",
    "- Its largest user currently collects logs from 50,000+ servers.\n",
    "- [Testimonials](https://www.fluentd.org/testimonials)\n",
    "::: \n",
    "\n",
    "::: {.fragment .column width=\"50%\"}\n",
    "Member of\n",
    "[Cloud Native Computing Foundation](https://www.cncf.io/)\n",
    "\n",
    "![](https://www.fluentd.org/images/cncf.png)\n",
    ":::\n",
    "::::\n",
    "\n"
   ]
  },
  {
   "cell_type": "markdown",
   "metadata": {
    "editable": true,
    "slideshow": {
     "slide_type": "subslide"
    },
    "tags": []
   },
   "source": [
    "## Use Cases and How To\n",
    ":::: {.columns}\n",
    "\n",
    "::: {.fragment .column width=\"50%\"}\n",
    "**Use cases**\n",
    "\n",
    "<https://docs.fluentd.org/quickstart#step-2-use-cases>\n",
    "\n",
    "**Treasure Data**\n",
    "\n",
    "- Fluentd is an advanced open-source log collector originally developed at Treasure Data, Inc. Fluentd is specifically designed to solve the big-data log collection problem.\n",
    "- Treasure Data provides Cloud Data Service, which Fluentd users can use to easily store and analyze data on the cloud. Fluentd is designed to flexibly connect with many systems via plugins, but Treasure Data should be your top choice if you don't want to spend engineering resources maintaining your backend infrastructure.\n",
    "::: \n",
    "\n",
    "::: {.fragment .column width=\"50%\"}\n",
    "**How To Guides**\n",
    "\n",
    "<https://docs.fluentd.org/how-to-guides>\n",
    "\n",
    "\n",
    "::: {.callout-warning}\n",
    "- No real use case with Fluentd-Kafka, maybe is more for fluentbit ?\n",
    "- Some consultant <https://fluentd.ctc-america.com/blog/fluentd-with-kafka-1>\n",
    ":::\n",
    "\n",
    ":::\n",
    "::::\n"
   ]
  },
  {
   "cell_type": "markdown",
   "metadata": {
    "editable": true,
    "slideshow": {
     "slide_type": "slide"
    },
    "tags": []
   },
   "source": [
    "# Log data is for machines\n",
    "![](https://www.fluentd.org/images/blog/unified-logging-machine-to-machine.png)\n",
    "https://www.fluentd.org/blog/unified-logging-layer"
   ]
  },
  {
   "cell_type": "markdown",
   "metadata": {
    "editable": true,
    "slideshow": {
     "slide_type": "subslide"
    },
    "tags": []
   },
   "source": [
    "# Fluentd internals"
   ]
  },
  {
   "cell_type": "markdown",
   "metadata": {
    "editable": true,
    "slideshow": {
     "slide_type": "fragment"
    },
    "tags": []
   },
   "source": [
    "## Architecture\n",
    "![](https://www.fluentd.org/images/architecture/pluggable.png){.r-scratch}"
   ]
  },
  {
   "cell_type": "markdown",
   "metadata": {
    "editable": true,
    "slideshow": {
     "slide_type": "subslide"
    },
    "tags": []
   },
   "source": [
    "## Life of a fluentd event\n",
    "<https://docs.fluentd.org/quickstart/life-of-a-fluentd-event>"
   ]
  },
  {
   "cell_type": "markdown",
   "metadata": {
    "cell_style": "split",
    "editable": true,
    "slideshow": {
     "slide_type": "subslide"
    },
    "tags": []
   },
   "source": [
    "### Event Structure\n",
    "\n",
    ":::: {.columns}\n",
    "\n",
    "\n",
    "::: {.fragment .column width=\"50%\"}\n",
    "- tag: Specifies the origin where an event comes from. It is used for\n",
    "message routing.\n",
    "- time: Specifies the time when an event happens with nanosecond resolution.\n",
    "- record: Specifies the actual log as a JSON object.\n",
    "::: \n",
    "\n",
    "::: {.fragment .column width=\"50%\"}\n",
    "![](https://drek4537l1klr.cloudfront.net/wilkins/v-10/Figures/2.1.png)\n",
    "[Source](https://livebook.manning.com/book/logging-in-action/chapter-2/v-10/14>)\n",
    "\n",
    ":::\n",
    "::::\n",
    "\n"
   ]
  },
  {
   "cell_type": "markdown",
   "metadata": {
    "cell_style": "split",
    "editable": true,
    "slideshow": {
     "slide_type": "subslide"
    },
    "tags": []
   },
   "source": [
    "### Configuration File\n",
    "\n",
    ":::: {.columns}\n",
    "\n",
    "::: {.fragment .column width=\"50%\"}\n",
    "The configuration file is the fundamental piece to connect all things together, as it allows to define which Inputs or listeners Fluentd will have and set up common matching rules to route the Event data to a specific Output.\n",
    "::: \n",
    "\n",
    "::: {.fragment .column width=\"50%\"}\n",
    "```config\n",
    "<source>\n",
    "  @type http\n",
    "  port 8888\n",
    "  bind 0.0.0.0\n",
    "</source>\n",
    "\n",
    "<filter test.cycle>\n",
    "  @type grep\n",
    "  <exclude>\n",
    "    key action\n",
    "    pattern ^logout$\n",
    "  </exclude>\n",
    "</filter>\n",
    "\n",
    "<match test.cycle>\n",
    "  @type stdout\n",
    "</match>\n",
    "```\n",
    ":::\n",
    "::::\n",
    "\n"
   ]
  },
  {
   "cell_type": "markdown",
   "metadata": {
    "editable": true,
    "slideshow": {
     "slide_type": "subslide"
    },
    "tags": []
   },
   "source": [
    "### Processing Events\n",
    "- When a Setup is defined, the Router Engine contains several predefined rules to apply to different input data. \n",
    "- Internally, an Event will to pass through a chain of procedures that may alter its lifecycle.\n",
    "\n",
    "![](https://docs.fluentd.org/~gitbook/image?url=https%3A%2F%2F1982584918-files.gitbook.io%2F%7E%2Ffiles%2Fv0%2Fb%2Fgitbook-legacy-files%2Fo%2Fassets%252F-LR7OsqPORtP86IQxs6E%252F-MVwXvk8kRUuvZ8uRcvR%252F-MVw_k4ndwOYIGej0jll%252FScreen%2520Shot%25202021-03-16%2520at%252012.50.12%2520PM.png%3Falt%3Dmedia%26token%3D1b6e2cce-6670-4be2-b007-44700b42d7dc&width=768&dpr=4&quality=100&sign=c3151ad7&sv=1){.fragment}"
   ]
  },
  {
   "cell_type": "markdown",
   "metadata": {
    "editable": true,
    "slideshow": {
     "slide_type": "subslide"
    },
    "tags": []
   },
   "source": [
    "## Plugin types{background-color=\"white\" background-image=\"https://ithemes.com/wp-content/uploads/2017/05/what-is-a-plugin.png\" background-size=\"50%\" background-opacity=\"0.2\" background-position=\"center\"}\n",
    "<https://docs.fluentd.org/input>\n",
    "\n",
    ":::: {.columns}\n",
    "\n",
    "::: {.fragment .column width=\"50%\"}\n",
    "Fluentd has 9 types of plugins:\n",
    "\n",
    "- [Input](https://docs.fluentd.org/input): retrieve and pull event logs from the external sources\n",
    "- [Parser](https://docs.fluentd.org/parser): depends on Input type, verify if the event input is syntactly correct. \n",
    "- [Filter](https://docs.fluentd.org/filter): allows to filter data, add/delete/mask fields\n",
    "- [Output](https://docs.fluentd.org/output): sends data to destination\n",
    "- [Formatter](https://docs.fluentd.org/formatter): For an output plugin that supports Formatter, the <format> directive can be used to change the output format.\n",
    "\n",
    "\n",
    "\n",
    "::: \n",
    "\n",
    "::: {.fragment .column width=\"50%\"}\n",
    "- [Storage](https://docs.fluentd.org/storage): maintains durable information in the ingestion phase\n",
    "- [Service Discovery](https://docs.fluentd.org/service_discovery): For output plugins, allows to define rules to select destinations (load balancing,...)\n",
    "- [Buffer](https://docs.fluentd.org/buffer): Define chunks for output plugins\n",
    "- [Metrics](https://docs.fluentd.org/metrics): To monitor fluentd\n",
    ":::\n",
    "::::\n"
   ]
  },
  {
   "cell_type": "markdown",
   "metadata": {
    "editable": true,
    "slideshow": {
     "slide_type": "subslide"
    },
    "tags": []
   },
   "source": [
    "# Demo Netcat\n",
    "<https://docs.fluentd.org/container-deployment/install-by-docker>\n",
    "\n",
    ":::: {.columns}\n",
    "\n",
    "::: {.fragment .column width=\"50%\"}\n",
    "**Conf** \n",
    "\n",
    "```\n",
    "<source>\n",
    "  @type http\n",
    "  port 9880\n",
    "  bind 0.0.0.0\n",
    "</source>\n",
    "\n",
    "# accept all log events regardless of tag and write them to the console\n",
    "<match **>\n",
    "    @type stdout\n",
    "</match>\n",
    " ```\n",
    "\n",
    "::: \n",
    "\n",
    "::: {.fragment .column width=\"50%\"}\n",
    "**Run** \n",
    "```bash\n",
    "docker run --rm --hostname='fluentd' -p 9880:9880` -v\\ \n",
    "$(pwd)/conf:/fluentd/etc fluentd -c /fluentd/etc/fluentd.conf\n",
    "```\n",
    ":::\n",
    "::::\n",
    "\n",
    "::: {.fragment}\n",
    "**Test**\n",
    "```bash\n",
    "curl -X POST -d 'json={\"json\":\"Hello World\"}' http://127.0.0.1:9880/sample.test\n",
    "```\n",
    ":::\n"
   ]
  },
  {
   "attachments": {},
   "cell_type": "markdown",
   "metadata": {
    "editable": true,
    "slideshow": {
     "slide_type": "slide"
    },
    "tags": []
   },
   "source": [
    "# Fluent Bit{background-color=\"white\" background-image=\"https://fluentbit.io/images/hero.svg\" background-size=\"100%\" background-opacity=\"0.8\" background-position=\"center\"}\n",
    "\n",
    "<https://fluentbit.io/>"
   ]
  },
  {
   "cell_type": "markdown",
   "metadata": {
    "editable": true,
    "slideshow": {
     "slide_type": "subslide"
    },
    "tags": []
   },
   "source": [
    "## A basic example\n",
    "<https://docs.fluentbit.io/manual/installation/docker>\n",
    "\n",
    "```bash\n",
    "docker run -ti cr.fluentbit.io/fluent/fluent-bit -i cpu -o stdout\n",
    "```"
   ]
  },
  {
   "cell_type": "markdown",
   "metadata": {
    "editable": true,
    "slideshow": {
     "slide_type": "slide"
    },
    "tags": []
   },
   "source": [
    "# Calyptia\n",
    "<https://calyptia.com/>\n",
    "\n",
    ":::: {.columns}\n",
    "\n",
    "::: {.fragment .column width=\"50%\"}\n",
    "**Log Pipelines Simplified**\n",
    "\n",
    "From the maintainers of Fluent Bit and Fluentd, Calyptia Core enables you to seamlessly manage your data from source to destination. We enable turnkey log collection, aggregation, transformation, and forwarding from any source to any destination.\n",
    "\n",
    "::: {.callout-important}\n",
    "Chronosphere has acquired Calyptia. Chronosphere is the only cloud native observability platform that helps teams quickly resolve incidents before they impact the customer experience and the bottom line. Combined with the power of Calyptia, Chronosphere provides end-to-end control and insights into your observability data.\n",
    ":::\n",
    "\n",
    "::: \n",
    "\n",
    "::: {.fragment .column width=\"50%\"}\n",
    "![](https://calyptia.com/_next/image?url=https%3A%2F%2Fwww.datocms-assets.com%2F97087%2F1684794673-banneranimation.gif&w=3840&q=75)\n",
    ":::\n",
    "::::\n",
    "\n"
   ]
  },
  {
   "cell_type": "code",
   "execution_count": null,
   "metadata": {
    "editable": true,
    "slideshow": {
     "slide_type": ""
    },
    "tags": []
   },
   "outputs": [],
   "source": []
  }
 ],
 "metadata": {
  "celltoolbar": "Slideshow",
  "kernelspec": {
   "display_name": "Python 3 (ipykernel)",
   "language": "python",
   "name": "python3"
  },
  "language_info": {
   "codemirror_mode": {
    "name": "ipython",
    "version": 3
   },
   "file_extension": ".py",
   "mimetype": "text/x-python",
   "name": "python",
   "nbconvert_exporter": "python",
   "pygments_lexer": "ipython3",
   "version": "3.10.12"
  },
  "rise": {
   "autolaunch": true,
   "enable_chalkboard": "true",
   "footer": "<div class=\"tap-footer\"> *** Technologies for advanced programming (TAP) - 2024 ***</div>",
   "header": "<div class=\"tap-header\"></div>",
   "scroll": true,
   "theme": "white"
  }
 },
 "nbformat": 4,
 "nbformat_minor": 4
}
